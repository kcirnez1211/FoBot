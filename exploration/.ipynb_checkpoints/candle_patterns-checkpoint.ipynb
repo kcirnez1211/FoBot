{
 "cells": [
  {
   "cell_type": "code",
   "execution_count": 1,
   "id": "5dac0963-5b47-47a5-97e8-bc48105c6a88",
   "metadata": {},
   "outputs": [
    {
     "name": "stderr",
     "output_type": "stream",
     "text": [
      "C:\\Users\\HP\\AppData\\Local\\Temp\\ipykernel_12772\\1401656125.py:4: DeprecationWarning: \n",
      "Pyarrow will become a required dependency of pandas in the next major release of pandas (pandas 3.0),\n",
      "(to allow more performant data types, such as the Arrow string type, and better interoperability with other libraries)\n",
      "but was not found to be installed on your system.\n",
      "If this would cause problems for you,\n",
      "please provide us feedback at https://github.com/pandas-dev/pandas/issues/54466\n",
      "        \n",
      "  import pandas as pd\n"
     ]
    }
   ],
   "source": [
    "import sys\n",
    "sys.path.append(\"../\")\n",
    "from plotting import CandlePlot\n",
    "import pandas as pd\n",
    "from technicals.patterns import apply_patterns"
   ]
  },
  {
   "cell_type": "code",
   "execution_count": 2,
   "id": "5e2ed944-b83e-41c1-bd61-b25e0faecbda",
   "metadata": {},
   "outputs": [],
   "source": [
    "df = pd.read_pickle(\"../data/GBP_JPY_H1.pkl\")"
   ]
  },
  {
   "cell_type": "code",
   "execution_count": 3,
   "id": "cb1b2d85-0931-43d2-b8a8-5f1a787c222e",
   "metadata": {},
   "outputs": [],
   "source": [
    "\n",
    "df_an = df[['time','mid_o','mid_h','mid_l','mid_c']].copy()"
   ]
  },
  {
   "cell_type": "code",
   "execution_count": 4,
   "id": "3e350c98-3bd4-4473-8401-d6b81bc59d23",
   "metadata": {},
   "outputs": [
    {
     "data": {
      "text/html": [
       "<div>\n",
       "<style scoped>\n",
       "    .dataframe tbody tr th:only-of-type {\n",
       "        vertical-align: middle;\n",
       "    }\n",
       "\n",
       "    .dataframe tbody tr th {\n",
       "        vertical-align: top;\n",
       "    }\n",
       "\n",
       "    .dataframe thead th {\n",
       "        text-align: right;\n",
       "    }\n",
       "</style>\n",
       "<table border=\"1\" class=\"dataframe\">\n",
       "  <thead>\n",
       "    <tr style=\"text-align: right;\">\n",
       "      <th></th>\n",
       "      <th>time</th>\n",
       "      <th>mid_o</th>\n",
       "      <th>mid_h</th>\n",
       "      <th>mid_l</th>\n",
       "      <th>mid_c</th>\n",
       "    </tr>\n",
       "  </thead>\n",
       "  <tbody>\n",
       "    <tr>\n",
       "      <th>37219</th>\n",
       "      <td>2021-12-30 19:00:00+00:00</td>\n",
       "      <td>155.312</td>\n",
       "      <td>155.444</td>\n",
       "      <td>155.274</td>\n",
       "      <td>155.444</td>\n",
       "    </tr>\n",
       "    <tr>\n",
       "      <th>37220</th>\n",
       "      <td>2021-12-30 20:00:00+00:00</td>\n",
       "      <td>155.442</td>\n",
       "      <td>155.470</td>\n",
       "      <td>155.289</td>\n",
       "      <td>155.312</td>\n",
       "    </tr>\n",
       "    <tr>\n",
       "      <th>37221</th>\n",
       "      <td>2021-12-30 21:00:00+00:00</td>\n",
       "      <td>155.317</td>\n",
       "      <td>155.382</td>\n",
       "      <td>155.286</td>\n",
       "      <td>155.382</td>\n",
       "    </tr>\n",
       "    <tr>\n",
       "      <th>37222</th>\n",
       "      <td>2021-12-30 22:00:00+00:00</td>\n",
       "      <td>155.353</td>\n",
       "      <td>155.381</td>\n",
       "      <td>155.282</td>\n",
       "      <td>155.329</td>\n",
       "    </tr>\n",
       "    <tr>\n",
       "      <th>37223</th>\n",
       "      <td>2021-12-30 23:00:00+00:00</td>\n",
       "      <td>155.336</td>\n",
       "      <td>155.360</td>\n",
       "      <td>155.284</td>\n",
       "      <td>155.310</td>\n",
       "    </tr>\n",
       "  </tbody>\n",
       "</table>\n",
       "</div>"
      ],
      "text/plain": [
       "                           time    mid_o    mid_h    mid_l    mid_c\n",
       "37219 2021-12-30 19:00:00+00:00  155.312  155.444  155.274  155.444\n",
       "37220 2021-12-30 20:00:00+00:00  155.442  155.470  155.289  155.312\n",
       "37221 2021-12-30 21:00:00+00:00  155.317  155.382  155.286  155.382\n",
       "37222 2021-12-30 22:00:00+00:00  155.353  155.381  155.282  155.329\n",
       "37223 2021-12-30 23:00:00+00:00  155.336  155.360  155.284  155.310"
      ]
     },
     "execution_count": 4,
     "metadata": {},
     "output_type": "execute_result"
    }
   ],
   "source": [
    "df_an.tail()"
   ]
  },
  {
   "cell_type": "code",
   "execution_count": 5,
   "id": "e4dd6275-1b99-4d52-a4f9-bb085d69333a",
   "metadata": {},
   "outputs": [],
   "source": [
    "# direction = df_an.mid_c - df_an.mid_o\n",
    "# body_size = abs(direction)\n",
    "# direction = [1 if x>=0 else -1 for x in direction]\n",
    "# full_range = df_an.mid_h - df_an.mid_l\n",
    "# body_perc = (body_size/full_range)*100\n",
    "# body_lower = df_an[['mid_o','mid_c']].min(axis=1)\n",
    "# body_upper = df_an[['mid_o','mid_c']].max(axis=1)\n",
    "# body_bottom_perc = ((body_lower-df_an.mid_l)/full_range)*100\n",
    "# body_top_perc = 100 - (((df_an.mid_h-body_upper)/full_range)*100)"
   ]
  },
  {
   "cell_type": "code",
   "execution_count": 6,
   "id": "ca31f93b-30ac-403b-aa90-772274aa6fa4",
   "metadata": {},
   "outputs": [],
   "source": [
    "# df_an['body_lower'] = body_lower\n",
    "# df_an['body_upper'] = body_upper\n",
    "# df_an['body_bottom_perc'] = body_bottom_perc\n",
    "# df_an['body_top_perc'] = body_top_perc\n",
    "# df_an['body_perc'] = body_perc"
   ]
  },
  {
   "cell_type": "code",
   "execution_count": 7,
   "id": "bfae8590-76e8-4a83-90cc-0dc3560dc14d",
   "metadata": {},
   "outputs": [],
   "source": [
    "df_an = apply_patterns(df_an)"
   ]
  },
  {
   "cell_type": "code",
   "execution_count": 11,
   "id": "656703a2-d5ca-4153-9461-1defd2a79041",
   "metadata": {},
   "outputs": [],
   "source": [
    "HANGING_MAN_BODY = 15.0\n",
    "HANGING_MAN_HEIGHT = 75.0\n",
    "SHOOTING_STAR_HEIGHT = 25.0\n",
    "SPINNING_TOP_MAX = 60.0\n",
    "SPINNING_TOP_MIN = 40.0\n",
    "MARUBOZU = 98.0\n",
    "ENGULFING_FACTOR = 1.1\n",
    "\n",
    "apply_marubozu = lambda x:x.body_perc>MARUBOZU\n",
    "\n",
    "def apply_hanging_man(row):\n",
    "    if row.body_bottom_perc > HANGING_MAN_HEIGHT:\n",
    "        if row.body_perc < HANGING_MAN_BODY:\n",
    "            return True\n",
    "    return False\n",
    "def apply_shooting_star(row):\n",
    "    if row.body_top_perc < SHOOTING_STAR_HEIGHT:\n",
    "        if row.body_perc < HANGING_MAN_BODY:\n",
    "            return True\n",
    "    return False\n",
    "def apply_spinning_top(row):\n",
    "    if row.body_top_perc < SPINNING_TOP_MAX:\n",
    "        if row.body_bottom_perc > SPINNING_TOP_MIN:\n",
    "            if row.body_perc < HANGING_MAN_BODY:\n",
    "                return True\n",
    "    return False\n",
    "def apply_engulfing(row):\n",
    "    if row.direction != row.direction_prev:\n",
    "        if row.body_size > row.body_size_prev * ENGULFING_FACTOR:\n",
    "            return True\n",
    "    return False\n",
    "\n",
    "TWEEZER_BODY = 15.0\n",
    "TWEEZER_HL = 0.01\n",
    "TWEEZER_TOP_BODY = 40.0\n",
    "TWEEZER_BOTTOM_BODY = 60.0\n",
    "\n",
    "def apply_tweezer_top(row):\n",
    "    if abs(row.body_size_change) < TWEEZER_BODY:\n",
    "        if row.direction == -1 and row.direction!=row.direction_prev:\n",
    "            if abs(row.low_change)<TWEEZER_HL and abs(row.high_change)<TWEEZER_HL:\n",
    "                if row.body_top_perc<TWEEZER_TOP_BODY:\n",
    "                    return True\n",
    "    return False\n",
    "\n",
    "def apply_tweezer_bottom(row):\n",
    "    if abs(row.body_size_change) < TWEEZER_BODY:\n",
    "        if row.direction == 1 and row.direction!=row.direction_prev:\n",
    "            if abs(row.low_change)<TWEEZER_HL and abs(row.high_change)<TWEEZER_HL:\n",
    "                if row.body_bottom_perc>TWEEZER_TOP_BODY:\n",
    "                    return True\n",
    "    return False\n",
    "\n",
    "MORNING_STAR_PREV2_BODY = 90.0\n",
    "MORNING_STAR_PREV_BODY = 10.0\n",
    "\n",
    "def apply_morning_star(row,direction=1):\n",
    "    if row.body_perc_prev_2 > MORNING_STAR_PREV2_BODY:\n",
    "        if row.body_perc_prev < MORNING_STAR_PREV_BODY:\n",
    "            if row.direction == direction and row.direction_prev_2 != direction:\n",
    "                if direction == 1:\n",
    "                    if row.mid_c > row.mid_point_prev_2:\n",
    "                        return True\n",
    "                else:\n",
    "                    if row.mid_c < row.mid_point_prev_2:\n",
    "                        return True\n",
    "    return False"
   ]
  },
  {
   "cell_type": "code",
   "execution_count": 19,
   "id": "f693678f-5cea-4a93-8a55-153ea38266ad",
   "metadata": {},
   "outputs": [],
   "source": [
    "df_an['body_size_prev'] = df_an.body_size.shift(1)\n",
    "df_an['direction_prev'] = df_an.direction.shift(1)\n",
    "df_an['direction_prev_2'] = df_an.direction.shift(2)\n",
    "df_an['body_perc_prev'] = df_an.body_perc.shift(1)\n",
    "df_an['body_perc_prev_2'] = df_an.body_perc.shift(2)\n",
    "df_an['HANGING_MAN'] = df_an.apply(apply_hanging_man,axis=1)\n",
    "df_an['SHOOTING_STAR'] = df_an.apply(apply_shooting_star,axis=1)\n",
    "df_an['SPINNING_TOP'] = df_an.apply(apply_spinning_top,axis=1)\n",
    "df_an['MARUBOZU'] = df_an.apply(apply_marubozu,axis=1)\n",
    "df_an['ENGULFING'] = df_an.apply(apply_engulfing,axis=1)\n",
    "df_an['TWEEZER_TOP'] = df_an.apply(apply_tweezer_top,axis=1)\n",
    "df_an['TWEEZER_BOTTOM'] = df_an.apply(apply_tweezer_bottom,axis=1)\n",
    "df_an['MORNING_STAR'] = df_an.apply(apply_morning_star,axis=1)\n",
    "df_an['EVENING_STAR'] = df_an.apply(apply_morning_star,axis=1,direction=-1)"
   ]
  },
  {
   "cell_type": "code",
   "execution_count": 14,
   "id": "ad3249d8-45bc-4014-836a-f5e2bd352033",
   "metadata": {},
   "outputs": [],
   "source": [
    "import plotly.graph_objects as go"
   ]
  },
  {
   "cell_type": "code",
   "execution_count": 20,
   "id": "030d7f57-1425-4bf3-9494-30b4aefcd431",
   "metadata": {},
   "outputs": [
    {
     "data": {
      "application/vnd.plotly.v1+json": {
       "config": {
        "plotlyServerURL": "https://plot.ly"
       },
       "data": [
        {
         "close": [
          162.029,
          162.004,
          162.344,
          162.126,
          162.075,
          161.82,
          161.936,
          161.758,
          161.616,
          161.667,
          161.534,
          161.554,
          161.632,
          161.557,
          161.412,
          161.308,
          160.74,
          160.596,
          160.494,
          160.734,
          160.814,
          160.7,
          160.875,
          161.257,
          161.923,
          162.112,
          161.846,
          161.534,
          161.764,
          161.826,
          161.696,
          161.844,
          161.168,
          160.878,
          160.904,
          161.005,
          161.361,
          161.22,
          161.038,
          160.976,
          160.709,
          160.798,
          160.532,
          160.622,
          160.5,
          160.598,
          159.924,
          159.805,
          160.148,
          160.12,
          159.973,
          160.086,
          160.023,
          160.113,
          160.142,
          160.094,
          159.676,
          159.662,
          159.87,
          159.738,
          159.676,
          159.652,
          159.645,
          159.668,
          159.943,
          159.994,
          159.825,
          159.949,
          159.91,
          160.095,
          160.36,
          160.562,
          160.943,
          160.864,
          161.062,
          161.35,
          161.259,
          161.132,
          161.05,
          160.86,
          160.936,
          161.308,
          161.28,
          161.496,
          161.504,
          161.529,
          161.344,
          161.31,
          161.232,
          161.081,
          161.5,
          161.356,
          161.588,
          161.6,
          162.185,
          162.214,
          161.788,
          161.208,
          161.285,
          161.509
         ],
         "decreasing": {
          "fillcolor": "#cc2e3c",
          "line": {
           "color": "#ff3a4c"
          }
         },
         "high": [
          162.248,
          162.256,
          162.36,
          162.447,
          162.174,
          162.133,
          162.026,
          161.992,
          161.829,
          161.72,
          161.675,
          161.594,
          161.704,
          161.689,
          161.634,
          161.632,
          161.302,
          160.914,
          160.678,
          160.742,
          160.998,
          160.933,
          160.96,
          161.396,
          162.008,
          162.24,
          162.178,
          161.89,
          161.764,
          161.924,
          161.874,
          161.866,
          161.876,
          161.31,
          160.934,
          161.158,
          161.41,
          161.412,
          161.302,
          161.25,
          161.117,
          161.046,
          160.915,
          160.68,
          160.87,
          160.648,
          160.598,
          160.042,
          160.19,
          160.291,
          160.231,
          160.165,
          160.112,
          160.15,
          160.176,
          160.168,
          160.094,
          159.8,
          159.884,
          159.916,
          159.89,
          159.842,
          159.808,
          159.833,
          159.992,
          160.25,
          160.05,
          160.1,
          160.185,
          160.296,
          160.418,
          161.016,
          160.948,
          161.004,
          161.124,
          161.352,
          161.345,
          161.326,
          161.208,
          161.126,
          160.986,
          161.445,
          161.352,
          161.555,
          161.584,
          161.537,
          161.58,
          161.436,
          161.654,
          161.44,
          161.5,
          161.572,
          161.702,
          161.92,
          162.188,
          162.895,
          162.312,
          161.95,
          161.301,
          161.626
         ],
         "increasing": {
          "fillcolor": "#24a06b",
          "line": {
           "color": "#2ec886"
          }
         },
         "line": {
          "width": 1
         },
         "low": [
          161.748,
          161.951,
          161.943,
          162.019,
          161.876,
          161.818,
          161.806,
          161.74,
          161.413,
          161.336,
          161.366,
          161.419,
          161.526,
          161.492,
          161.302,
          161.196,
          160.474,
          160.518,
          160.38,
          160.498,
          160.736,
          160.56,
          160.609,
          160.76,
          161.156,
          161.886,
          161.8,
          161.494,
          161.496,
          161.733,
          161.638,
          161.556,
          161.12,
          160.698,
          160.668,
          160.778,
          160.98,
          161.124,
          160.822,
          160.736,
          160.632,
          160.712,
          160.484,
          160.31,
          160.498,
          160.437,
          159.768,
          159.601,
          159.77,
          159.99,
          159.884,
          159.912,
          159.958,
          159.988,
          160.054,
          160.004,
          159.63,
          159.526,
          159.56,
          159.665,
          159.634,
          159.636,
          159.634,
          159.552,
          159.484,
          159.935,
          159.67,
          159.746,
          159.853,
          159.914,
          160.07,
          160.118,
          160.515,
          160.776,
          160.818,
          161.011,
          161.05,
          161.116,
          160.96,
          160.813,
          160.736,
          160.895,
          161.138,
          161.25,
          161.426,
          161.37,
          161.334,
          160.956,
          161.004,
          160.884,
          161.053,
          161.256,
          161.004,
          161.328,
          161.408,
          161.95,
          161.524,
          160.982,
          161.07,
          161.149
         ],
         "opacity": 1,
         "open": [
          161.768,
          162.03,
          161.999,
          162.35,
          162.126,
          162.076,
          161.982,
          161.924,
          161.764,
          161.614,
          161.668,
          161.536,
          161.554,
          161.633,
          161.556,
          161.414,
          161.302,
          160.736,
          160.591,
          160.5,
          160.736,
          160.815,
          160.706,
          160.876,
          161.257,
          161.928,
          162.112,
          161.847,
          161.532,
          161.764,
          161.862,
          161.695,
          161.842,
          161.168,
          160.872,
          160.904,
          161,
          161.366,
          161.222,
          161.038,
          160.976,
          160.714,
          160.798,
          160.526,
          160.624,
          160.499,
          160.598,
          159.926,
          159.808,
          160.146,
          160.119,
          159.974,
          160.086,
          160.024,
          160.099,
          160.144,
          160.094,
          159.67,
          159.66,
          159.87,
          159.74,
          159.672,
          159.652,
          159.651,
          159.668,
          159.942,
          159.998,
          159.824,
          159.952,
          159.916,
          160.1,
          160.362,
          160.562,
          160.944,
          160.869,
          161.062,
          161.344,
          161.262,
          161.183,
          161.051,
          160.861,
          160.93,
          161.31,
          161.28,
          161.496,
          161.51,
          161.53,
          161.338,
          161.31,
          161.232,
          161.076,
          161.497,
          161.356,
          161.588,
          161.599,
          162.188,
          162.215,
          161.786,
          161.207,
          161.292
         ],
         "type": "candlestick",
         "x": [
          "s16-03-04 16:00",
          "s16-03-04 17:00",
          "s16-03-04 18:00",
          "s16-03-04 19:00",
          "s16-03-04 20:00",
          "s16-03-04 21:00",
          "s16-03-06 22:00",
          "s16-03-06 23:00",
          "s16-03-07 00:00",
          "s16-03-07 01:00",
          "s16-03-07 02:00",
          "s16-03-07 03:00",
          "s16-03-07 04:00",
          "s16-03-07 05:00",
          "s16-03-07 06:00",
          "s16-03-07 07:00",
          "s16-03-07 08:00",
          "s16-03-07 09:00",
          "s16-03-07 10:00",
          "s16-03-07 11:00",
          "s16-03-07 12:00",
          "s16-03-07 13:00",
          "s16-03-07 14:00",
          "s16-03-07 15:00",
          "s16-03-07 16:00",
          "s16-03-07 17:00",
          "s16-03-07 18:00",
          "s16-03-07 19:00",
          "s16-03-07 20:00",
          "s16-03-07 21:00",
          "s16-03-07 22:00",
          "s16-03-07 23:00",
          "s16-03-08 00:00",
          "s16-03-08 01:00",
          "s16-03-08 02:00",
          "s16-03-08 03:00",
          "s16-03-08 04:00",
          "s16-03-08 05:00",
          "s16-03-08 06:00",
          "s16-03-08 07:00",
          "s16-03-08 08:00",
          "s16-03-08 09:00",
          "s16-03-08 10:00",
          "s16-03-08 11:00",
          "s16-03-08 12:00",
          "s16-03-08 13:00",
          "s16-03-08 14:00",
          "s16-03-08 15:00",
          "s16-03-08 16:00",
          "s16-03-08 17:00",
          "s16-03-08 18:00",
          "s16-03-08 19:00",
          "s16-03-08 20:00",
          "s16-03-08 21:00",
          "s16-03-08 22:00",
          "s16-03-08 23:00",
          "s16-03-09 00:00",
          "s16-03-09 01:00",
          "s16-03-09 02:00",
          "s16-03-09 03:00",
          "s16-03-09 04:00",
          "s16-03-09 05:00",
          "s16-03-09 06:00",
          "s16-03-09 07:00",
          "s16-03-09 08:00",
          "s16-03-09 09:00",
          "s16-03-09 10:00",
          "s16-03-09 11:00",
          "s16-03-09 12:00",
          "s16-03-09 13:00",
          "s16-03-09 14:00",
          "s16-03-09 15:00",
          "s16-03-09 16:00",
          "s16-03-09 17:00",
          "s16-03-09 18:00",
          "s16-03-09 19:00",
          "s16-03-09 20:00",
          "s16-03-09 21:00",
          "s16-03-09 22:00",
          "s16-03-09 23:00",
          "s16-03-10 00:00",
          "s16-03-10 01:00",
          "s16-03-10 02:00",
          "s16-03-10 03:00",
          "s16-03-10 04:00",
          "s16-03-10 05:00",
          "s16-03-10 06:00",
          "s16-03-10 07:00",
          "s16-03-10 08:00",
          "s16-03-10 09:00",
          "s16-03-10 10:00",
          "s16-03-10 11:00",
          "s16-03-10 12:00",
          "s16-03-10 13:00",
          "s16-03-10 14:00",
          "s16-03-10 15:00",
          "s16-03-10 16:00",
          "s16-03-10 17:00",
          "s16-03-10 18:00",
          "s16-03-10 19:00"
         ]
        },
        {
         "close": [
          159.87
         ],
         "decreasing": {
          "fillcolor": "#0066FF",
          "line": {
           "color": "#0066FF"
          }
         },
         "high": [
          159.884
         ],
         "increasing": {
          "fillcolor": "#0066FF",
          "line": {
           "color": "#0066FF"
          }
         },
         "line": {
          "width": 1
         },
         "low": [
          159.56
         ],
         "opacity": 1,
         "open": [
          159.66
         ],
         "type": "candlestick",
         "x": [
          "s16-03-09 02:00"
         ]
        }
       ],
       "layout": {
        "font": {
         "color": "#e1e1e1"
        },
        "height": 400,
        "margin": {
         "b": 10,
         "l": 10,
         "r": 10,
         "t": 10
        },
        "paper_bgcolor": "#2c303c",
        "plot_bgcolor": "#2c303c",
        "template": {
         "data": {
          "bar": [
           {
            "error_x": {
             "color": "#2a3f5f"
            },
            "error_y": {
             "color": "#2a3f5f"
            },
            "marker": {
             "line": {
              "color": "#E5ECF6",
              "width": 0.5
             },
             "pattern": {
              "fillmode": "overlay",
              "size": 10,
              "solidity": 0.2
             }
            },
            "type": "bar"
           }
          ],
          "barpolar": [
           {
            "marker": {
             "line": {
              "color": "#E5ECF6",
              "width": 0.5
             },
             "pattern": {
              "fillmode": "overlay",
              "size": 10,
              "solidity": 0.2
             }
            },
            "type": "barpolar"
           }
          ],
          "carpet": [
           {
            "aaxis": {
             "endlinecolor": "#2a3f5f",
             "gridcolor": "white",
             "linecolor": "white",
             "minorgridcolor": "white",
             "startlinecolor": "#2a3f5f"
            },
            "baxis": {
             "endlinecolor": "#2a3f5f",
             "gridcolor": "white",
             "linecolor": "white",
             "minorgridcolor": "white",
             "startlinecolor": "#2a3f5f"
            },
            "type": "carpet"
           }
          ],
          "choropleth": [
           {
            "colorbar": {
             "outlinewidth": 0,
             "ticks": ""
            },
            "type": "choropleth"
           }
          ],
          "contour": [
           {
            "colorbar": {
             "outlinewidth": 0,
             "ticks": ""
            },
            "colorscale": [
             [
              0,
              "#0d0887"
             ],
             [
              0.1111111111111111,
              "#46039f"
             ],
             [
              0.2222222222222222,
              "#7201a8"
             ],
             [
              0.3333333333333333,
              "#9c179e"
             ],
             [
              0.4444444444444444,
              "#bd3786"
             ],
             [
              0.5555555555555556,
              "#d8576b"
             ],
             [
              0.6666666666666666,
              "#ed7953"
             ],
             [
              0.7777777777777778,
              "#fb9f3a"
             ],
             [
              0.8888888888888888,
              "#fdca26"
             ],
             [
              1,
              "#f0f921"
             ]
            ],
            "type": "contour"
           }
          ],
          "contourcarpet": [
           {
            "colorbar": {
             "outlinewidth": 0,
             "ticks": ""
            },
            "type": "contourcarpet"
           }
          ],
          "heatmap": [
           {
            "colorbar": {
             "outlinewidth": 0,
             "ticks": ""
            },
            "colorscale": [
             [
              0,
              "#0d0887"
             ],
             [
              0.1111111111111111,
              "#46039f"
             ],
             [
              0.2222222222222222,
              "#7201a8"
             ],
             [
              0.3333333333333333,
              "#9c179e"
             ],
             [
              0.4444444444444444,
              "#bd3786"
             ],
             [
              0.5555555555555556,
              "#d8576b"
             ],
             [
              0.6666666666666666,
              "#ed7953"
             ],
             [
              0.7777777777777778,
              "#fb9f3a"
             ],
             [
              0.8888888888888888,
              "#fdca26"
             ],
             [
              1,
              "#f0f921"
             ]
            ],
            "type": "heatmap"
           }
          ],
          "heatmapgl": [
           {
            "colorbar": {
             "outlinewidth": 0,
             "ticks": ""
            },
            "colorscale": [
             [
              0,
              "#0d0887"
             ],
             [
              0.1111111111111111,
              "#46039f"
             ],
             [
              0.2222222222222222,
              "#7201a8"
             ],
             [
              0.3333333333333333,
              "#9c179e"
             ],
             [
              0.4444444444444444,
              "#bd3786"
             ],
             [
              0.5555555555555556,
              "#d8576b"
             ],
             [
              0.6666666666666666,
              "#ed7953"
             ],
             [
              0.7777777777777778,
              "#fb9f3a"
             ],
             [
              0.8888888888888888,
              "#fdca26"
             ],
             [
              1,
              "#f0f921"
             ]
            ],
            "type": "heatmapgl"
           }
          ],
          "histogram": [
           {
            "marker": {
             "pattern": {
              "fillmode": "overlay",
              "size": 10,
              "solidity": 0.2
             }
            },
            "type": "histogram"
           }
          ],
          "histogram2d": [
           {
            "colorbar": {
             "outlinewidth": 0,
             "ticks": ""
            },
            "colorscale": [
             [
              0,
              "#0d0887"
             ],
             [
              0.1111111111111111,
              "#46039f"
             ],
             [
              0.2222222222222222,
              "#7201a8"
             ],
             [
              0.3333333333333333,
              "#9c179e"
             ],
             [
              0.4444444444444444,
              "#bd3786"
             ],
             [
              0.5555555555555556,
              "#d8576b"
             ],
             [
              0.6666666666666666,
              "#ed7953"
             ],
             [
              0.7777777777777778,
              "#fb9f3a"
             ],
             [
              0.8888888888888888,
              "#fdca26"
             ],
             [
              1,
              "#f0f921"
             ]
            ],
            "type": "histogram2d"
           }
          ],
          "histogram2dcontour": [
           {
            "colorbar": {
             "outlinewidth": 0,
             "ticks": ""
            },
            "colorscale": [
             [
              0,
              "#0d0887"
             ],
             [
              0.1111111111111111,
              "#46039f"
             ],
             [
              0.2222222222222222,
              "#7201a8"
             ],
             [
              0.3333333333333333,
              "#9c179e"
             ],
             [
              0.4444444444444444,
              "#bd3786"
             ],
             [
              0.5555555555555556,
              "#d8576b"
             ],
             [
              0.6666666666666666,
              "#ed7953"
             ],
             [
              0.7777777777777778,
              "#fb9f3a"
             ],
             [
              0.8888888888888888,
              "#fdca26"
             ],
             [
              1,
              "#f0f921"
             ]
            ],
            "type": "histogram2dcontour"
           }
          ],
          "mesh3d": [
           {
            "colorbar": {
             "outlinewidth": 0,
             "ticks": ""
            },
            "type": "mesh3d"
           }
          ],
          "parcoords": [
           {
            "line": {
             "colorbar": {
              "outlinewidth": 0,
              "ticks": ""
             }
            },
            "type": "parcoords"
           }
          ],
          "pie": [
           {
            "automargin": true,
            "type": "pie"
           }
          ],
          "scatter": [
           {
            "fillpattern": {
             "fillmode": "overlay",
             "size": 10,
             "solidity": 0.2
            },
            "type": "scatter"
           }
          ],
          "scatter3d": [
           {
            "line": {
             "colorbar": {
              "outlinewidth": 0,
              "ticks": ""
             }
            },
            "marker": {
             "colorbar": {
              "outlinewidth": 0,
              "ticks": ""
             }
            },
            "type": "scatter3d"
           }
          ],
          "scattercarpet": [
           {
            "marker": {
             "colorbar": {
              "outlinewidth": 0,
              "ticks": ""
             }
            },
            "type": "scattercarpet"
           }
          ],
          "scattergeo": [
           {
            "marker": {
             "colorbar": {
              "outlinewidth": 0,
              "ticks": ""
             }
            },
            "type": "scattergeo"
           }
          ],
          "scattergl": [
           {
            "marker": {
             "colorbar": {
              "outlinewidth": 0,
              "ticks": ""
             }
            },
            "type": "scattergl"
           }
          ],
          "scattermapbox": [
           {
            "marker": {
             "colorbar": {
              "outlinewidth": 0,
              "ticks": ""
             }
            },
            "type": "scattermapbox"
           }
          ],
          "scatterpolar": [
           {
            "marker": {
             "colorbar": {
              "outlinewidth": 0,
              "ticks": ""
             }
            },
            "type": "scatterpolar"
           }
          ],
          "scatterpolargl": [
           {
            "marker": {
             "colorbar": {
              "outlinewidth": 0,
              "ticks": ""
             }
            },
            "type": "scatterpolargl"
           }
          ],
          "scatterternary": [
           {
            "marker": {
             "colorbar": {
              "outlinewidth": 0,
              "ticks": ""
             }
            },
            "type": "scatterternary"
           }
          ],
          "surface": [
           {
            "colorbar": {
             "outlinewidth": 0,
             "ticks": ""
            },
            "colorscale": [
             [
              0,
              "#0d0887"
             ],
             [
              0.1111111111111111,
              "#46039f"
             ],
             [
              0.2222222222222222,
              "#7201a8"
             ],
             [
              0.3333333333333333,
              "#9c179e"
             ],
             [
              0.4444444444444444,
              "#bd3786"
             ],
             [
              0.5555555555555556,
              "#d8576b"
             ],
             [
              0.6666666666666666,
              "#ed7953"
             ],
             [
              0.7777777777777778,
              "#fb9f3a"
             ],
             [
              0.8888888888888888,
              "#fdca26"
             ],
             [
              1,
              "#f0f921"
             ]
            ],
            "type": "surface"
           }
          ],
          "table": [
           {
            "cells": {
             "fill": {
              "color": "#EBF0F8"
             },
             "line": {
              "color": "white"
             }
            },
            "header": {
             "fill": {
              "color": "#C8D4E3"
             },
             "line": {
              "color": "white"
             }
            },
            "type": "table"
           }
          ]
         },
         "layout": {
          "annotationdefaults": {
           "arrowcolor": "#2a3f5f",
           "arrowhead": 0,
           "arrowwidth": 1
          },
          "autotypenumbers": "strict",
          "coloraxis": {
           "colorbar": {
            "outlinewidth": 0,
            "ticks": ""
           }
          },
          "colorscale": {
           "diverging": [
            [
             0,
             "#8e0152"
            ],
            [
             0.1,
             "#c51b7d"
            ],
            [
             0.2,
             "#de77ae"
            ],
            [
             0.3,
             "#f1b6da"
            ],
            [
             0.4,
             "#fde0ef"
            ],
            [
             0.5,
             "#f7f7f7"
            ],
            [
             0.6,
             "#e6f5d0"
            ],
            [
             0.7,
             "#b8e186"
            ],
            [
             0.8,
             "#7fbc41"
            ],
            [
             0.9,
             "#4d9221"
            ],
            [
             1,
             "#276419"
            ]
           ],
           "sequential": [
            [
             0,
             "#0d0887"
            ],
            [
             0.1111111111111111,
             "#46039f"
            ],
            [
             0.2222222222222222,
             "#7201a8"
            ],
            [
             0.3333333333333333,
             "#9c179e"
            ],
            [
             0.4444444444444444,
             "#bd3786"
            ],
            [
             0.5555555555555556,
             "#d8576b"
            ],
            [
             0.6666666666666666,
             "#ed7953"
            ],
            [
             0.7777777777777778,
             "#fb9f3a"
            ],
            [
             0.8888888888888888,
             "#fdca26"
            ],
            [
             1,
             "#f0f921"
            ]
           ],
           "sequentialminus": [
            [
             0,
             "#0d0887"
            ],
            [
             0.1111111111111111,
             "#46039f"
            ],
            [
             0.2222222222222222,
             "#7201a8"
            ],
            [
             0.3333333333333333,
             "#9c179e"
            ],
            [
             0.4444444444444444,
             "#bd3786"
            ],
            [
             0.5555555555555556,
             "#d8576b"
            ],
            [
             0.6666666666666666,
             "#ed7953"
            ],
            [
             0.7777777777777778,
             "#fb9f3a"
            ],
            [
             0.8888888888888888,
             "#fdca26"
            ],
            [
             1,
             "#f0f921"
            ]
           ]
          },
          "colorway": [
           "#636efa",
           "#EF553B",
           "#00cc96",
           "#ab63fa",
           "#FFA15A",
           "#19d3f3",
           "#FF6692",
           "#B6E880",
           "#FF97FF",
           "#FECB52"
          ],
          "font": {
           "color": "#2a3f5f"
          },
          "geo": {
           "bgcolor": "white",
           "lakecolor": "white",
           "landcolor": "#E5ECF6",
           "showlakes": true,
           "showland": true,
           "subunitcolor": "white"
          },
          "hoverlabel": {
           "align": "left"
          },
          "hovermode": "closest",
          "mapbox": {
           "style": "light"
          },
          "paper_bgcolor": "white",
          "plot_bgcolor": "#E5ECF6",
          "polar": {
           "angularaxis": {
            "gridcolor": "white",
            "linecolor": "white",
            "ticks": ""
           },
           "bgcolor": "#E5ECF6",
           "radialaxis": {
            "gridcolor": "white",
            "linecolor": "white",
            "ticks": ""
           }
          },
          "scene": {
           "xaxis": {
            "backgroundcolor": "#E5ECF6",
            "gridcolor": "white",
            "gridwidth": 2,
            "linecolor": "white",
            "showbackground": true,
            "ticks": "",
            "zerolinecolor": "white"
           },
           "yaxis": {
            "backgroundcolor": "#E5ECF6",
            "gridcolor": "white",
            "gridwidth": 2,
            "linecolor": "white",
            "showbackground": true,
            "ticks": "",
            "zerolinecolor": "white"
           },
           "zaxis": {
            "backgroundcolor": "#E5ECF6",
            "gridcolor": "white",
            "gridwidth": 2,
            "linecolor": "white",
            "showbackground": true,
            "ticks": "",
            "zerolinecolor": "white"
           }
          },
          "shapedefaults": {
           "line": {
            "color": "#2a3f5f"
           }
          },
          "ternary": {
           "aaxis": {
            "gridcolor": "white",
            "linecolor": "white",
            "ticks": ""
           },
           "baxis": {
            "gridcolor": "white",
            "linecolor": "white",
            "ticks": ""
           },
           "bgcolor": "#E5ECF6",
           "caxis": {
            "gridcolor": "white",
            "linecolor": "white",
            "ticks": ""
           }
          },
          "title": {
           "x": 0.05
          },
          "xaxis": {
           "automargin": true,
           "gridcolor": "white",
           "linecolor": "white",
           "ticks": "",
           "title": {
            "standoff": 15
           },
           "zerolinecolor": "white",
           "zerolinewidth": 2
          },
          "yaxis": {
           "automargin": true,
           "gridcolor": "white",
           "linecolor": "white",
           "ticks": "",
           "title": {
            "standoff": 15
           },
           "zerolinecolor": "white",
           "zerolinewidth": 2
          }
         }
        },
        "width": 900,
        "xaxis": {
         "anchor": "y",
         "autorange": false,
         "domain": [
          0,
          0.94
         ],
         "gridcolor": "#1f292f",
         "nticks": 5,
         "range": [
          50.86939052302001,
          64.00309159998349
         ],
         "rangeslider": {
          "visible": false,
          "yaxis": {}
         },
         "type": "category"
        },
        "yaxis": {
         "anchor": "x",
         "autorange": false,
         "domain": [
          0,
          1
         ],
         "gridcolor": "#1f292f",
         "range": [
          159.39495751969892,
          160.31122125596266
         ]
        },
        "yaxis2": {
         "anchor": "x",
         "gridcolor": "#1f292f",
         "overlaying": "y",
         "side": "right"
        }
       }
      },
      "image/png": "[encoded data removed]",
      "text/html": [
       "<div>                            <div id=\"a48a4eec-33e1-43e6-a6b9-d5b6c3c65e17\" class=\"plotly-graph-div\" style=\"height:400px; width:900px;\"></div>            <script type=\"text/javascript\">                require([\"plotly\"], function(Plotly) {                    window.PLOTLYENV=window.PLOTLYENV || {};                                    if (document.getElementById(\"a48a4eec-33e1-43e6-a6b9-d5b6c3c65e17\")) {                    Plotly.newPlot(                        \"a48a4eec-33e1-43e6-a6b9-d5b6c3c65e17\",                        [{\"close\":[162.029,162.004,162.344,162.126,162.075,161.82,161.936,161.758,161.616,161.667,161.534,161.554,161.632,161.557,161.412,161.308,160.74,160.596,160.494,160.734,160.814,160.7,160.875,161.257,161.923,162.112,161.846,161.534,161.764,161.826,161.696,161.844,161.168,160.878,160.904,161.005,161.361,161.22,161.038,160.976,160.709,160.798,160.532,160.622,160.5,160.598,159.924,159.805,160.148,160.12,159.973,160.086,160.023,160.113,160.142,160.094,159.676,159.662,159.87,159.738,159.676,159.652,159.645,159.668,159.943,159.994,159.825,159.949,159.91,160.095,160.36,160.562,160.943,160.864,161.062,161.35,161.259,161.132,161.05,160.86,160.936,161.308,161.28,161.496,161.504,161.529,161.344,161.31,161.232,161.081,161.5,161.356,161.588,161.6,162.185,162.214,161.788,161.208,161.285,161.509],\"decreasing\":{\"fillcolor\":\"#cc2e3c\",\"line\":{\"color\":\"#ff3a4c\"}},\"high\":[162.248,162.256,162.36,162.447,162.174,162.133,162.026,161.992,161.829,161.72,161.675,161.594,161.704,161.689,161.634,161.632,161.302,160.914,160.678,160.742,160.998,160.933,160.96,161.396,162.008,162.24,162.178,161.89,161.764,161.924,161.874,161.866,161.876,161.31,160.934,161.158,161.41,161.412,161.302,161.25,161.117,161.046,160.915,160.68,160.87,160.648,160.598,160.042,160.19,160.291,160.231,160.165,160.112,160.15,160.176,160.168,160.094,159.8,159.884,159.916,159.89,159.842,159.808,159.833,159.992,160.25,160.05,160.1,160.185,160.296,160.418,161.016,160.948,161.004,161.124,161.352,161.345,161.326,161.208,161.126,160.986,161.445,161.352,161.555,161.584,161.537,161.58,161.436,161.654,161.44,161.5,161.572,161.702,161.92,162.188,162.895,162.312,161.95,161.301,161.626],\"increasing\":{\"fillcolor\":\"#24a06b\",\"line\":{\"color\":\"#2ec886\"}},\"line\":{\"width\":1},\"low\":[161.748,161.951,161.943,162.019,161.876,161.818,161.806,161.74,161.413,161.336,161.366,161.419,161.526,161.492,161.302,161.196,160.474,160.518,160.38,160.498,160.736,160.56,160.609,160.76,161.156,161.886,161.8,161.494,161.496,161.733,161.638,161.556,161.12,160.698,160.668,160.778,160.98,161.124,160.822,160.736,160.632,160.712,160.484,160.31,160.498,160.437,159.768,159.601,159.77,159.99,159.884,159.912,159.958,159.988,160.054,160.004,159.63,159.526,159.56,159.665,159.634,159.636,159.634,159.552,159.484,159.935,159.67,159.746,159.853,159.914,160.07,160.118,160.515,160.776,160.818,161.011,161.05,161.116,160.96,160.813,160.736,160.895,161.138,161.25,161.426,161.37,161.334,160.956,161.004,160.884,161.053,161.256,161.004,161.328,161.408,161.95,161.524,160.982,161.07,161.149],\"opacity\":1,\"open\":[161.768,162.03,161.999,162.35,162.126,162.076,161.982,161.924,161.764,161.614,161.668,161.536,161.554,161.633,161.556,161.414,161.302,160.736,160.591,160.5,160.736,160.815,160.706,160.876,161.257,161.928,162.112,161.847,161.532,161.764,161.862,161.695,161.842,161.168,160.872,160.904,161.0,161.366,161.222,161.038,160.976,160.714,160.798,160.526,160.624,160.499,160.598,159.926,159.808,160.146,160.119,159.974,160.086,160.024,160.099,160.144,160.094,159.67,159.66,159.87,159.74,159.672,159.652,159.651,159.668,159.942,159.998,159.824,159.952,159.916,160.1,160.362,160.562,160.944,160.869,161.062,161.344,161.262,161.183,161.051,160.861,160.93,161.31,161.28,161.496,161.51,161.53,161.338,161.31,161.232,161.076,161.497,161.356,161.588,161.599,162.188,162.215,161.786,161.207,161.292],\"x\":[\"s16-03-04 16:00\",\"s16-03-04 17:00\",\"s16-03-04 18:00\",\"s16-03-04 19:00\",\"s16-03-04 20:00\",\"s16-03-04 21:00\",\"s16-03-06 22:00\",\"s16-03-06 23:00\",\"s16-03-07 00:00\",\"s16-03-07 01:00\",\"s16-03-07 02:00\",\"s16-03-07 03:00\",\"s16-03-07 04:00\",\"s16-03-07 05:00\",\"s16-03-07 06:00\",\"s16-03-07 07:00\",\"s16-03-07 08:00\",\"s16-03-07 09:00\",\"s16-03-07 10:00\",\"s16-03-07 11:00\",\"s16-03-07 12:00\",\"s16-03-07 13:00\",\"s16-03-07 14:00\",\"s16-03-07 15:00\",\"s16-03-07 16:00\",\"s16-03-07 17:00\",\"s16-03-07 18:00\",\"s16-03-07 19:00\",\"s16-03-07 20:00\",\"s16-03-07 21:00\",\"s16-03-07 22:00\",\"s16-03-07 23:00\",\"s16-03-08 00:00\",\"s16-03-08 01:00\",\"s16-03-08 02:00\",\"s16-03-08 03:00\",\"s16-03-08 04:00\",\"s16-03-08 05:00\",\"s16-03-08 06:00\",\"s16-03-08 07:00\",\"s16-03-08 08:00\",\"s16-03-08 09:00\",\"s16-03-08 10:00\",\"s16-03-08 11:00\",\"s16-03-08 12:00\",\"s16-03-08 13:00\",\"s16-03-08 14:00\",\"s16-03-08 15:00\",\"s16-03-08 16:00\",\"s16-03-08 17:00\",\"s16-03-08 18:00\",\"s16-03-08 19:00\",\"s16-03-08 20:00\",\"s16-03-08 21:00\",\"s16-03-08 22:00\",\"s16-03-08 23:00\",\"s16-03-09 00:00\",\"s16-03-09 01:00\",\"s16-03-09 02:00\",\"s16-03-09 03:00\",\"s16-03-09 04:00\",\"s16-03-09 05:00\",\"s16-03-09 06:00\",\"s16-03-09 07:00\",\"s16-03-09 08:00\",\"s16-03-09 09:00\",\"s16-03-09 10:00\",\"s16-03-09 11:00\",\"s16-03-09 12:00\",\"s16-03-09 13:00\",\"s16-03-09 14:00\",\"s16-03-09 15:00\",\"s16-03-09 16:00\",\"s16-03-09 17:00\",\"s16-03-09 18:00\",\"s16-03-09 19:00\",\"s16-03-09 20:00\",\"s16-03-09 21:00\",\"s16-03-09 22:00\",\"s16-03-09 23:00\",\"s16-03-10 00:00\",\"s16-03-10 01:00\",\"s16-03-10 02:00\",\"s16-03-10 03:00\",\"s16-03-10 04:00\",\"s16-03-10 05:00\",\"s16-03-10 06:00\",\"s16-03-10 07:00\",\"s16-03-10 08:00\",\"s16-03-10 09:00\",\"s16-03-10 10:00\",\"s16-03-10 11:00\",\"s16-03-10 12:00\",\"s16-03-10 13:00\",\"s16-03-10 14:00\",\"s16-03-10 15:00\",\"s16-03-10 16:00\",\"s16-03-10 17:00\",\"s16-03-10 18:00\",\"s16-03-10 19:00\"],\"type\":\"candlestick\"},{\"close\":[159.87],\"decreasing\":{\"fillcolor\":\"#0066FF\",\"line\":{\"color\":\"#0066FF\"}},\"high\":[159.884],\"increasing\":{\"fillcolor\":\"#0066FF\",\"line\":{\"color\":\"#0066FF\"}},\"line\":{\"width\":1},\"low\":[159.56],\"opacity\":1,\"open\":[159.66],\"x\":[\"s16-03-09 02:00\"],\"type\":\"candlestick\"}],                        {\"template\":{\"data\":{\"histogram2dcontour\":[{\"type\":\"histogram2dcontour\",\"colorbar\":{\"outlinewidth\":0,\"ticks\":\"\"},\"colorscale\":[[0.0,\"#0d0887\"],[0.1111111111111111,\"#46039f\"],[0.2222222222222222,\"#7201a8\"],[0.3333333333333333,\"#9c179e\"],[0.4444444444444444,\"#bd3786\"],[0.5555555555555556,\"#d8576b\"],[0.6666666666666666,\"#ed7953\"],[0.7777777777777778,\"#fb9f3a\"],[0.8888888888888888,\"#fdca26\"],[1.0,\"#f0f921\"]]}],\"choropleth\":[{\"type\":\"choropleth\",\"colorbar\":{\"outlinewidth\":0,\"ticks\":\"\"}}],\"histogram2d\":[{\"type\":\"histogram2d\",\"colorbar\":{\"outlinewidth\":0,\"ticks\":\"\"},\"colorscale\":[[0.0,\"#0d0887\"],[0.1111111111111111,\"#46039f\"],[0.2222222222222222,\"#7201a8\"],[0.3333333333333333,\"#9c179e\"],[0.4444444444444444,\"#bd3786\"],[0.5555555555555556,\"#d8576b\"],[0.6666666666666666,\"#ed7953\"],[0.7777777777777778,\"#fb9f3a\"],[0.8888888888888888,\"#fdca26\"],[1.0,\"#f0f921\"]]}],\"heatmap\":[{\"type\":\"heatmap\",\"colorbar\":{\"outlinewidth\":0,\"ticks\":\"\"},\"colorscale\":[[0.0,\"#0d0887\"],[0.1111111111111111,\"#46039f\"],[0.2222222222222222,\"#7201a8\"],[0.3333333333333333,\"#9c179e\"],[0.4444444444444444,\"#bd3786\"],[0.5555555555555556,\"#d8576b\"],[0.6666666666666666,\"#ed7953\"],[0.7777777777777778,\"#fb9f3a\"],[0.8888888888888888,\"#fdca26\"],[1.0,\"#f0f921\"]]}],\"heatmapgl\":[{\"type\":\"heatmapgl\",\"colorbar\":{\"outlinewidth\":0,\"ticks\":\"\"},\"colorscale\":[[0.0,\"#0d0887\"],[0.1111111111111111,\"#46039f\"],[0.2222222222222222,\"#7201a8\"],[0.3333333333333333,\"#9c179e\"],[0.4444444444444444,\"#bd3786\"],[0.5555555555555556,\"#d8576b\"],[0.6666666666666666,\"#ed7953\"],[0.7777777777777778,\"#fb9f3a\"],[0.8888888888888888,\"#fdca26\"],[1.0,\"#f0f921\"]]}],\"contourcarpet\":[{\"type\":\"contourcarpet\",\"colorbar\":{\"outlinewidth\":0,\"ticks\":\"\"}}],\"contour\":[{\"type\":\"contour\",\"colorbar\":{\"outlinewidth\":0,\"ticks\":\"\"},\"colorscale\":[[0.0,\"#0d0887\"],[0.1111111111111111,\"#46039f\"],[0.2222222222222222,\"#7201a8\"],[0.3333333333333333,\"#9c179e\"],[0.4444444444444444,\"#bd3786\"],[0.5555555555555556,\"#d8576b\"],[0.6666666666666666,\"#ed7953\"],[0.7777777777777778,\"#fb9f3a\"],[0.8888888888888888,\"#fdca26\"],[1.0,\"#f0f921\"]]}],\"surface\":[{\"type\":\"surface\",\"colorbar\":{\"outlinewidth\":0,\"ticks\":\"\"},\"colorscale\":[[0.0,\"#0d0887\"],[0.1111111111111111,\"#46039f\"],[0.2222222222222222,\"#7201a8\"],[0.3333333333333333,\"#9c179e\"],[0.4444444444444444,\"#bd3786\"],[0.5555555555555556,\"#d8576b\"],[0.6666666666666666,\"#ed7953\"],[0.7777777777777778,\"#fb9f3a\"],[0.8888888888888888,\"#fdca26\"],[1.0,\"#f0f921\"]]}],\"mesh3d\":[{\"type\":\"mesh3d\",\"colorbar\":{\"outlinewidth\":0,\"ticks\":\"\"}}],\"scatter\":[{\"fillpattern\":{\"fillmode\":\"overlay\",\"size\":10,\"solidity\":0.2},\"type\":\"scatter\"}],\"parcoords\":[{\"type\":\"parcoords\",\"line\":{\"colorbar\":{\"outlinewidth\":0,\"ticks\":\"\"}}}],\"scatterpolargl\":[{\"type\":\"scatterpolargl\",\"marker\":{\"colorbar\":{\"outlinewidth\":0,\"ticks\":\"\"}}}],\"bar\":[{\"error_x\":{\"color\":\"#2a3f5f\"},\"error_y\":{\"color\":\"#2a3f5f\"},\"marker\":{\"line\":{\"color\":\"#E5ECF6\",\"width\":0.5},\"pattern\":{\"fillmode\":\"overlay\",\"size\":10,\"solidity\":0.2}},\"type\":\"bar\"}],\"scattergeo\":[{\"type\":\"scattergeo\",\"marker\":{\"colorbar\":{\"outlinewidth\":0,\"ticks\":\"\"}}}],\"scatterpolar\":[{\"type\":\"scatterpolar\",\"marker\":{\"colorbar\":{\"outlinewidth\":0,\"ticks\":\"\"}}}],\"histogram\":[{\"marker\":{\"pattern\":{\"fillmode\":\"overlay\",\"size\":10,\"solidity\":0.2}},\"type\":\"histogram\"}],\"scattergl\":[{\"type\":\"scattergl\",\"marker\":{\"colorbar\":{\"outlinewidth\":0,\"ticks\":\"\"}}}],\"scatter3d\":[{\"type\":\"scatter3d\",\"line\":{\"colorbar\":{\"outlinewidth\":0,\"ticks\":\"\"}},\"marker\":{\"colorbar\":{\"outlinewidth\":0,\"ticks\":\"\"}}}],\"scattermapbox\":[{\"type\":\"scattermapbox\",\"marker\":{\"colorbar\":{\"outlinewidth\":0,\"ticks\":\"\"}}}],\"scatterternary\":[{\"type\":\"scatterternary\",\"marker\":{\"colorbar\":{\"outlinewidth\":0,\"ticks\":\"\"}}}],\"scattercarpet\":[{\"type\":\"scattercarpet\",\"marker\":{\"colorbar\":{\"outlinewidth\":0,\"ticks\":\"\"}}}],\"carpet\":[{\"aaxis\":{\"endlinecolor\":\"#2a3f5f\",\"gridcolor\":\"white\",\"linecolor\":\"white\",\"minorgridcolor\":\"white\",\"startlinecolor\":\"#2a3f5f\"},\"baxis\":{\"endlinecolor\":\"#2a3f5f\",\"gridcolor\":\"white\",\"linecolor\":\"white\",\"minorgridcolor\":\"white\",\"startlinecolor\":\"#2a3f5f\"},\"type\":\"carpet\"}],\"table\":[{\"cells\":{\"fill\":{\"color\":\"#EBF0F8\"},\"line\":{\"color\":\"white\"}},\"header\":{\"fill\":{\"color\":\"#C8D4E3\"},\"line\":{\"color\":\"white\"}},\"type\":\"table\"}],\"barpolar\":[{\"marker\":{\"line\":{\"color\":\"#E5ECF6\",\"width\":0.5},\"pattern\":{\"fillmode\":\"overlay\",\"size\":10,\"solidity\":0.2}},\"type\":\"barpolar\"}],\"pie\":[{\"automargin\":true,\"type\":\"pie\"}]},\"layout\":{\"autotypenumbers\":\"strict\",\"colorway\":[\"#636efa\",\"#EF553B\",\"#00cc96\",\"#ab63fa\",\"#FFA15A\",\"#19d3f3\",\"#FF6692\",\"#B6E880\",\"#FF97FF\",\"#FECB52\"],\"font\":{\"color\":\"#2a3f5f\"},\"hovermode\":\"closest\",\"hoverlabel\":{\"align\":\"left\"},\"paper_bgcolor\":\"white\",\"plot_bgcolor\":\"#E5ECF6\",\"polar\":{\"bgcolor\":\"#E5ECF6\",\"angularaxis\":{\"gridcolor\":\"white\",\"linecolor\":\"white\",\"ticks\":\"\"},\"radialaxis\":{\"gridcolor\":\"white\",\"linecolor\":\"white\",\"ticks\":\"\"}},\"ternary\":{\"bgcolor\":\"#E5ECF6\",\"aaxis\":{\"gridcolor\":\"white\",\"linecolor\":\"white\",\"ticks\":\"\"},\"baxis\":{\"gridcolor\":\"white\",\"linecolor\":\"white\",\"ticks\":\"\"},\"caxis\":{\"gridcolor\":\"white\",\"linecolor\":\"white\",\"ticks\":\"\"}},\"coloraxis\":{\"colorbar\":{\"outlinewidth\":0,\"ticks\":\"\"}},\"colorscale\":{\"sequential\":[[0.0,\"#0d0887\"],[0.1111111111111111,\"#46039f\"],[0.2222222222222222,\"#7201a8\"],[0.3333333333333333,\"#9c179e\"],[0.4444444444444444,\"#bd3786\"],[0.5555555555555556,\"#d8576b\"],[0.6666666666666666,\"#ed7953\"],[0.7777777777777778,\"#fb9f3a\"],[0.8888888888888888,\"#fdca26\"],[1.0,\"#f0f921\"]],\"sequentialminus\":[[0.0,\"#0d0887\"],[0.1111111111111111,\"#46039f\"],[0.2222222222222222,\"#7201a8\"],[0.3333333333333333,\"#9c179e\"],[0.4444444444444444,\"#bd3786\"],[0.5555555555555556,\"#d8576b\"],[0.6666666666666666,\"#ed7953\"],[0.7777777777777778,\"#fb9f3a\"],[0.8888888888888888,\"#fdca26\"],[1.0,\"#f0f921\"]],\"diverging\":[[0,\"#8e0152\"],[0.1,\"#c51b7d\"],[0.2,\"#de77ae\"],[0.3,\"#f1b6da\"],[0.4,\"#fde0ef\"],[0.5,\"#f7f7f7\"],[0.6,\"#e6f5d0\"],[0.7,\"#b8e186\"],[0.8,\"#7fbc41\"],[0.9,\"#4d9221\"],[1,\"#276419\"]]},\"xaxis\":{\"gridcolor\":\"white\",\"linecolor\":\"white\",\"ticks\":\"\",\"title\":{\"standoff\":15},\"zerolinecolor\":\"white\",\"automargin\":true,\"zerolinewidth\":2},\"yaxis\":{\"gridcolor\":\"white\",\"linecolor\":\"white\",\"ticks\":\"\",\"title\":{\"standoff\":15},\"zerolinecolor\":\"white\",\"automargin\":true,\"zerolinewidth\":2},\"scene\":{\"xaxis\":{\"backgroundcolor\":\"#E5ECF6\",\"gridcolor\":\"white\",\"linecolor\":\"white\",\"showbackground\":true,\"ticks\":\"\",\"zerolinecolor\":\"white\",\"gridwidth\":2},\"yaxis\":{\"backgroundcolor\":\"#E5ECF6\",\"gridcolor\":\"white\",\"linecolor\":\"white\",\"showbackground\":true,\"ticks\":\"\",\"zerolinecolor\":\"white\",\"gridwidth\":2},\"zaxis\":{\"backgroundcolor\":\"#E5ECF6\",\"gridcolor\":\"white\",\"linecolor\":\"white\",\"showbackground\":true,\"ticks\":\"\",\"zerolinecolor\":\"white\",\"gridwidth\":2}},\"shapedefaults\":{\"line\":{\"color\":\"#2a3f5f\"}},\"annotationdefaults\":{\"arrowcolor\":\"#2a3f5f\",\"arrowhead\":0,\"arrowwidth\":1},\"geo\":{\"bgcolor\":\"white\",\"landcolor\":\"#E5ECF6\",\"subunitcolor\":\"white\",\"showland\":true,\"showlakes\":true,\"lakecolor\":\"white\"},\"title\":{\"x\":0.05},\"mapbox\":{\"style\":\"light\"}}},\"xaxis\":{\"anchor\":\"y\",\"domain\":[0.0,0.94],\"rangeslider\":{\"visible\":false},\"gridcolor\":\"#1f292f\",\"nticks\":5},\"yaxis\":{\"anchor\":\"x\",\"domain\":[0.0,1.0],\"gridcolor\":\"#1f292f\"},\"yaxis2\":{\"anchor\":\"x\",\"overlaying\":\"y\",\"side\":\"right\",\"gridcolor\":\"#1f292f\"},\"margin\":{\"l\":10,\"r\":10,\"t\":10,\"b\":10},\"font\":{\"color\":\"#e1e1e1\"},\"width\":900,\"height\":400,\"paper_bgcolor\":\"#2c303c\",\"plot_bgcolor\":\"#2c303c\"},                        {\"responsive\": true}                    ).then(function(){\n",
       "                            \n",
       "var gd = document.getElementById('a48a4eec-33e1-43e6-a6b9-d5b6c3c65e17');\n",
       "var x = new MutationObserver(function (mutations, observer) {{\n",
       "        var display = window.getComputedStyle(gd).display;\n",
       "        if (!display || display === 'none') {{\n",
       "            console.log([gd, 'removed!']);\n",
       "            Plotly.purge(gd);\n",
       "            observer.disconnect();\n",
       "        }}\n",
       "}});\n",
       "\n",
       "// Listen for the removal of the full notebook cells\n",
       "var notebookContainer = gd.closest('#notebook-container');\n",
       "if (notebookContainer) {{\n",
       "    x.observe(notebookContainer, {childList: true});\n",
       "}}\n",
       "\n",
       "// Listen for the clearing of the current output cell\n",
       "var outputEl = gd.closest('.output');\n",
       "if (outputEl) {{\n",
       "    x.observe(outputEl, {childList: true});\n",
       "}}\n",
       "\n",
       "                        })                };                });            </script>        </div>"
      ]
     },
     "metadata": {},
     "output_type": "display_data"
    }
   ],
   "source": [
    "MARKER = '#0066FF'\n",
    "dfp = df_an.iloc[1000:1100]\n",
    "cp = CandlePlot(dfp,candles=True)\n",
    "df_temp = cp.df_plot[cp.df_plot.MORNING_STAR==True]\n",
    "cp.fig.add_trace(go.Candlestick(\n",
    "                x = df_temp.sTime,\n",
    "                open = df_temp.mid_o,\n",
    "                high =df_temp.mid_h,\n",
    "                low = df_temp.mid_l,\n",
    "                close = df_temp.mid_c,\n",
    "                line = dict(width=1),\n",
    "                opacity = 1,\n",
    "                increasing_fillcolor = MARKER,\n",
    "                decreasing_fillcolor = MARKER,\n",
    "                increasing_line_color = MARKER,\n",
    "                decreasing_line_color = MARKER,\n",
    "            ))\n",
    "cp.show_plot()"
   ]
  },
  {
   "cell_type": "code",
   "execution_count": null,
   "id": "57ffee15-104d-4bb6-848c-4d9075c30fba",
   "metadata": {},
   "outputs": [],
   "source": []
  }
 ],
 "metadata": {
  "kernelspec": {
   "display_name": "Python 3 (ipykernel)",
   "language": "python",
   "name": "python3"
  },
  "language_info": {
   "codemirror_mode": {
    "name": "ipython",
    "version": 3
   },
   "file_extension": ".py",
   "mimetype": "text/x-python",
   "name": "python",
   "nbconvert_exporter": "python",
   "pygments_lexer": "ipython3",
   "version": "3.10.11"
  }
 },
 "nbformat": 4,
 "nbformat_minor": 5
}
