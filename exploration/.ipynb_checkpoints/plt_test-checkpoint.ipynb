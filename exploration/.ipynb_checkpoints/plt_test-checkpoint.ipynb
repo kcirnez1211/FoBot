{
 "cells": [
  {
   "cell_type": "code",
   "execution_count": 12,
   "id": "83808d2e-e913-4de1-af82-455ffb6ed1d6",
   "metadata": {},
   "outputs": [],
   "source": [
    "import pandas as pd\n",
    "import plotly.graph_objects as go\n",
    "import datetime as dt\n",
    "from plotting import CandlePlot"
   ]
  },
  {
   "cell_type": "code",
   "execution_count": 13,
   "id": "7da49fc3-838a-4163-ac53-73f8b748ad71",
   "metadata": {},
   "outputs": [],
   "source": [
    "pair = \"EUR_USD\"\n",
    "granularity = \"H4\"\n",
    "df = pd.read_pickle(f\"../data/{pair}_{granularity}.pkl\")"
   ]
  },
  {
   "cell_type": "code",
   "execution_count": 14,
   "id": "07bdfd91-2fb0-4b0e-b0c0-85dd1ab6b867",
   "metadata": {},
   "outputs": [],
   "source": [
    "df_plot = df.iloc[:100]"
   ]
  },
  {
   "cell_type": "code",
   "execution_count": 15,
   "id": "9f236be6-c2e0-4e73-b4bf-42e0250087be",
   "metadata": {},
   "outputs": [
    {
     "data": {
      "text/plain": [
       "(100, 14)"
      ]
     },
     "execution_count": 15,
     "metadata": {},
     "output_type": "execute_result"
    }
   ],
   "source": [
    "df_plot.shape"
   ]
  },
  {
   "cell_type": "code",
   "execution_count": 17,
   "id": "e5f5ffe1-1472-4b05-a4f8-73e82218f0f4",
   "metadata": {},
   "outputs": [
    {
     "ename": "AttributeError",
     "evalue": "'CandlePlot' object has no attribute 'df'",
     "output_type": "error",
     "traceback": [
      "\u001b[1;31m---------------------------------------------------------------------------\u001b[0m",
      "\u001b[1;31mAttributeError\u001b[0m                            Traceback (most recent call last)",
      "Cell \u001b[1;32mIn[17], line 1\u001b[0m\n\u001b[1;32m----> 1\u001b[0m cp \u001b[38;5;241m=\u001b[39m \u001b[43mCandlePlot\u001b[49m\u001b[43m(\u001b[49m\u001b[43mdf_plot\u001b[49m\u001b[43m)\u001b[49m\n",
      "File \u001b[1;32mE:\\code\\exploration\\plotting.py:7\u001b[0m, in \u001b[0;36mCandlePlot.__init__\u001b[1;34m(self, df)\u001b[0m\n\u001b[0;32m      5\u001b[0m \u001b[38;5;28;01mdef\u001b[39;00m \u001b[38;5;21m__init__\u001b[39m(\u001b[38;5;28mself\u001b[39m,df):\n\u001b[0;32m      6\u001b[0m     \u001b[38;5;28mself\u001b[39m\u001b[38;5;241m.\u001b[39mdf_plot \u001b[38;5;241m=\u001b[39m df\u001b[38;5;241m.\u001b[39mcopy()\n\u001b[1;32m----> 7\u001b[0m     \u001b[38;5;28;43mself\u001b[39;49m\u001b[38;5;241;43m.\u001b[39;49m\u001b[43mcreate_candle_fig\u001b[49m\u001b[43m(\u001b[49m\u001b[43m)\u001b[49m\n",
      "File \u001b[1;32mE:\\code\\exploration\\plotting.py:13\u001b[0m, in \u001b[0;36mCandlePlot.create_candle_fig\u001b[1;34m(self)\u001b[0m\n\u001b[0;32m     12\u001b[0m \u001b[38;5;28;01mdef\u001b[39;00m \u001b[38;5;21mcreate_candle_fig\u001b[39m(\u001b[38;5;28mself\u001b[39m):\n\u001b[1;32m---> 13\u001b[0m     \u001b[38;5;28;43mself\u001b[39;49m\u001b[38;5;241;43m.\u001b[39;49m\u001b[43madd_timestr\u001b[49m\u001b[43m(\u001b[49m\u001b[43m)\u001b[49m\n\u001b[0;32m     14\u001b[0m     \u001b[38;5;28mself\u001b[39m\u001b[38;5;241m.\u001b[39mfig \u001b[38;5;241m=\u001b[39m go\u001b[38;5;241m.\u001b[39mFigure()\n\u001b[0;32m     15\u001b[0m     \u001b[38;5;28mself\u001b[39m\u001b[38;5;241m.\u001b[39mfig\u001b[38;5;241m.\u001b[39madd_trace(go\u001b[38;5;241m.\u001b[39mCandlestick(\n\u001b[0;32m     16\u001b[0m         x \u001b[38;5;241m=\u001b[39m \u001b[38;5;28mself\u001b[39m\u001b[38;5;241m.\u001b[39mdf_plot\u001b[38;5;241m.\u001b[39msTime,\n\u001b[0;32m     17\u001b[0m         \u001b[38;5;28mopen\u001b[39m \u001b[38;5;241m=\u001b[39m \u001b[38;5;28mself\u001b[39m\u001b[38;5;241m.\u001b[39mdf_plot\u001b[38;5;241m.\u001b[39mmid_o,\n\u001b[1;32m   (...)\u001b[0m\n\u001b[0;32m     26\u001b[0m         decreasing_line_color \u001b[38;5;241m=\u001b[39m \u001b[38;5;124m\"\u001b[39m\u001b[38;5;124m#ff3a4c\u001b[39m\u001b[38;5;124m\"\u001b[39m,\n\u001b[0;32m     27\u001b[0m     ))\n",
      "File \u001b[1;32mE:\\code\\exploration\\plotting.py:10\u001b[0m, in \u001b[0;36mCandlePlot.add_timestr\u001b[1;34m(self)\u001b[0m\n\u001b[0;32m      9\u001b[0m \u001b[38;5;28;01mdef\u001b[39;00m \u001b[38;5;21madd_timestr\u001b[39m(\u001b[38;5;28mself\u001b[39m):\n\u001b[1;32m---> 10\u001b[0m     \u001b[38;5;28mself\u001b[39m\u001b[38;5;241m.\u001b[39mdf[\u001b[38;5;124m'\u001b[39m\u001b[38;5;124msTime\u001b[39m\u001b[38;5;124m'\u001b[39m] \u001b[38;5;241m=\u001b[39m [dt\u001b[38;5;241m.\u001b[39mdatetime\u001b[38;5;241m.\u001b[39mstrftime(x,\u001b[38;5;124m\"\u001b[39m\u001b[38;5;124ms\u001b[39m\u001b[38;5;124m%\u001b[39m\u001b[38;5;124my-\u001b[39m\u001b[38;5;124m%\u001b[39m\u001b[38;5;124mm-\u001b[39m\u001b[38;5;132;01m%d\u001b[39;00m\u001b[38;5;124m \u001b[39m\u001b[38;5;124m%\u001b[39m\u001b[38;5;124mH:\u001b[39m\u001b[38;5;124m%\u001b[39m\u001b[38;5;124mM\u001b[39m\u001b[38;5;124m\"\u001b[39m) \u001b[38;5;28;01mfor\u001b[39;00m x \u001b[38;5;129;01min\u001b[39;00m \u001b[38;5;28;43mself\u001b[39;49m\u001b[38;5;241;43m.\u001b[39;49m\u001b[43mdf\u001b[49m\u001b[38;5;241m.\u001b[39mtime]\n",
      "\u001b[1;31mAttributeError\u001b[0m: 'CandlePlot' object has no attribute 'df'"
     ]
    }
   ],
   "source": [
    "cp = CandlePlot(df_plot)"
   ]
  },
  {
   "cell_type": "code",
   "execution_count": null,
   "id": "4b8f56f9-7334-4e9a-9174-6ce27e4645ff",
   "metadata": {},
   "outputs": [],
   "source": []
  },
  {
   "cell_type": "code",
   "execution_count": null,
   "id": "9af35c9b-d7ba-4f20-95cf-f67b87bf190a",
   "metadata": {},
   "outputs": [],
   "source": []
  }
 ],
 "metadata": {
  "kernelspec": {
   "display_name": "Python 3 (ipykernel)",
   "language": "python",
   "name": "python3"
  },
  "language_info": {
   "codemirror_mode": {
    "name": "ipython",
    "version": 3
   },
   "file_extension": ".py",
   "mimetype": "text/x-python",
   "name": "python",
   "nbconvert_exporter": "python",
   "pygments_lexer": "ipython3",
   "version": "3.10.11"
  }
 },
 "nbformat": 4,
 "nbformat_minor": 5
}
