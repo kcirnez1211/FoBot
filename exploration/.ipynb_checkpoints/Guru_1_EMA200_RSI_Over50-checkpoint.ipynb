{
 "cells": [
  {
   "cell_type": "code",
   "execution_count": 84,
   "id": "882f398c-c663-4ee4-a469-befe573355ea",
   "metadata": {},
   "outputs": [],
   "source": [
    "import sys\n",
    "sys.path.append(\"../\")\n",
    "import pandas as pd\n",
    "import datetime as dt\n",
    "import plotly.graph_objects as go\n",
    "from technicals.indicators import RSI\n",
    "from technicals.patterns import apply_patterns\n",
    "from plotting import CandlePlot"
   ]
  },
  {
   "cell_type": "code",
   "execution_count": 53,
   "id": "482b0f12-6904-4665-8be0-a279966072c8",
   "metadata": {},
   "outputs": [],
   "source": [
    "df_raw = pd.read_pickle(\"../data/EUR_USD_H1.pkl\")"
   ]
  },
  {
   "cell_type": "code",
   "execution_count": 54,
   "id": "25eeab22-3d56-4841-ad79-d41558cdaa4c",
   "metadata": {},
   "outputs": [
    {
     "data": {
      "text/plain": [
       "(37219, 14)"
      ]
     },
     "execution_count": 54,
     "metadata": {},
     "output_type": "execute_result"
    }
   ],
   "source": [
    "df_raw.shape"
   ]
  },
  {
   "cell_type": "code",
   "execution_count": 55,
   "id": "930eb552-8907-4d31-b0c9-3a77f8bfee81",
   "metadata": {},
   "outputs": [],
   "source": [
    "df_an = df_raw.copy()#.iloc[-6000:].copy()\n",
    "df_an.reset_index(drop=True,inplace=True)"
   ]
  },
  {
   "cell_type": "code",
   "execution_count": 56,
   "id": "c13fd485-89a0-45aa-8755-8b58a38ee0b9",
   "metadata": {},
   "outputs": [
    {
     "data": {
      "text/plain": [
       "(37219, 14)"
      ]
     },
     "execution_count": 56,
     "metadata": {},
     "output_type": "execute_result"
    }
   ],
   "source": [
    "df_an.shape"
   ]
  },
  {
   "cell_type": "code",
   "execution_count": 57,
   "id": "aad48f68-8e94-4fcc-ac46-09ae57aedd64",
   "metadata": {},
   "outputs": [],
   "source": [
    "df_an = RSI(df_an)"
   ]
  },
  {
   "cell_type": "code",
   "execution_count": 58,
   "id": "60881c06-d8e4-43b5-b0fd-39cf5c97e8d4",
   "metadata": {},
   "outputs": [
    {
     "data": {
      "text/html": [
       "<div>\n",
       "<style scoped>\n",
       "    .dataframe tbody tr th:only-of-type {\n",
       "        vertical-align: middle;\n",
       "    }\n",
       "\n",
       "    .dataframe tbody tr th {\n",
       "        vertical-align: top;\n",
       "    }\n",
       "\n",
       "    .dataframe thead th {\n",
       "        text-align: right;\n",
       "    }\n",
       "</style>\n",
       "<table border=\"1\" class=\"dataframe\">\n",
       "  <thead>\n",
       "    <tr style=\"text-align: right;\">\n",
       "      <th></th>\n",
       "      <th>time</th>\n",
       "      <th>volume</th>\n",
       "      <th>mid_o</th>\n",
       "      <th>mid_h</th>\n",
       "      <th>mid_l</th>\n",
       "      <th>mid_c</th>\n",
       "      <th>bid_o</th>\n",
       "      <th>bid_h</th>\n",
       "      <th>bid_l</th>\n",
       "      <th>bid_c</th>\n",
       "      <th>ask_o</th>\n",
       "      <th>ask_h</th>\n",
       "      <th>ask_l</th>\n",
       "      <th>ask_c</th>\n",
       "      <th>RSI_14</th>\n",
       "    </tr>\n",
       "  </thead>\n",
       "  <tbody>\n",
       "    <tr>\n",
       "      <th>37214</th>\n",
       "      <td>2021-12-30 19:00:00+00:00</td>\n",
       "      <td>1063</td>\n",
       "      <td>1.13058</td>\n",
       "      <td>1.13298</td>\n",
       "      <td>1.13043</td>\n",
       "      <td>1.13274</td>\n",
       "      <td>1.13052</td>\n",
       "      <td>1.13291</td>\n",
       "      <td>1.13036</td>\n",
       "      <td>1.13267</td>\n",
       "      <td>1.13065</td>\n",
       "      <td>1.13306</td>\n",
       "      <td>1.13049</td>\n",
       "      <td>1.13280</td>\n",
       "      <td>51.407635</td>\n",
       "    </tr>\n",
       "    <tr>\n",
       "      <th>37215</th>\n",
       "      <td>2021-12-30 20:00:00+00:00</td>\n",
       "      <td>1092</td>\n",
       "      <td>1.13272</td>\n",
       "      <td>1.13304</td>\n",
       "      <td>1.13185</td>\n",
       "      <td>1.13193</td>\n",
       "      <td>1.13264</td>\n",
       "      <td>1.13297</td>\n",
       "      <td>1.13177</td>\n",
       "      <td>1.13186</td>\n",
       "      <td>1.13279</td>\n",
       "      <td>1.13311</td>\n",
       "      <td>1.13192</td>\n",
       "      <td>1.13200</td>\n",
       "      <td>48.671929</td>\n",
       "    </tr>\n",
       "    <tr>\n",
       "      <th>37216</th>\n",
       "      <td>2021-12-30 21:00:00+00:00</td>\n",
       "      <td>388</td>\n",
       "      <td>1.13195</td>\n",
       "      <td>1.13276</td>\n",
       "      <td>1.13194</td>\n",
       "      <td>1.13258</td>\n",
       "      <td>1.13188</td>\n",
       "      <td>1.13269</td>\n",
       "      <td>1.13187</td>\n",
       "      <td>1.13249</td>\n",
       "      <td>1.13202</td>\n",
       "      <td>1.13283</td>\n",
       "      <td>1.13201</td>\n",
       "      <td>1.13267</td>\n",
       "      <td>50.928675</td>\n",
       "    </tr>\n",
       "    <tr>\n",
       "      <th>37217</th>\n",
       "      <td>2021-12-30 22:00:00+00:00</td>\n",
       "      <td>118</td>\n",
       "      <td>1.13252</td>\n",
       "      <td>1.13264</td>\n",
       "      <td>1.13222</td>\n",
       "      <td>1.13230</td>\n",
       "      <td>1.13204</td>\n",
       "      <td>1.13236</td>\n",
       "      <td>1.13182</td>\n",
       "      <td>1.13218</td>\n",
       "      <td>1.13299</td>\n",
       "      <td>1.13299</td>\n",
       "      <td>1.13236</td>\n",
       "      <td>1.13243</td>\n",
       "      <td>49.910668</td>\n",
       "    </tr>\n",
       "    <tr>\n",
       "      <th>37218</th>\n",
       "      <td>2021-12-30 23:00:00+00:00</td>\n",
       "      <td>507</td>\n",
       "      <td>1.13227</td>\n",
       "      <td>1.13258</td>\n",
       "      <td>1.13190</td>\n",
       "      <td>1.13224</td>\n",
       "      <td>1.13214</td>\n",
       "      <td>1.13251</td>\n",
       "      <td>1.13183</td>\n",
       "      <td>1.13216</td>\n",
       "      <td>1.13240</td>\n",
       "      <td>1.13266</td>\n",
       "      <td>1.13198</td>\n",
       "      <td>1.13231</td>\n",
       "      <td>49.681497</td>\n",
       "    </tr>\n",
       "  </tbody>\n",
       "</table>\n",
       "</div>"
      ],
      "text/plain": [
       "                           time  volume    mid_o    mid_h    mid_l    mid_c  \\\n",
       "37214 2021-12-30 19:00:00+00:00    1063  1.13058  1.13298  1.13043  1.13274   \n",
       "37215 2021-12-30 20:00:00+00:00    1092  1.13272  1.13304  1.13185  1.13193   \n",
       "37216 2021-12-30 21:00:00+00:00     388  1.13195  1.13276  1.13194  1.13258   \n",
       "37217 2021-12-30 22:00:00+00:00     118  1.13252  1.13264  1.13222  1.13230   \n",
       "37218 2021-12-30 23:00:00+00:00     507  1.13227  1.13258  1.13190  1.13224   \n",
       "\n",
       "         bid_o    bid_h    bid_l    bid_c    ask_o    ask_h    ask_l    ask_c  \\\n",
       "37214  1.13052  1.13291  1.13036  1.13267  1.13065  1.13306  1.13049  1.13280   \n",
       "37215  1.13264  1.13297  1.13177  1.13186  1.13279  1.13311  1.13192  1.13200   \n",
       "37216  1.13188  1.13269  1.13187  1.13249  1.13202  1.13283  1.13201  1.13267   \n",
       "37217  1.13204  1.13236  1.13182  1.13218  1.13299  1.13299  1.13236  1.13243   \n",
       "37218  1.13214  1.13251  1.13183  1.13216  1.13240  1.13266  1.13198  1.13231   \n",
       "\n",
       "          RSI_14  \n",
       "37214  51.407635  \n",
       "37215  48.671929  \n",
       "37216  50.928675  \n",
       "37217  49.910668  \n",
       "37218  49.681497  "
      ]
     },
     "execution_count": 58,
     "metadata": {},
     "output_type": "execute_result"
    }
   ],
   "source": [
    "df_an.tail()"
   ]
  },
  {
   "cell_type": "code",
   "execution_count": 59,
   "id": "28966068-4e67-4823-bf0a-a616e329c0e0",
   "metadata": {},
   "outputs": [],
   "source": [
    "df_an = apply_patterns(df_an)"
   ]
  },
  {
   "cell_type": "code",
   "execution_count": 60,
   "id": "d3293a89-0866-44a7-8875-2c2bb065b1ba",
   "metadata": {},
   "outputs": [],
   "source": [
    "df_an['EMA_200'] = df_an.mid_c.ewm(span=200,min_periods=200).mean()"
   ]
  },
  {
   "cell_type": "code",
   "execution_count": 61,
   "id": "a70afa2f-8d25-421e-84ee-d2fe355603f8",
   "metadata": {},
   "outputs": [
    {
     "data": {
      "text/plain": [
       "Index(['time', 'volume', 'mid_o', 'mid_h', 'mid_l', 'mid_c', 'bid_o', 'bid_h',\n",
       "       'bid_l', 'bid_c', 'ask_o', 'ask_h', 'ask_l', 'ask_c', 'RSI_14',\n",
       "       'body_lower', 'body_upper', 'body_bottom_perc', 'body_top_perc',\n",
       "       'body_perc', 'direction', 'body_size', 'low_change', 'high_change',\n",
       "       'body_size_change', 'mid_point', 'mid_point_prev_2', 'body_size_prev',\n",
       "       'direction_prev', 'direction_prev_2', 'body_perc_prev',\n",
       "       'body_perc_prev_2', 'HANGING_MAN', 'SHOOTING_STAR', 'SPINNING_TOP',\n",
       "       'MARUBOZU', 'ENGULFING', 'TWEEZER_TOP', 'TWEEZER_BOTTOM',\n",
       "       'MORNING_STAR', 'EVENING_STAR', 'EMA_200'],\n",
       "      dtype='object')"
      ]
     },
     "execution_count": 61,
     "metadata": {},
     "output_type": "execute_result"
    }
   ],
   "source": [
    "df_an.columns"
   ]
  },
  {
   "cell_type": "code",
   "execution_count": 62,
   "id": "6693e340-62f3-4b0a-8b26-9fa0be8f0c16",
   "metadata": {},
   "outputs": [],
   "source": [
    "our_cols = ['time', 'mid_o', 'mid_h', 'mid_l', 'mid_c', 'ask_c', 'bid_c', 'ENGULFING', 'direction', 'EMA_200', 'RSI_14']"
   ]
  },
  {
   "cell_type": "code",
   "execution_count": 63,
   "id": "29f5abb1-0597-45ac-9cdf-e1fa8c82a68f",
   "metadata": {},
   "outputs": [],
   "source": [
    "df_slim = df_an[our_cols].copy()\n",
    "df_slim.dropna(inplace=True)\n",
    "df_slim.reset_index(drop=True,inplace=True)"
   ]
  },
  {
   "cell_type": "code",
   "execution_count": 64,
   "id": "5bdc5b9f-9447-4222-bdbc-04168d97b3d0",
   "metadata": {},
   "outputs": [
    {
     "data": {
      "text/html": [
       "<div>\n",
       "<style scoped>\n",
       "    .dataframe tbody tr th:only-of-type {\n",
       "        vertical-align: middle;\n",
       "    }\n",
       "\n",
       "    .dataframe tbody tr th {\n",
       "        vertical-align: top;\n",
       "    }\n",
       "\n",
       "    .dataframe thead th {\n",
       "        text-align: right;\n",
       "    }\n",
       "</style>\n",
       "<table border=\"1\" class=\"dataframe\">\n",
       "  <thead>\n",
       "    <tr style=\"text-align: right;\">\n",
       "      <th></th>\n",
       "      <th>time</th>\n",
       "      <th>mid_o</th>\n",
       "      <th>mid_h</th>\n",
       "      <th>mid_l</th>\n",
       "      <th>mid_c</th>\n",
       "      <th>ask_c</th>\n",
       "      <th>bid_c</th>\n",
       "      <th>ENGULFING</th>\n",
       "      <th>direction</th>\n",
       "      <th>EMA_200</th>\n",
       "      <th>RSI_14</th>\n",
       "    </tr>\n",
       "  </thead>\n",
       "  <tbody>\n",
       "    <tr>\n",
       "      <th>0</th>\n",
       "      <td>2016-01-19 07:00:00+00:00</td>\n",
       "      <td>1.08736</td>\n",
       "      <td>1.08764</td>\n",
       "      <td>1.08595</td>\n",
       "      <td>1.08652</td>\n",
       "      <td>1.08660</td>\n",
       "      <td>1.08645</td>\n",
       "      <td>False</td>\n",
       "      <td>-1</td>\n",
       "      <td>1.088334</td>\n",
       "      <td>36.239350</td>\n",
       "    </tr>\n",
       "    <tr>\n",
       "      <th>1</th>\n",
       "      <td>2016-01-19 08:00:00+00:00</td>\n",
       "      <td>1.08654</td>\n",
       "      <td>1.08846</td>\n",
       "      <td>1.08636</td>\n",
       "      <td>1.08846</td>\n",
       "      <td>1.08861</td>\n",
       "      <td>1.08832</td>\n",
       "      <td>True</td>\n",
       "      <td>1</td>\n",
       "      <td>1.088336</td>\n",
       "      <td>47.615598</td>\n",
       "    </tr>\n",
       "    <tr>\n",
       "      <th>2</th>\n",
       "      <td>2016-01-19 09:00:00+00:00</td>\n",
       "      <td>1.08844</td>\n",
       "      <td>1.08890</td>\n",
       "      <td>1.08702</td>\n",
       "      <td>1.08724</td>\n",
       "      <td>1.08749</td>\n",
       "      <td>1.08699</td>\n",
       "      <td>False</td>\n",
       "      <td>-1</td>\n",
       "      <td>1.088323</td>\n",
       "      <td>42.482293</td>\n",
       "    </tr>\n",
       "    <tr>\n",
       "      <th>3</th>\n",
       "      <td>2016-01-19 10:00:00+00:00</td>\n",
       "      <td>1.08728</td>\n",
       "      <td>1.08834</td>\n",
       "      <td>1.08662</td>\n",
       "      <td>1.08730</td>\n",
       "      <td>1.08737</td>\n",
       "      <td>1.08722</td>\n",
       "      <td>False</td>\n",
       "      <td>1</td>\n",
       "      <td>1.088312</td>\n",
       "      <td>42.808846</td>\n",
       "    </tr>\n",
       "    <tr>\n",
       "      <th>4</th>\n",
       "      <td>2016-01-19 11:00:00+00:00</td>\n",
       "      <td>1.08728</td>\n",
       "      <td>1.08732</td>\n",
       "      <td>1.08599</td>\n",
       "      <td>1.08630</td>\n",
       "      <td>1.08637</td>\n",
       "      <td>1.08623</td>\n",
       "      <td>True</td>\n",
       "      <td>-1</td>\n",
       "      <td>1.088289</td>\n",
       "      <td>38.849941</td>\n",
       "    </tr>\n",
       "  </tbody>\n",
       "</table>\n",
       "</div>"
      ],
      "text/plain": [
       "                       time    mid_o    mid_h    mid_l    mid_c    ask_c  \\\n",
       "0 2016-01-19 07:00:00+00:00  1.08736  1.08764  1.08595  1.08652  1.08660   \n",
       "1 2016-01-19 08:00:00+00:00  1.08654  1.08846  1.08636  1.08846  1.08861   \n",
       "2 2016-01-19 09:00:00+00:00  1.08844  1.08890  1.08702  1.08724  1.08749   \n",
       "3 2016-01-19 10:00:00+00:00  1.08728  1.08834  1.08662  1.08730  1.08737   \n",
       "4 2016-01-19 11:00:00+00:00  1.08728  1.08732  1.08599  1.08630  1.08637   \n",
       "\n",
       "     bid_c  ENGULFING  direction   EMA_200     RSI_14  \n",
       "0  1.08645      False         -1  1.088334  36.239350  \n",
       "1  1.08832       True          1  1.088336  47.615598  \n",
       "2  1.08699      False         -1  1.088323  42.482293  \n",
       "3  1.08722      False          1  1.088312  42.808846  \n",
       "4  1.08623       True         -1  1.088289  38.849941  "
      ]
     },
     "execution_count": 64,
     "metadata": {},
     "output_type": "execute_result"
    }
   ],
   "source": [
    "df_slim.head()"
   ]
  },
  {
   "cell_type": "code",
   "execution_count": 65,
   "id": "b6161521-bde4-48d5-997f-7f694cca37bd",
   "metadata": {},
   "outputs": [],
   "source": [
    "BUY = 1\n",
    "SELL = -1\n",
    "NONE = 0\n",
    "RSI_LIMIT = 50.0\n",
    "\n",
    "def apply_signal(row):\n",
    "    if row.ENGULFING == True:\n",
    "        if row.direction == BUY and row.mid_l > row.EMA_200:\n",
    "            if row.RSI_14 > RSI_LIMIT:\n",
    "                return BUY\n",
    "        if row.direction == SELL and row.mid_h < row.EMA_200:\n",
    "            if row.RSI_14 < RSI_LIMIT:\n",
    "                return SELL\n",
    "    return NONE"
   ]
  },
  {
   "cell_type": "code",
   "execution_count": 66,
   "id": "8cf18e2c-5d6c-4246-95db-750c46d564f6",
   "metadata": {},
   "outputs": [],
   "source": [
    "df_slim['SIGNAL'] = df_slim.apply(apply_signal,axis=1)"
   ]
  },
  {
   "cell_type": "code",
   "execution_count": 67,
   "id": "006193fd-2bd3-46e4-869f-10064a924f2f",
   "metadata": {},
   "outputs": [],
   "source": [
    "LOSS_FACTOR = -1.0\n",
    "PROFIT_FACTOR = 1.5\n",
    "\n",
    "def apply_take_profit(row):\n",
    "    if row.SIGNAL != NONE:\n",
    "        return (row.mid_c - row.mid_o) * PROFIT_FACTOR + row.mid_c\n",
    "    else:\n",
    "        return 0.0\n",
    "def apply_stop_loss(row):\n",
    "    if row.SIGNAL != NONE:\n",
    "        return row.mid_o\n",
    "    else:\n",
    "        return 0.0"
   ]
  },
  {
   "cell_type": "code",
   "execution_count": 68,
   "id": "90308181-bd42-478c-be23-feaf890cecf5",
   "metadata": {},
   "outputs": [],
   "source": [
    "df_slim['TP'] = df_slim.apply(apply_take_profit,axis=1)\n",
    "df_slim['SL'] = df_slim.apply(apply_stop_loss,axis=1)"
   ]
  },
  {
   "cell_type": "code",
   "execution_count": 69,
   "id": "347537e1-ea6b-4c74-9b93-1866cec2a082",
   "metadata": {},
   "outputs": [
    {
     "data": {
      "text/html": [
       "<div>\n",
       "<style scoped>\n",
       "    .dataframe tbody tr th:only-of-type {\n",
       "        vertical-align: middle;\n",
       "    }\n",
       "\n",
       "    .dataframe tbody tr th {\n",
       "        vertical-align: top;\n",
       "    }\n",
       "\n",
       "    .dataframe thead th {\n",
       "        text-align: right;\n",
       "    }\n",
       "</style>\n",
       "<table border=\"1\" class=\"dataframe\">\n",
       "  <thead>\n",
       "    <tr style=\"text-align: right;\">\n",
       "      <th></th>\n",
       "      <th>time</th>\n",
       "      <th>mid_o</th>\n",
       "      <th>mid_h</th>\n",
       "      <th>mid_l</th>\n",
       "      <th>mid_c</th>\n",
       "      <th>ask_c</th>\n",
       "      <th>bid_c</th>\n",
       "      <th>ENGULFING</th>\n",
       "      <th>direction</th>\n",
       "      <th>EMA_200</th>\n",
       "      <th>RSI_14</th>\n",
       "      <th>SIGNAL</th>\n",
       "      <th>TP</th>\n",
       "      <th>SL</th>\n",
       "    </tr>\n",
       "  </thead>\n",
       "  <tbody>\n",
       "    <tr>\n",
       "      <th>0</th>\n",
       "      <td>2016-01-19 07:00:00+00:00</td>\n",
       "      <td>1.08736</td>\n",
       "      <td>1.08764</td>\n",
       "      <td>1.08595</td>\n",
       "      <td>1.08652</td>\n",
       "      <td>1.08660</td>\n",
       "      <td>1.08645</td>\n",
       "      <td>False</td>\n",
       "      <td>-1</td>\n",
       "      <td>1.088334</td>\n",
       "      <td>36.239350</td>\n",
       "      <td>0</td>\n",
       "      <td>0.00000</td>\n",
       "      <td>0.00000</td>\n",
       "    </tr>\n",
       "    <tr>\n",
       "      <th>1</th>\n",
       "      <td>2016-01-19 08:00:00+00:00</td>\n",
       "      <td>1.08654</td>\n",
       "      <td>1.08846</td>\n",
       "      <td>1.08636</td>\n",
       "      <td>1.08846</td>\n",
       "      <td>1.08861</td>\n",
       "      <td>1.08832</td>\n",
       "      <td>True</td>\n",
       "      <td>1</td>\n",
       "      <td>1.088336</td>\n",
       "      <td>47.615598</td>\n",
       "      <td>0</td>\n",
       "      <td>0.00000</td>\n",
       "      <td>0.00000</td>\n",
       "    </tr>\n",
       "    <tr>\n",
       "      <th>2</th>\n",
       "      <td>2016-01-19 09:00:00+00:00</td>\n",
       "      <td>1.08844</td>\n",
       "      <td>1.08890</td>\n",
       "      <td>1.08702</td>\n",
       "      <td>1.08724</td>\n",
       "      <td>1.08749</td>\n",
       "      <td>1.08699</td>\n",
       "      <td>False</td>\n",
       "      <td>-1</td>\n",
       "      <td>1.088323</td>\n",
       "      <td>42.482293</td>\n",
       "      <td>0</td>\n",
       "      <td>0.00000</td>\n",
       "      <td>0.00000</td>\n",
       "    </tr>\n",
       "    <tr>\n",
       "      <th>3</th>\n",
       "      <td>2016-01-19 10:00:00+00:00</td>\n",
       "      <td>1.08728</td>\n",
       "      <td>1.08834</td>\n",
       "      <td>1.08662</td>\n",
       "      <td>1.08730</td>\n",
       "      <td>1.08737</td>\n",
       "      <td>1.08722</td>\n",
       "      <td>False</td>\n",
       "      <td>1</td>\n",
       "      <td>1.088312</td>\n",
       "      <td>42.808846</td>\n",
       "      <td>0</td>\n",
       "      <td>0.00000</td>\n",
       "      <td>0.00000</td>\n",
       "    </tr>\n",
       "    <tr>\n",
       "      <th>4</th>\n",
       "      <td>2016-01-19 11:00:00+00:00</td>\n",
       "      <td>1.08728</td>\n",
       "      <td>1.08732</td>\n",
       "      <td>1.08599</td>\n",
       "      <td>1.08630</td>\n",
       "      <td>1.08637</td>\n",
       "      <td>1.08623</td>\n",
       "      <td>True</td>\n",
       "      <td>-1</td>\n",
       "      <td>1.088289</td>\n",
       "      <td>38.849941</td>\n",
       "      <td>-1</td>\n",
       "      <td>1.08483</td>\n",
       "      <td>1.08728</td>\n",
       "    </tr>\n",
       "  </tbody>\n",
       "</table>\n",
       "</div>"
      ],
      "text/plain": [
       "                       time    mid_o    mid_h    mid_l    mid_c    ask_c  \\\n",
       "0 2016-01-19 07:00:00+00:00  1.08736  1.08764  1.08595  1.08652  1.08660   \n",
       "1 2016-01-19 08:00:00+00:00  1.08654  1.08846  1.08636  1.08846  1.08861   \n",
       "2 2016-01-19 09:00:00+00:00  1.08844  1.08890  1.08702  1.08724  1.08749   \n",
       "3 2016-01-19 10:00:00+00:00  1.08728  1.08834  1.08662  1.08730  1.08737   \n",
       "4 2016-01-19 11:00:00+00:00  1.08728  1.08732  1.08599  1.08630  1.08637   \n",
       "\n",
       "     bid_c  ENGULFING  direction   EMA_200     RSI_14  SIGNAL       TP  \\\n",
       "0  1.08645      False         -1  1.088334  36.239350       0  0.00000   \n",
       "1  1.08832       True          1  1.088336  47.615598       0  0.00000   \n",
       "2  1.08699      False         -1  1.088323  42.482293       0  0.00000   \n",
       "3  1.08722      False          1  1.088312  42.808846       0  0.00000   \n",
       "4  1.08623       True         -1  1.088289  38.849941      -1  1.08483   \n",
       "\n",
       "        SL  \n",
       "0  0.00000  \n",
       "1  0.00000  \n",
       "2  0.00000  \n",
       "3  0.00000  \n",
       "4  1.08728  "
      ]
     },
     "execution_count": 69,
     "metadata": {},
     "output_type": "execute_result"
    }
   ],
   "source": [
    "df_slim.head()"
   ]
  },
  {
   "cell_type": "code",
   "execution_count": 70,
   "id": "8e67fbc8-a5df-430d-8896-278ad11b29c2",
   "metadata": {},
   "outputs": [
    {
     "data": {
      "application/vnd.plotly.v1+json": {
       "config": {
        "plotlyServerURL": "https://plot.ly"
       },
       "data": [
        {
         "close": [
          1.08652,
          1.08846,
          1.08724,
          1.0873,
          1.0863,
          1.08746,
          1.08662,
          1.08913,
          1.08979,
          1.09043,
          1.09274,
          1.09248,
          1.09241,
          1.09104,
          1.09078,
          1.0914,
          1.09109,
          1.09214,
          1.09238,
          1.09321,
          1.09468,
          1.09538,
          1.09488,
          1.09546,
          1.094,
          1.09625,
          1.09235,
          1.0926,
          1.09092,
          1.09137
         ],
         "decreasing": {
          "fillcolor": "#cc2e3c",
          "line": {
           "color": "#ff3a4c"
          }
         },
         "high": [
          1.08764,
          1.08846,
          1.0889,
          1.08834,
          1.08732,
          1.08808,
          1.08745,
          1.09098,
          1.09078,
          1.09079,
          1.09315,
          1.09338,
          1.09392,
          1.09238,
          1.0917,
          1.09143,
          1.09144,
          1.09246,
          1.09334,
          1.09342,
          1.09522,
          1.09548,
          1.09607,
          1.09635,
          1.09616,
          1.0976,
          1.09657,
          1.09383,
          1.09274,
          1.09181
         ],
         "increasing": {
          "fillcolor": "#24a06b",
          "line": {
           "color": "#2ec886"
          }
         },
         "line": {
          "width": 1
         },
         "low": [
          1.08595,
          1.08636,
          1.08702,
          1.08662,
          1.08599,
          1.08614,
          1.08605,
          1.08642,
          1.08908,
          1.08932,
          1.09009,
          1.09231,
          1.09206,
          1.09052,
          1.09066,
          1.09052,
          1.09054,
          1.091,
          1.09186,
          1.09202,
          1.09318,
          1.0945,
          1.09488,
          1.09491,
          1.09375,
          1.09397,
          1.09169,
          1.09226,
          1.09038,
          1.08978
         ],
         "opacity": 1,
         "open": [
          1.08736,
          1.08654,
          1.08844,
          1.08728,
          1.08728,
          1.08634,
          1.08743,
          1.08658,
          1.08917,
          1.08982,
          1.09047,
          1.09269,
          1.09252,
          1.09238,
          1.09108,
          1.0906,
          1.09144,
          1.09112,
          1.09214,
          1.09242,
          1.09318,
          1.0947,
          1.09535,
          1.09491,
          1.0955,
          1.09398,
          1.09622,
          1.09236,
          1.09263,
          1.09088
         ],
         "type": "candlestick",
         "x": [
          "s16-01-19 07:00",
          "s16-01-19 08:00",
          "s16-01-19 09:00",
          "s16-01-19 10:00",
          "s16-01-19 11:00",
          "s16-01-19 12:00",
          "s16-01-19 13:00",
          "s16-01-19 14:00",
          "s16-01-19 15:00",
          "s16-01-19 16:00",
          "s16-01-19 17:00",
          "s16-01-19 18:00",
          "s16-01-19 19:00",
          "s16-01-19 20:00",
          "s16-01-19 21:00",
          "s16-01-19 22:00",
          "s16-01-19 23:00",
          "s16-01-20 00:00",
          "s16-01-20 01:00",
          "s16-01-20 02:00",
          "s16-01-20 03:00",
          "s16-01-20 04:00",
          "s16-01-20 05:00",
          "s16-01-20 06:00",
          "s16-01-20 07:00",
          "s16-01-20 08:00",
          "s16-01-20 09:00",
          "s16-01-20 10:00",
          "s16-01-20 11:00",
          "s16-01-20 12:00"
         ]
        },
        {
         "marker": {
          "color": "#0000FF",
          "size": 12
         },
         "mode": "markers",
         "type": "scatter",
         "x": [
          "s16-01-19 11:00",
          "s16-01-19 22:00",
          "s16-01-20 00:00",
          "s16-01-20 06:00",
          "s16-01-20 08:00"
         ],
         "y": [
          1.0863,
          1.0914,
          1.09214,
          1.09546,
          1.09625
         ]
        },
        {
         "marker": {
          "color": "#00FF00",
          "size": 12
         },
         "mode": "markers",
         "type": "scatter",
         "x": [
          "s16-01-19 11:00",
          "s16-01-19 22:00",
          "s16-01-20 00:00",
          "s16-01-20 06:00",
          "s16-01-20 08:00"
         ],
         "y": [
          1.0848300000000002,
          1.0925999999999998,
          1.0936700000000001,
          1.0962850000000002,
          1.0996549999999998
         ]
        },
        {
         "marker": {
          "color": "#FF0000",
          "size": 12
         },
         "mode": "markers",
         "type": "scatter",
         "x": [
          "s16-01-19 11:00",
          "s16-01-19 22:00",
          "s16-01-20 00:00",
          "s16-01-20 06:00",
          "s16-01-20 08:00"
         ],
         "y": [
          1.08728,
          1.0906,
          1.09112,
          1.09491,
          1.09398
         ]
        },
        {
         "line": {
          "shape": "spline",
          "width": 2
         },
         "name": "EMA_200",
         "type": "scatter",
         "x": [
          "s16-01-19 07:00",
          "s16-01-19 08:00",
          "s16-01-19 09:00",
          "s16-01-19 10:00",
          "s16-01-19 11:00",
          "s16-01-19 12:00",
          "s16-01-19 13:00",
          "s16-01-19 14:00",
          "s16-01-19 15:00",
          "s16-01-19 16:00",
          "s16-01-19 17:00",
          "s16-01-19 18:00",
          "s16-01-19 19:00",
          "s16-01-19 20:00",
          "s16-01-19 21:00",
          "s16-01-19 22:00",
          "s16-01-19 23:00",
          "s16-01-20 00:00",
          "s16-01-20 01:00",
          "s16-01-20 02:00",
          "s16-01-20 03:00",
          "s16-01-20 04:00",
          "s16-01-20 05:00",
          "s16-01-20 06:00",
          "s16-01-20 07:00",
          "s16-01-20 08:00",
          "s16-01-20 09:00",
          "s16-01-20 10:00",
          "s16-01-20 11:00",
          "s16-01-20 12:00"
         ],
         "xaxis": "x",
         "y": [
          1.0883343658873341,
          1.0883358093874327,
          1.0883232382032224,
          1.0883115173963218,
          1.0882885108352258,
          1.0882790488837113,
          1.0882601296437775,
          1.0882700349585317,
          1.0882873181433108,
          1.088311647542022,
          1.088361859408819,
          1.0884084891246302,
          1.088453736128899,
          1.0884829406186989,
          1.0885088446061797,
          1.0885414050267541,
          1.0885700699013439,
          1.0886101700505457,
          1.0886524613868507,
          1.0887035247737007,
          1.0887704022934435,
          1.0888442729438106,
          1.0889116472583278,
          1.0889846552902194,
          1.089040504757445,
          1.089120692607231,
          1.0891565686288387,
          1.0891947791668664,
          1.0892139014095796,
          1.0892377724128035
         ],
         "yaxis": "y"
        },
        {
         "line": {
          "shape": "spline",
          "width": 2
         },
         "name": "RSI_14",
         "type": "scatter",
         "x": [
          "s16-01-19 07:00",
          "s16-01-19 08:00",
          "s16-01-19 09:00",
          "s16-01-19 10:00",
          "s16-01-19 11:00",
          "s16-01-19 12:00",
          "s16-01-19 13:00",
          "s16-01-19 14:00",
          "s16-01-19 15:00",
          "s16-01-19 16:00",
          "s16-01-19 17:00",
          "s16-01-19 18:00",
          "s16-01-19 19:00",
          "s16-01-19 20:00",
          "s16-01-19 21:00",
          "s16-01-19 22:00",
          "s16-01-19 23:00",
          "s16-01-20 00:00",
          "s16-01-20 01:00",
          "s16-01-20 02:00",
          "s16-01-20 03:00",
          "s16-01-20 04:00",
          "s16-01-20 05:00",
          "s16-01-20 06:00",
          "s16-01-20 07:00",
          "s16-01-20 08:00",
          "s16-01-20 09:00",
          "s16-01-20 10:00",
          "s16-01-20 11:00",
          "s16-01-20 12:00"
         ],
         "xaxis": "x",
         "y": [
          36.239349609692376,
          47.6155981835264,
          42.48229316876609,
          42.80884550285342,
          38.84994099807874,
          45.18281585169294,
          41.806422683666995,
          53.0874338310247,
          55.52866037017679,
          57.82078439630209,
          64.86070329116407,
          63.57453325214798,
          63.21110432815853,
          56.41390953339726,
          55.20074763386734,
          57.54530730909183,
          55.96811061292935,
          59.970073244308104,
          60.84604079374338,
          63.79659862722831,
          68.34624470763951,
          70.26268536282151,
          67.13601331736521,
          68.86672629064233,
          60.26337252451303,
          67.08732338904802,
          50.80211126824232,
          51.6129641383991,
          46.11285213512825,
          47.719929599948195
         ],
         "yaxis": "y2"
        }
       ],
       "layout": {
        "font": {
         "color": "#e1e1e1"
        },
        "height": 400,
        "margin": {
         "b": 10,
         "l": 10,
         "r": 10,
         "t": 10
        },
        "paper_bgcolor": "#2c303c",
        "plot_bgcolor": "#2c303c",
        "template": {
         "data": {
          "bar": [
           {
            "error_x": {
             "color": "#2a3f5f"
            },
            "error_y": {
             "color": "#2a3f5f"
            },
            "marker": {
             "line": {
              "color": "#E5ECF6",
              "width": 0.5
             },
             "pattern": {
              "fillmode": "overlay",
              "size": 10,
              "solidity": 0.2
             }
            },
            "type": "bar"
           }
          ],
          "barpolar": [
           {
            "marker": {
             "line": {
              "color": "#E5ECF6",
              "width": 0.5
             },
             "pattern": {
              "fillmode": "overlay",
              "size": 10,
              "solidity": 0.2
             }
            },
            "type": "barpolar"
           }
          ],
          "carpet": [
           {
            "aaxis": {
             "endlinecolor": "#2a3f5f",
             "gridcolor": "white",
             "linecolor": "white",
             "minorgridcolor": "white",
             "startlinecolor": "#2a3f5f"
            },
            "baxis": {
             "endlinecolor": "#2a3f5f",
             "gridcolor": "white",
             "linecolor": "white",
             "minorgridcolor": "white",
             "startlinecolor": "#2a3f5f"
            },
            "type": "carpet"
           }
          ],
          "choropleth": [
           {
            "colorbar": {
             "outlinewidth": 0,
             "ticks": ""
            },
            "type": "choropleth"
           }
          ],
          "contour": [
           {
            "colorbar": {
             "outlinewidth": 0,
             "ticks": ""
            },
            "colorscale": [
             [
              0,
              "#0d0887"
             ],
             [
              0.1111111111111111,
              "#46039f"
             ],
             [
              0.2222222222222222,
              "#7201a8"
             ],
             [
              0.3333333333333333,
              "#9c179e"
             ],
             [
              0.4444444444444444,
              "#bd3786"
             ],
             [
              0.5555555555555556,
              "#d8576b"
             ],
             [
              0.6666666666666666,
              "#ed7953"
             ],
             [
              0.7777777777777778,
              "#fb9f3a"
             ],
             [
              0.8888888888888888,
              "#fdca26"
             ],
             [
              1,
              "#f0f921"
             ]
            ],
            "type": "contour"
           }
          ],
          "contourcarpet": [
           {
            "colorbar": {
             "outlinewidth": 0,
             "ticks": ""
            },
            "type": "contourcarpet"
           }
          ],
          "heatmap": [
           {
            "colorbar": {
             "outlinewidth": 0,
             "ticks": ""
            },
            "colorscale": [
             [
              0,
              "#0d0887"
             ],
             [
              0.1111111111111111,
              "#46039f"
             ],
             [
              0.2222222222222222,
              "#7201a8"
             ],
             [
              0.3333333333333333,
              "#9c179e"
             ],
             [
              0.4444444444444444,
              "#bd3786"
             ],
             [
              0.5555555555555556,
              "#d8576b"
             ],
             [
              0.6666666666666666,
              "#ed7953"
             ],
             [
              0.7777777777777778,
              "#fb9f3a"
             ],
             [
              0.8888888888888888,
              "#fdca26"
             ],
             [
              1,
              "#f0f921"
             ]
            ],
            "type": "heatmap"
           }
          ],
          "heatmapgl": [
           {
            "colorbar": {
             "outlinewidth": 0,
             "ticks": ""
            },
            "colorscale": [
             [
              0,
              "#0d0887"
             ],
             [
              0.1111111111111111,
              "#46039f"
             ],
             [
              0.2222222222222222,
              "#7201a8"
             ],
             [
              0.3333333333333333,
              "#9c179e"
             ],
             [
              0.4444444444444444,
              "#bd3786"
             ],
             [
              0.5555555555555556,
              "#d8576b"
             ],
             [
              0.6666666666666666,
              "#ed7953"
             ],
             [
              0.7777777777777778,
              "#fb9f3a"
             ],
             [
              0.8888888888888888,
              "#fdca26"
             ],
             [
              1,
              "#f0f921"
             ]
            ],
            "type": "heatmapgl"
           }
          ],
          "histogram": [
           {
            "marker": {
             "pattern": {
              "fillmode": "overlay",
              "size": 10,
              "solidity": 0.2
             }
            },
            "type": "histogram"
           }
          ],
          "histogram2d": [
           {
            "colorbar": {
             "outlinewidth": 0,
             "ticks": ""
            },
            "colorscale": [
             [
              0,
              "#0d0887"
             ],
             [
              0.1111111111111111,
              "#46039f"
             ],
             [
              0.2222222222222222,
              "#7201a8"
             ],
             [
              0.3333333333333333,
              "#9c179e"
             ],
             [
              0.4444444444444444,
              "#bd3786"
             ],
             [
              0.5555555555555556,
              "#d8576b"
             ],
             [
              0.6666666666666666,
              "#ed7953"
             ],
             [
              0.7777777777777778,
              "#fb9f3a"
             ],
             [
              0.8888888888888888,
              "#fdca26"
             ],
             [
              1,
              "#f0f921"
             ]
            ],
            "type": "histogram2d"
           }
          ],
          "histogram2dcontour": [
           {
            "colorbar": {
             "outlinewidth": 0,
             "ticks": ""
            },
            "colorscale": [
             [
              0,
              "#0d0887"
             ],
             [
              0.1111111111111111,
              "#46039f"
             ],
             [
              0.2222222222222222,
              "#7201a8"
             ],
             [
              0.3333333333333333,
              "#9c179e"
             ],
             [
              0.4444444444444444,
              "#bd3786"
             ],
             [
              0.5555555555555556,
              "#d8576b"
             ],
             [
              0.6666666666666666,
              "#ed7953"
             ],
             [
              0.7777777777777778,
              "#fb9f3a"
             ],
             [
              0.8888888888888888,
              "#fdca26"
             ],
             [
              1,
              "#f0f921"
             ]
            ],
            "type": "histogram2dcontour"
           }
          ],
          "mesh3d": [
           {
            "colorbar": {
             "outlinewidth": 0,
             "ticks": ""
            },
            "type": "mesh3d"
           }
          ],
          "parcoords": [
           {
            "line": {
             "colorbar": {
              "outlinewidth": 0,
              "ticks": ""
             }
            },
            "type": "parcoords"
           }
          ],
          "pie": [
           {
            "automargin": true,
            "type": "pie"
           }
          ],
          "scatter": [
           {
            "fillpattern": {
             "fillmode": "overlay",
             "size": 10,
             "solidity": 0.2
            },
            "type": "scatter"
           }
          ],
          "scatter3d": [
           {
            "line": {
             "colorbar": {
              "outlinewidth": 0,
              "ticks": ""
             }
            },
            "marker": {
             "colorbar": {
              "outlinewidth": 0,
              "ticks": ""
             }
            },
            "type": "scatter3d"
           }
          ],
          "scattercarpet": [
           {
            "marker": {
             "colorbar": {
              "outlinewidth": 0,
              "ticks": ""
             }
            },
            "type": "scattercarpet"
           }
          ],
          "scattergeo": [
           {
            "marker": {
             "colorbar": {
              "outlinewidth": 0,
              "ticks": ""
             }
            },
            "type": "scattergeo"
           }
          ],
          "scattergl": [
           {
            "marker": {
             "colorbar": {
              "outlinewidth": 0,
              "ticks": ""
             }
            },
            "type": "scattergl"
           }
          ],
          "scattermapbox": [
           {
            "marker": {
             "colorbar": {
              "outlinewidth": 0,
              "ticks": ""
             }
            },
            "type": "scattermapbox"
           }
          ],
          "scatterpolar": [
           {
            "marker": {
             "colorbar": {
              "outlinewidth": 0,
              "ticks": ""
             }
            },
            "type": "scatterpolar"
           }
          ],
          "scatterpolargl": [
           {
            "marker": {
             "colorbar": {
              "outlinewidth": 0,
              "ticks": ""
             }
            },
            "type": "scatterpolargl"
           }
          ],
          "scatterternary": [
           {
            "marker": {
             "colorbar": {
              "outlinewidth": 0,
              "ticks": ""
             }
            },
            "type": "scatterternary"
           }
          ],
          "surface": [
           {
            "colorbar": {
             "outlinewidth": 0,
             "ticks": ""
            },
            "colorscale": [
             [
              0,
              "#0d0887"
             ],
             [
              0.1111111111111111,
              "#46039f"
             ],
             [
              0.2222222222222222,
              "#7201a8"
             ],
             [
              0.3333333333333333,
              "#9c179e"
             ],
             [
              0.4444444444444444,
              "#bd3786"
             ],
             [
              0.5555555555555556,
              "#d8576b"
             ],
             [
              0.6666666666666666,
              "#ed7953"
             ],
             [
              0.7777777777777778,
              "#fb9f3a"
             ],
             [
              0.8888888888888888,
              "#fdca26"
             ],
             [
              1,
              "#f0f921"
             ]
            ],
            "type": "surface"
           }
          ],
          "table": [
           {
            "cells": {
             "fill": {
              "color": "#EBF0F8"
             },
             "line": {
              "color": "white"
             }
            },
            "header": {
             "fill": {
              "color": "#C8D4E3"
             },
             "line": {
              "color": "white"
             }
            },
            "type": "table"
           }
          ]
         },
         "layout": {
          "annotationdefaults": {
           "arrowcolor": "#2a3f5f",
           "arrowhead": 0,
           "arrowwidth": 1
          },
          "autotypenumbers": "strict",
          "coloraxis": {
           "colorbar": {
            "outlinewidth": 0,
            "ticks": ""
           }
          },
          "colorscale": {
           "diverging": [
            [
             0,
             "#8e0152"
            ],
            [
             0.1,
             "#c51b7d"
            ],
            [
             0.2,
             "#de77ae"
            ],
            [
             0.3,
             "#f1b6da"
            ],
            [
             0.4,
             "#fde0ef"
            ],
            [
             0.5,
             "#f7f7f7"
            ],
            [
             0.6,
             "#e6f5d0"
            ],
            [
             0.7,
             "#b8e186"
            ],
            [
             0.8,
             "#7fbc41"
            ],
            [
             0.9,
             "#4d9221"
            ],
            [
             1,
             "#276419"
            ]
           ],
           "sequential": [
            [
             0,
             "#0d0887"
            ],
            [
             0.1111111111111111,
             "#46039f"
            ],
            [
             0.2222222222222222,
             "#7201a8"
            ],
            [
             0.3333333333333333,
             "#9c179e"
            ],
            [
             0.4444444444444444,
             "#bd3786"
            ],
            [
             0.5555555555555556,
             "#d8576b"
            ],
            [
             0.6666666666666666,
             "#ed7953"
            ],
            [
             0.7777777777777778,
             "#fb9f3a"
            ],
            [
             0.8888888888888888,
             "#fdca26"
            ],
            [
             1,
             "#f0f921"
            ]
           ],
           "sequentialminus": [
            [
             0,
             "#0d0887"
            ],
            [
             0.1111111111111111,
             "#46039f"
            ],
            [
             0.2222222222222222,
             "#7201a8"
            ],
            [
             0.3333333333333333,
             "#9c179e"
            ],
            [
             0.4444444444444444,
             "#bd3786"
            ],
            [
             0.5555555555555556,
             "#d8576b"
            ],
            [
             0.6666666666666666,
             "#ed7953"
            ],
            [
             0.7777777777777778,
             "#fb9f3a"
            ],
            [
             0.8888888888888888,
             "#fdca26"
            ],
            [
             1,
             "#f0f921"
            ]
           ]
          },
          "colorway": [
           "#636efa",
           "#EF553B",
           "#00cc96",
           "#ab63fa",
           "#FFA15A",
           "#19d3f3",
           "#FF6692",
           "#B6E880",
           "#FF97FF",
           "#FECB52"
          ],
          "font": {
           "color": "#2a3f5f"
          },
          "geo": {
           "bgcolor": "white",
           "lakecolor": "white",
           "landcolor": "#E5ECF6",
           "showlakes": true,
           "showland": true,
           "subunitcolor": "white"
          },
          "hoverlabel": {
           "align": "left"
          },
          "hovermode": "closest",
          "mapbox": {
           "style": "light"
          },
          "paper_bgcolor": "white",
          "plot_bgcolor": "#E5ECF6",
          "polar": {
           "angularaxis": {
            "gridcolor": "white",
            "linecolor": "white",
            "ticks": ""
           },
           "bgcolor": "#E5ECF6",
           "radialaxis": {
            "gridcolor": "white",
            "linecolor": "white",
            "ticks": ""
           }
          },
          "scene": {
           "xaxis": {
            "backgroundcolor": "#E5ECF6",
            "gridcolor": "white",
            "gridwidth": 2,
            "linecolor": "white",
            "showbackground": true,
            "ticks": "",
            "zerolinecolor": "white"
           },
           "yaxis": {
            "backgroundcolor": "#E5ECF6",
            "gridcolor": "white",
            "gridwidth": 2,
            "linecolor": "white",
            "showbackground": true,
            "ticks": "",
            "zerolinecolor": "white"
           },
           "zaxis": {
            "backgroundcolor": "#E5ECF6",
            "gridcolor": "white",
            "gridwidth": 2,
            "linecolor": "white",
            "showbackground": true,
            "ticks": "",
            "zerolinecolor": "white"
           }
          },
          "shapedefaults": {
           "line": {
            "color": "#2a3f5f"
           }
          },
          "ternary": {
           "aaxis": {
            "gridcolor": "white",
            "linecolor": "white",
            "ticks": ""
           },
           "baxis": {
            "gridcolor": "white",
            "linecolor": "white",
            "ticks": ""
           },
           "bgcolor": "#E5ECF6",
           "caxis": {
            "gridcolor": "white",
            "linecolor": "white",
            "ticks": ""
           }
          },
          "title": {
           "x": 0.05
          },
          "xaxis": {
           "automargin": true,
           "gridcolor": "white",
           "linecolor": "white",
           "ticks": "",
           "title": {
            "standoff": 15
           },
           "zerolinecolor": "white",
           "zerolinewidth": 2
          },
          "yaxis": {
           "automargin": true,
           "gridcolor": "white",
           "linecolor": "white",
           "ticks": "",
           "title": {
            "standoff": 15
           },
           "zerolinecolor": "white",
           "zerolinewidth": 2
          }
         }
        },
        "width": 900,
        "xaxis": {
         "anchor": "y",
         "autorange": true,
         "domain": [
          0,
          0.94
         ],
         "gridcolor": "#1f292f",
         "nticks": 5,
         "range": [
          -0.5,
          29.5
         ],
         "rangeslider": {
          "visible": false,
          "yaxis": {},
          "yaxis2": {}
         },
         "type": "category"
        },
        "yaxis": {
         "anchor": "x",
         "autorange": true,
         "domain": [
          0,
          1
         ],
         "gridcolor": "#1f292f",
         "range": [
          1.0836111820217533,
          1.1008738179782467
         ],
         "type": "linear"
        },
        "yaxis2": {
         "anchor": "x",
         "autorange": true,
         "gridcolor": "#1f292f",
         "overlaying": "y",
         "range": [
          34.34916429007409,
          72.1528706824398
         ],
         "side": "right",
         "type": "linear"
        }
       }
      },
      "image/png": "[encoded data removed]",
      "text/html": [
       "<div>                            <div id=\"e7ae2554-cab0-44a6-8681-d3078d291d61\" class=\"plotly-graph-div\" style=\"height:400px; width:900px;\"></div>            <script type=\"text/javascript\">                require([\"plotly\"], function(Plotly) {                    window.PLOTLYENV=window.PLOTLYENV || {};                                    if (document.getElementById(\"e7ae2554-cab0-44a6-8681-d3078d291d61\")) {                    Plotly.newPlot(                        \"e7ae2554-cab0-44a6-8681-d3078d291d61\",                        [{\"close\":[1.08652,1.08846,1.08724,1.0873,1.0863,1.08746,1.08662,1.08913,1.08979,1.09043,1.09274,1.09248,1.09241,1.09104,1.09078,1.0914,1.09109,1.09214,1.09238,1.09321,1.09468,1.09538,1.09488,1.09546,1.094,1.09625,1.09235,1.0926,1.09092,1.09137],\"decreasing\":{\"fillcolor\":\"#cc2e3c\",\"line\":{\"color\":\"#ff3a4c\"}},\"high\":[1.08764,1.08846,1.0889,1.08834,1.08732,1.08808,1.08745,1.09098,1.09078,1.09079,1.09315,1.09338,1.09392,1.09238,1.0917,1.09143,1.09144,1.09246,1.09334,1.09342,1.09522,1.09548,1.09607,1.09635,1.09616,1.0976,1.09657,1.09383,1.09274,1.09181],\"increasing\":{\"fillcolor\":\"#24a06b\",\"line\":{\"color\":\"#2ec886\"}},\"line\":{\"width\":1},\"low\":[1.08595,1.08636,1.08702,1.08662,1.08599,1.08614,1.08605,1.08642,1.08908,1.08932,1.09009,1.09231,1.09206,1.09052,1.09066,1.09052,1.09054,1.091,1.09186,1.09202,1.09318,1.0945,1.09488,1.09491,1.09375,1.09397,1.09169,1.09226,1.09038,1.08978],\"opacity\":1,\"open\":[1.08736,1.08654,1.08844,1.08728,1.08728,1.08634,1.08743,1.08658,1.08917,1.08982,1.09047,1.09269,1.09252,1.09238,1.09108,1.0906,1.09144,1.09112,1.09214,1.09242,1.09318,1.0947,1.09535,1.09491,1.0955,1.09398,1.09622,1.09236,1.09263,1.09088],\"x\":[\"s16-01-19 07:00\",\"s16-01-19 08:00\",\"s16-01-19 09:00\",\"s16-01-19 10:00\",\"s16-01-19 11:00\",\"s16-01-19 12:00\",\"s16-01-19 13:00\",\"s16-01-19 14:00\",\"s16-01-19 15:00\",\"s16-01-19 16:00\",\"s16-01-19 17:00\",\"s16-01-19 18:00\",\"s16-01-19 19:00\",\"s16-01-19 20:00\",\"s16-01-19 21:00\",\"s16-01-19 22:00\",\"s16-01-19 23:00\",\"s16-01-20 00:00\",\"s16-01-20 01:00\",\"s16-01-20 02:00\",\"s16-01-20 03:00\",\"s16-01-20 04:00\",\"s16-01-20 05:00\",\"s16-01-20 06:00\",\"s16-01-20 07:00\",\"s16-01-20 08:00\",\"s16-01-20 09:00\",\"s16-01-20 10:00\",\"s16-01-20 11:00\",\"s16-01-20 12:00\"],\"type\":\"candlestick\"},{\"marker\":{\"color\":\"#0000FF\",\"size\":12},\"mode\":\"markers\",\"x\":[\"s16-01-19 11:00\",\"s16-01-19 22:00\",\"s16-01-20 00:00\",\"s16-01-20 06:00\",\"s16-01-20 08:00\"],\"y\":[1.0863,1.0914,1.09214,1.09546,1.09625],\"type\":\"scatter\"},{\"marker\":{\"color\":\"#00FF00\",\"size\":12},\"mode\":\"markers\",\"x\":[\"s16-01-19 11:00\",\"s16-01-19 22:00\",\"s16-01-20 00:00\",\"s16-01-20 06:00\",\"s16-01-20 08:00\"],\"y\":[1.0848300000000002,1.0925999999999998,1.0936700000000001,1.0962850000000002,1.0996549999999998],\"type\":\"scatter\"},{\"marker\":{\"color\":\"#FF0000\",\"size\":12},\"mode\":\"markers\",\"x\":[\"s16-01-19 11:00\",\"s16-01-19 22:00\",\"s16-01-20 00:00\",\"s16-01-20 06:00\",\"s16-01-20 08:00\"],\"y\":[1.08728,1.0906,1.09112,1.09491,1.09398],\"type\":\"scatter\"},{\"line\":{\"shape\":\"spline\",\"width\":2},\"name\":\"EMA_200\",\"x\":[\"s16-01-19 07:00\",\"s16-01-19 08:00\",\"s16-01-19 09:00\",\"s16-01-19 10:00\",\"s16-01-19 11:00\",\"s16-01-19 12:00\",\"s16-01-19 13:00\",\"s16-01-19 14:00\",\"s16-01-19 15:00\",\"s16-01-19 16:00\",\"s16-01-19 17:00\",\"s16-01-19 18:00\",\"s16-01-19 19:00\",\"s16-01-19 20:00\",\"s16-01-19 21:00\",\"s16-01-19 22:00\",\"s16-01-19 23:00\",\"s16-01-20 00:00\",\"s16-01-20 01:00\",\"s16-01-20 02:00\",\"s16-01-20 03:00\",\"s16-01-20 04:00\",\"s16-01-20 05:00\",\"s16-01-20 06:00\",\"s16-01-20 07:00\",\"s16-01-20 08:00\",\"s16-01-20 09:00\",\"s16-01-20 10:00\",\"s16-01-20 11:00\",\"s16-01-20 12:00\"],\"y\":[1.0883343658873341,1.0883358093874327,1.0883232382032224,1.0883115173963218,1.0882885108352258,1.0882790488837113,1.0882601296437775,1.0882700349585317,1.0882873181433108,1.088311647542022,1.088361859408819,1.0884084891246302,1.088453736128899,1.0884829406186989,1.0885088446061797,1.0885414050267541,1.0885700699013439,1.0886101700505457,1.0886524613868507,1.0887035247737007,1.0887704022934435,1.0888442729438106,1.0889116472583278,1.0889846552902194,1.089040504757445,1.089120692607231,1.0891565686288387,1.0891947791668664,1.0892139014095796,1.0892377724128035],\"type\":\"scatter\",\"xaxis\":\"x\",\"yaxis\":\"y\"},{\"line\":{\"shape\":\"spline\",\"width\":2},\"name\":\"RSI_14\",\"x\":[\"s16-01-19 07:00\",\"s16-01-19 08:00\",\"s16-01-19 09:00\",\"s16-01-19 10:00\",\"s16-01-19 11:00\",\"s16-01-19 12:00\",\"s16-01-19 13:00\",\"s16-01-19 14:00\",\"s16-01-19 15:00\",\"s16-01-19 16:00\",\"s16-01-19 17:00\",\"s16-01-19 18:00\",\"s16-01-19 19:00\",\"s16-01-19 20:00\",\"s16-01-19 21:00\",\"s16-01-19 22:00\",\"s16-01-19 23:00\",\"s16-01-20 00:00\",\"s16-01-20 01:00\",\"s16-01-20 02:00\",\"s16-01-20 03:00\",\"s16-01-20 04:00\",\"s16-01-20 05:00\",\"s16-01-20 06:00\",\"s16-01-20 07:00\",\"s16-01-20 08:00\",\"s16-01-20 09:00\",\"s16-01-20 10:00\",\"s16-01-20 11:00\",\"s16-01-20 12:00\"],\"y\":[36.239349609692376,47.6155981835264,42.48229316876609,42.80884550285342,38.84994099807874,45.18281585169294,41.806422683666995,53.0874338310247,55.52866037017679,57.82078439630209,64.86070329116407,63.57453325214798,63.21110432815853,56.41390953339726,55.20074763386734,57.54530730909183,55.96811061292935,59.970073244308104,60.84604079374338,63.79659862722831,68.34624470763951,70.26268536282151,67.13601331736521,68.86672629064233,60.26337252451303,67.08732338904802,50.80211126824232,51.6129641383991,46.11285213512825,47.719929599948195],\"type\":\"scatter\",\"xaxis\":\"x\",\"yaxis\":\"y2\"}],                        {\"template\":{\"data\":{\"histogram2dcontour\":[{\"type\":\"histogram2dcontour\",\"colorbar\":{\"outlinewidth\":0,\"ticks\":\"\"},\"colorscale\":[[0.0,\"#0d0887\"],[0.1111111111111111,\"#46039f\"],[0.2222222222222222,\"#7201a8\"],[0.3333333333333333,\"#9c179e\"],[0.4444444444444444,\"#bd3786\"],[0.5555555555555556,\"#d8576b\"],[0.6666666666666666,\"#ed7953\"],[0.7777777777777778,\"#fb9f3a\"],[0.8888888888888888,\"#fdca26\"],[1.0,\"#f0f921\"]]}],\"choropleth\":[{\"type\":\"choropleth\",\"colorbar\":{\"outlinewidth\":0,\"ticks\":\"\"}}],\"histogram2d\":[{\"type\":\"histogram2d\",\"colorbar\":{\"outlinewidth\":0,\"ticks\":\"\"},\"colorscale\":[[0.0,\"#0d0887\"],[0.1111111111111111,\"#46039f\"],[0.2222222222222222,\"#7201a8\"],[0.3333333333333333,\"#9c179e\"],[0.4444444444444444,\"#bd3786\"],[0.5555555555555556,\"#d8576b\"],[0.6666666666666666,\"#ed7953\"],[0.7777777777777778,\"#fb9f3a\"],[0.8888888888888888,\"#fdca26\"],[1.0,\"#f0f921\"]]}],\"heatmap\":[{\"type\":\"heatmap\",\"colorbar\":{\"outlinewidth\":0,\"ticks\":\"\"},\"colorscale\":[[0.0,\"#0d0887\"],[0.1111111111111111,\"#46039f\"],[0.2222222222222222,\"#7201a8\"],[0.3333333333333333,\"#9c179e\"],[0.4444444444444444,\"#bd3786\"],[0.5555555555555556,\"#d8576b\"],[0.6666666666666666,\"#ed7953\"],[0.7777777777777778,\"#fb9f3a\"],[0.8888888888888888,\"#fdca26\"],[1.0,\"#f0f921\"]]}],\"heatmapgl\":[{\"type\":\"heatmapgl\",\"colorbar\":{\"outlinewidth\":0,\"ticks\":\"\"},\"colorscale\":[[0.0,\"#0d0887\"],[0.1111111111111111,\"#46039f\"],[0.2222222222222222,\"#7201a8\"],[0.3333333333333333,\"#9c179e\"],[0.4444444444444444,\"#bd3786\"],[0.5555555555555556,\"#d8576b\"],[0.6666666666666666,\"#ed7953\"],[0.7777777777777778,\"#fb9f3a\"],[0.8888888888888888,\"#fdca26\"],[1.0,\"#f0f921\"]]}],\"contourcarpet\":[{\"type\":\"contourcarpet\",\"colorbar\":{\"outlinewidth\":0,\"ticks\":\"\"}}],\"contour\":[{\"type\":\"contour\",\"colorbar\":{\"outlinewidth\":0,\"ticks\":\"\"},\"colorscale\":[[0.0,\"#0d0887\"],[0.1111111111111111,\"#46039f\"],[0.2222222222222222,\"#7201a8\"],[0.3333333333333333,\"#9c179e\"],[0.4444444444444444,\"#bd3786\"],[0.5555555555555556,\"#d8576b\"],[0.6666666666666666,\"#ed7953\"],[0.7777777777777778,\"#fb9f3a\"],[0.8888888888888888,\"#fdca26\"],[1.0,\"#f0f921\"]]}],\"surface\":[{\"type\":\"surface\",\"colorbar\":{\"outlinewidth\":0,\"ticks\":\"\"},\"colorscale\":[[0.0,\"#0d0887\"],[0.1111111111111111,\"#46039f\"],[0.2222222222222222,\"#7201a8\"],[0.3333333333333333,\"#9c179e\"],[0.4444444444444444,\"#bd3786\"],[0.5555555555555556,\"#d8576b\"],[0.6666666666666666,\"#ed7953\"],[0.7777777777777778,\"#fb9f3a\"],[0.8888888888888888,\"#fdca26\"],[1.0,\"#f0f921\"]]}],\"mesh3d\":[{\"type\":\"mesh3d\",\"colorbar\":{\"outlinewidth\":0,\"ticks\":\"\"}}],\"scatter\":[{\"fillpattern\":{\"fillmode\":\"overlay\",\"size\":10,\"solidity\":0.2},\"type\":\"scatter\"}],\"parcoords\":[{\"type\":\"parcoords\",\"line\":{\"colorbar\":{\"outlinewidth\":0,\"ticks\":\"\"}}}],\"scatterpolargl\":[{\"type\":\"scatterpolargl\",\"marker\":{\"colorbar\":{\"outlinewidth\":0,\"ticks\":\"\"}}}],\"bar\":[{\"error_x\":{\"color\":\"#2a3f5f\"},\"error_y\":{\"color\":\"#2a3f5f\"},\"marker\":{\"line\":{\"color\":\"#E5ECF6\",\"width\":0.5},\"pattern\":{\"fillmode\":\"overlay\",\"size\":10,\"solidity\":0.2}},\"type\":\"bar\"}],\"scattergeo\":[{\"type\":\"scattergeo\",\"marker\":{\"colorbar\":{\"outlinewidth\":0,\"ticks\":\"\"}}}],\"scatterpolar\":[{\"type\":\"scatterpolar\",\"marker\":{\"colorbar\":{\"outlinewidth\":0,\"ticks\":\"\"}}}],\"histogram\":[{\"marker\":{\"pattern\":{\"fillmode\":\"overlay\",\"size\":10,\"solidity\":0.2}},\"type\":\"histogram\"}],\"scattergl\":[{\"type\":\"scattergl\",\"marker\":{\"colorbar\":{\"outlinewidth\":0,\"ticks\":\"\"}}}],\"scatter3d\":[{\"type\":\"scatter3d\",\"line\":{\"colorbar\":{\"outlinewidth\":0,\"ticks\":\"\"}},\"marker\":{\"colorbar\":{\"outlinewidth\":0,\"ticks\":\"\"}}}],\"scattermapbox\":[{\"type\":\"scattermapbox\",\"marker\":{\"colorbar\":{\"outlinewidth\":0,\"ticks\":\"\"}}}],\"scatterternary\":[{\"type\":\"scatterternary\",\"marker\":{\"colorbar\":{\"outlinewidth\":0,\"ticks\":\"\"}}}],\"scattercarpet\":[{\"type\":\"scattercarpet\",\"marker\":{\"colorbar\":{\"outlinewidth\":0,\"ticks\":\"\"}}}],\"carpet\":[{\"aaxis\":{\"endlinecolor\":\"#2a3f5f\",\"gridcolor\":\"white\",\"linecolor\":\"white\",\"minorgridcolor\":\"white\",\"startlinecolor\":\"#2a3f5f\"},\"baxis\":{\"endlinecolor\":\"#2a3f5f\",\"gridcolor\":\"white\",\"linecolor\":\"white\",\"minorgridcolor\":\"white\",\"startlinecolor\":\"#2a3f5f\"},\"type\":\"carpet\"}],\"table\":[{\"cells\":{\"fill\":{\"color\":\"#EBF0F8\"},\"line\":{\"color\":\"white\"}},\"header\":{\"fill\":{\"color\":\"#C8D4E3\"},\"line\":{\"color\":\"white\"}},\"type\":\"table\"}],\"barpolar\":[{\"marker\":{\"line\":{\"color\":\"#E5ECF6\",\"width\":0.5},\"pattern\":{\"fillmode\":\"overlay\",\"size\":10,\"solidity\":0.2}},\"type\":\"barpolar\"}],\"pie\":[{\"automargin\":true,\"type\":\"pie\"}]},\"layout\":{\"autotypenumbers\":\"strict\",\"colorway\":[\"#636efa\",\"#EF553B\",\"#00cc96\",\"#ab63fa\",\"#FFA15A\",\"#19d3f3\",\"#FF6692\",\"#B6E880\",\"#FF97FF\",\"#FECB52\"],\"font\":{\"color\":\"#2a3f5f\"},\"hovermode\":\"closest\",\"hoverlabel\":{\"align\":\"left\"},\"paper_bgcolor\":\"white\",\"plot_bgcolor\":\"#E5ECF6\",\"polar\":{\"bgcolor\":\"#E5ECF6\",\"angularaxis\":{\"gridcolor\":\"white\",\"linecolor\":\"white\",\"ticks\":\"\"},\"radialaxis\":{\"gridcolor\":\"white\",\"linecolor\":\"white\",\"ticks\":\"\"}},\"ternary\":{\"bgcolor\":\"#E5ECF6\",\"aaxis\":{\"gridcolor\":\"white\",\"linecolor\":\"white\",\"ticks\":\"\"},\"baxis\":{\"gridcolor\":\"white\",\"linecolor\":\"white\",\"ticks\":\"\"},\"caxis\":{\"gridcolor\":\"white\",\"linecolor\":\"white\",\"ticks\":\"\"}},\"coloraxis\":{\"colorbar\":{\"outlinewidth\":0,\"ticks\":\"\"}},\"colorscale\":{\"sequential\":[[0.0,\"#0d0887\"],[0.1111111111111111,\"#46039f\"],[0.2222222222222222,\"#7201a8\"],[0.3333333333333333,\"#9c179e\"],[0.4444444444444444,\"#bd3786\"],[0.5555555555555556,\"#d8576b\"],[0.6666666666666666,\"#ed7953\"],[0.7777777777777778,\"#fb9f3a\"],[0.8888888888888888,\"#fdca26\"],[1.0,\"#f0f921\"]],\"sequentialminus\":[[0.0,\"#0d0887\"],[0.1111111111111111,\"#46039f\"],[0.2222222222222222,\"#7201a8\"],[0.3333333333333333,\"#9c179e\"],[0.4444444444444444,\"#bd3786\"],[0.5555555555555556,\"#d8576b\"],[0.6666666666666666,\"#ed7953\"],[0.7777777777777778,\"#fb9f3a\"],[0.8888888888888888,\"#fdca26\"],[1.0,\"#f0f921\"]],\"diverging\":[[0,\"#8e0152\"],[0.1,\"#c51b7d\"],[0.2,\"#de77ae\"],[0.3,\"#f1b6da\"],[0.4,\"#fde0ef\"],[0.5,\"#f7f7f7\"],[0.6,\"#e6f5d0\"],[0.7,\"#b8e186\"],[0.8,\"#7fbc41\"],[0.9,\"#4d9221\"],[1,\"#276419\"]]},\"xaxis\":{\"gridcolor\":\"white\",\"linecolor\":\"white\",\"ticks\":\"\",\"title\":{\"standoff\":15},\"zerolinecolor\":\"white\",\"automargin\":true,\"zerolinewidth\":2},\"yaxis\":{\"gridcolor\":\"white\",\"linecolor\":\"white\",\"ticks\":\"\",\"title\":{\"standoff\":15},\"zerolinecolor\":\"white\",\"automargin\":true,\"zerolinewidth\":2},\"scene\":{\"xaxis\":{\"backgroundcolor\":\"#E5ECF6\",\"gridcolor\":\"white\",\"linecolor\":\"white\",\"showbackground\":true,\"ticks\":\"\",\"zerolinecolor\":\"white\",\"gridwidth\":2},\"yaxis\":{\"backgroundcolor\":\"#E5ECF6\",\"gridcolor\":\"white\",\"linecolor\":\"white\",\"showbackground\":true,\"ticks\":\"\",\"zerolinecolor\":\"white\",\"gridwidth\":2},\"zaxis\":{\"backgroundcolor\":\"#E5ECF6\",\"gridcolor\":\"white\",\"linecolor\":\"white\",\"showbackground\":true,\"ticks\":\"\",\"zerolinecolor\":\"white\",\"gridwidth\":2}},\"shapedefaults\":{\"line\":{\"color\":\"#2a3f5f\"}},\"annotationdefaults\":{\"arrowcolor\":\"#2a3f5f\",\"arrowhead\":0,\"arrowwidth\":1},\"geo\":{\"bgcolor\":\"white\",\"landcolor\":\"#E5ECF6\",\"subunitcolor\":\"white\",\"showland\":true,\"showlakes\":true,\"lakecolor\":\"white\"},\"title\":{\"x\":0.05},\"mapbox\":{\"style\":\"light\"}}},\"xaxis\":{\"anchor\":\"y\",\"domain\":[0.0,0.94],\"rangeslider\":{\"visible\":false},\"gridcolor\":\"#1f292f\",\"nticks\":5},\"yaxis\":{\"anchor\":\"x\",\"domain\":[0.0,1.0],\"gridcolor\":\"#1f292f\"},\"yaxis2\":{\"anchor\":\"x\",\"overlaying\":\"y\",\"side\":\"right\",\"gridcolor\":\"#1f292f\"},\"margin\":{\"l\":10,\"r\":10,\"t\":10,\"b\":10},\"font\":{\"color\":\"#e1e1e1\"},\"width\":900,\"height\":400,\"paper_bgcolor\":\"#2c303c\",\"plot_bgcolor\":\"#2c303c\"},                        {\"responsive\": true}                    ).then(function(){\n",
       "                            \n",
       "var gd = document.getElementById('e7ae2554-cab0-44a6-8681-d3078d291d61');\n",
       "var x = new MutationObserver(function (mutations, observer) {{\n",
       "        var display = window.getComputedStyle(gd).display;\n",
       "        if (!display || display === 'none') {{\n",
       "            console.log([gd, 'removed!']);\n",
       "            Plotly.purge(gd);\n",
       "            observer.disconnect();\n",
       "        }}\n",
       "}});\n",
       "\n",
       "// Listen for the removal of the full notebook cells\n",
       "var notebookContainer = gd.closest('#notebook-container');\n",
       "if (notebookContainer) {{\n",
       "    x.observe(notebookContainer, {childList: true});\n",
       "}}\n",
       "\n",
       "// Listen for the clearing of the current output cell\n",
       "var outputEl = gd.closest('.output');\n",
       "if (outputEl) {{\n",
       "    x.observe(outputEl, {childList: true});\n",
       "}}\n",
       "\n",
       "                        })                };                });            </script>        </div>"
      ]
     },
     "metadata": {},
     "output_type": "display_data"
    }
   ],
   "source": [
    "df_plot = df_slim.iloc[0:30]\n",
    "cp = CandlePlot(df_plot,candles=True)\n",
    "\n",
    "trades = cp.df_plot[cp.df_plot.SIGNAL!=NONE]\n",
    "\n",
    "markers = ['mid_c', 'TP', 'SL']\n",
    "marker_colors = ['#0000FF', '#00FF00', '#FF0000']\n",
    "\n",
    "for i in range(3):\n",
    "    cp.fig.add_trace(\n",
    "        go.Scatter(\n",
    "            x = trades.sTime,\n",
    "            y = trades[markers[i]],\n",
    "            mode = 'markers',\n",
    "            marker = dict(color = marker_colors[i],size=12)\n",
    "        )\n",
    "    )\n",
    "\n",
    "cp.show_plot(line_traces=['EMA_200'],sec_traces=['RSI_14'])"
   ]
  },
  {
   "cell_type": "code",
   "execution_count": 71,
   "id": "7602ac04-da81-4a19-9e0d-0846dfede7c6",
   "metadata": {},
   "outputs": [
    {
     "data": {
      "text/html": [
       "<div>\n",
       "<style scoped>\n",
       "    .dataframe tbody tr th:only-of-type {\n",
       "        vertical-align: middle;\n",
       "    }\n",
       "\n",
       "    .dataframe tbody tr th {\n",
       "        vertical-align: top;\n",
       "    }\n",
       "\n",
       "    .dataframe thead th {\n",
       "        text-align: right;\n",
       "    }\n",
       "</style>\n",
       "<table border=\"1\" class=\"dataframe\">\n",
       "  <thead>\n",
       "    <tr style=\"text-align: right;\">\n",
       "      <th></th>\n",
       "      <th>running</th>\n",
       "      <th>start_index</th>\n",
       "      <th>start_price</th>\n",
       "      <th>trigger_price</th>\n",
       "      <th>SIGNAL</th>\n",
       "      <th>TP</th>\n",
       "      <th>SL</th>\n",
       "      <th>result</th>\n",
       "      <th>end_time</th>\n",
       "      <th>start_time</th>\n",
       "      <th>duration</th>\n",
       "    </tr>\n",
       "  </thead>\n",
       "  <tbody>\n",
       "    <tr>\n",
       "      <th>1</th>\n",
       "      <td>False</td>\n",
       "      <td>5</td>\n",
       "      <td>167.612</td>\n",
       "      <td>165.688</td>\n",
       "      <td>-1</td>\n",
       "      <td>165.7190</td>\n",
       "      <td>168.874</td>\n",
       "      <td>1.5</td>\n",
       "      <td>2016-01-20 01:00:00+00:00</td>\n",
       "      <td>2016-01-19 12:00:00+00:00</td>\n",
       "      <td>13</td>\n",
       "    </tr>\n",
       "    <tr>\n",
       "      <th>3</th>\n",
       "      <td>False</td>\n",
       "      <td>7</td>\n",
       "      <td>166.674</td>\n",
       "      <td>164.980</td>\n",
       "      <td>-1</td>\n",
       "      <td>165.2130</td>\n",
       "      <td>167.648</td>\n",
       "      <td>1.5</td>\n",
       "      <td>2016-01-20 06:00:00+00:00</td>\n",
       "      <td>2016-01-19 14:00:00+00:00</td>\n",
       "      <td>16</td>\n",
       "    </tr>\n",
       "    <tr>\n",
       "      <th>0</th>\n",
       "      <td>False</td>\n",
       "      <td>12</td>\n",
       "      <td>166.464</td>\n",
       "      <td>166.842</td>\n",
       "      <td>-1</td>\n",
       "      <td>165.9840</td>\n",
       "      <td>166.784</td>\n",
       "      <td>-1.0</td>\n",
       "      <td>2016-01-19 20:00:00+00:00</td>\n",
       "      <td>2016-01-19 19:00:00+00:00</td>\n",
       "      <td>1</td>\n",
       "    </tr>\n",
       "    <tr>\n",
       "      <th>2</th>\n",
       "      <td>False</td>\n",
       "      <td>17</td>\n",
       "      <td>166.498</td>\n",
       "      <td>165.688</td>\n",
       "      <td>-1</td>\n",
       "      <td>166.1950</td>\n",
       "      <td>166.700</td>\n",
       "      <td>1.5</td>\n",
       "      <td>2016-01-20 01:00:00+00:00</td>\n",
       "      <td>2016-01-20 00:00:00+00:00</td>\n",
       "      <td>1</td>\n",
       "    </tr>\n",
       "    <tr>\n",
       "      <th>4</th>\n",
       "      <td>False</td>\n",
       "      <td>25</td>\n",
       "      <td>164.116</td>\n",
       "      <td>165.538</td>\n",
       "      <td>-1</td>\n",
       "      <td>162.1915</td>\n",
       "      <td>165.399</td>\n",
       "      <td>-1.0</td>\n",
       "      <td>2016-01-20 09:00:00+00:00</td>\n",
       "      <td>2016-01-20 08:00:00+00:00</td>\n",
       "      <td>1</td>\n",
       "    </tr>\n",
       "  </tbody>\n",
       "</table>\n",
       "</div>"
      ],
      "text/plain": [
       "   running  start_index  start_price  trigger_price  SIGNAL        TP  \\\n",
       "1    False            5      167.612        165.688      -1  165.7190   \n",
       "3    False            7      166.674        164.980      -1  165.2130   \n",
       "0    False           12      166.464        166.842      -1  165.9840   \n",
       "2    False           17      166.498        165.688      -1  166.1950   \n",
       "4    False           25      164.116        165.538      -1  162.1915   \n",
       "\n",
       "        SL  result                  end_time                start_time  \\\n",
       "1  168.874     1.5 2016-01-20 01:00:00+00:00 2016-01-19 12:00:00+00:00   \n",
       "3  167.648     1.5 2016-01-20 06:00:00+00:00 2016-01-19 14:00:00+00:00   \n",
       "0  166.784    -1.0 2016-01-19 20:00:00+00:00 2016-01-19 19:00:00+00:00   \n",
       "2  166.700     1.5 2016-01-20 01:00:00+00:00 2016-01-20 00:00:00+00:00   \n",
       "4  165.399    -1.0 2016-01-20 09:00:00+00:00 2016-01-20 08:00:00+00:00   \n",
       "\n",
       "   duration  \n",
       "1        13  \n",
       "3        16  \n",
       "0         1  \n",
       "2         1  \n",
       "4         1  "
      ]
     },
     "execution_count": 71,
     "metadata": {},
     "output_type": "execute_result"
    }
   ],
   "source": [
    "df_results.head()"
   ]
  },
  {
   "cell_type": "code",
   "execution_count": 72,
   "id": "0f290824-ea4e-4277-9339-379083081701",
   "metadata": {},
   "outputs": [],
   "source": [
    "class Trade:\n",
    "    def __init__(self,row):\n",
    "        self.running = True\n",
    "        self.start_index = row.name\n",
    "        self.start_price = row.mid_c\n",
    "        self.trigger_price = row.mid_c\n",
    "        self.SIGNAL = row.SIGNAL\n",
    "        self.TP = row.TP\n",
    "        self.SL = row.SL\n",
    "        self.result = 0.0\n",
    "        self.end_time = row.time\n",
    "        self.start_time = row.time\n",
    "        self.duration = 0\n",
    "\n",
    "    def close_trade(self,row,result,trigger_price):\n",
    "        self.running = False\n",
    "        self.result = result\n",
    "        self.end_time = row.time\n",
    "        self.trigger_price = trigger_price\n",
    "\n",
    "    def update(self,row):\n",
    "        self.duration += 1\n",
    "        if self.SIGNAL == BUY:\n",
    "            if row.mid_h >= self.TP:\n",
    "                self.close_trade(row,PROFIT_FACTOR,row.mid_h)\n",
    "            elif row.mid_l <= self.SL:\n",
    "                self.close_trade(row,LOSS_FACTOR,row.mid_l)\n",
    "\n",
    "        if self.SIGNAL == SELL:\n",
    "            if row.mid_l <= self.TP:\n",
    "                self.close_trade(row,PROFIT_FACTOR,row.mid_l)\n",
    "            elif row.mid_h >= self.SL:\n",
    "                self.close_trade(row,LOSS_FACTOR,row.mid_h)"
   ]
  },
  {
   "cell_type": "code",
   "execution_count": 73,
   "id": "de70ba49-3a97-43fc-bb39-383fb7264b9d",
   "metadata": {},
   "outputs": [],
   "source": [
    "open_trades = []\n",
    "closed_trades = []\n",
    "\n",
    "for index,row in df_slim.iterrows():\n",
    "    for ot in open_trades:\n",
    "        ot.update(row)\n",
    "        if ot.running == False:\n",
    "            closed_trades.append(ot)\n",
    "\n",
    "    open_trades = [x for x in open_trades if x.running == True]\n",
    "\n",
    "    if row.SIGNAL != NONE:\n",
    "        open_trades.append(Trade(row))"
   ]
  },
  {
   "cell_type": "code",
   "execution_count": 74,
   "id": "a54b3608-6274-4d93-b996-396eae3e7ce9",
   "metadata": {},
   "outputs": [],
   "source": [
    "df_results = pd.DataFrame.from_dict([vars(x) for x in closed_trades])"
   ]
  },
  {
   "cell_type": "code",
   "execution_count": 75,
   "id": "9f14f8f3-033d-4125-a490-9161751c1365",
   "metadata": {},
   "outputs": [],
   "source": [
    "df_results.sort_values(by=\"start_index\",inplace=True)"
   ]
  },
  {
   "cell_type": "code",
   "execution_count": 76,
   "id": "a60c8695-2c31-45a6-a5c2-84c9aa2892fc",
   "metadata": {},
   "outputs": [],
   "source": [
    "df_m5 = pd.read_pickle(\"../data/EUR_USD_M5.pkl\")"
   ]
  },
  {
   "cell_type": "code",
   "execution_count": 77,
   "id": "b14524fc-5699-4463-8684-767d0aff48be",
   "metadata": {},
   "outputs": [
    {
     "data": {
      "text/plain": [
       "(445038, 14)"
      ]
     },
     "execution_count": 77,
     "metadata": {},
     "output_type": "execute_result"
    }
   ],
   "source": [
    "df_m5.shape"
   ]
  },
  {
   "cell_type": "code",
   "execution_count": 78,
   "id": "06ec0fe8-bfd9-4936-bfbf-ac4d88f5dec0",
   "metadata": {},
   "outputs": [],
   "source": [
    "from dateutil import parser"
   ]
  },
  {
   "cell_type": "code",
   "execution_count": 79,
   "id": "8691c5a5-308b-4af4-afe3-356e6c1e7962",
   "metadata": {},
   "outputs": [],
   "source": [
    "time_min = parser.parse(\"2021-12-15T10:00:00Z\")\n",
    "time_max = parser.parse(\"2021-12-15T11:00:00Z\")\n",
    "df_m5_s = df_m5[(df_m5.time>=time_min)&(df_m5.time<=time_max)]\n",
    "df_raw_s = df_raw[(df_raw.time>=time_min)&(df_raw.time<=time_max)]"
   ]
  },
  {
   "cell_type": "code",
   "execution_count": 80,
   "id": "afd499c2-e72a-4bbc-b94d-700994a3c1f2",
   "metadata": {},
   "outputs": [
    {
     "data": {
      "text/html": [
       "<div>\n",
       "<style scoped>\n",
       "    .dataframe tbody tr th:only-of-type {\n",
       "        vertical-align: middle;\n",
       "    }\n",
       "\n",
       "    .dataframe tbody tr th {\n",
       "        vertical-align: top;\n",
       "    }\n",
       "\n",
       "    .dataframe thead th {\n",
       "        text-align: right;\n",
       "    }\n",
       "</style>\n",
       "<table border=\"1\" class=\"dataframe\">\n",
       "  <thead>\n",
       "    <tr style=\"text-align: right;\">\n",
       "      <th></th>\n",
       "      <th>time</th>\n",
       "      <th>volume</th>\n",
       "      <th>mid_o</th>\n",
       "      <th>mid_h</th>\n",
       "      <th>mid_l</th>\n",
       "      <th>mid_c</th>\n",
       "      <th>bid_o</th>\n",
       "      <th>bid_h</th>\n",
       "      <th>bid_l</th>\n",
       "      <th>bid_c</th>\n",
       "      <th>ask_o</th>\n",
       "      <th>ask_h</th>\n",
       "      <th>ask_l</th>\n",
       "      <th>ask_c</th>\n",
       "    </tr>\n",
       "  </thead>\n",
       "  <tbody>\n",
       "    <tr>\n",
       "      <th>441719</th>\n",
       "      <td>2021-12-15 10:00:00+00:00</td>\n",
       "      <td>208</td>\n",
       "      <td>1.12716</td>\n",
       "      <td>1.12745</td>\n",
       "      <td>1.12709</td>\n",
       "      <td>1.12734</td>\n",
       "      <td>1.12708</td>\n",
       "      <td>1.12738</td>\n",
       "      <td>1.12702</td>\n",
       "      <td>1.12727</td>\n",
       "      <td>1.12723</td>\n",
       "      <td>1.12752</td>\n",
       "      <td>1.12715</td>\n",
       "      <td>1.12742</td>\n",
       "    </tr>\n",
       "    <tr>\n",
       "      <th>441720</th>\n",
       "      <td>2021-12-15 10:05:00+00:00</td>\n",
       "      <td>132</td>\n",
       "      <td>1.12733</td>\n",
       "      <td>1.12754</td>\n",
       "      <td>1.12726</td>\n",
       "      <td>1.12746</td>\n",
       "      <td>1.12726</td>\n",
       "      <td>1.12747</td>\n",
       "      <td>1.12719</td>\n",
       "      <td>1.12739</td>\n",
       "      <td>1.12740</td>\n",
       "      <td>1.12760</td>\n",
       "      <td>1.12733</td>\n",
       "      <td>1.12752</td>\n",
       "    </tr>\n",
       "    <tr>\n",
       "      <th>441721</th>\n",
       "      <td>2021-12-15 10:10:00+00:00</td>\n",
       "      <td>166</td>\n",
       "      <td>1.12744</td>\n",
       "      <td>1.12752</td>\n",
       "      <td>1.12732</td>\n",
       "      <td>1.12746</td>\n",
       "      <td>1.12737</td>\n",
       "      <td>1.12745</td>\n",
       "      <td>1.12725</td>\n",
       "      <td>1.12739</td>\n",
       "      <td>1.12750</td>\n",
       "      <td>1.12760</td>\n",
       "      <td>1.12739</td>\n",
       "      <td>1.12753</td>\n",
       "    </tr>\n",
       "    <tr>\n",
       "      <th>441722</th>\n",
       "      <td>2021-12-15 10:15:00+00:00</td>\n",
       "      <td>138</td>\n",
       "      <td>1.12744</td>\n",
       "      <td>1.12770</td>\n",
       "      <td>1.12740</td>\n",
       "      <td>1.12761</td>\n",
       "      <td>1.12737</td>\n",
       "      <td>1.12763</td>\n",
       "      <td>1.12733</td>\n",
       "      <td>1.12754</td>\n",
       "      <td>1.12752</td>\n",
       "      <td>1.12776</td>\n",
       "      <td>1.12747</td>\n",
       "      <td>1.12768</td>\n",
       "    </tr>\n",
       "    <tr>\n",
       "      <th>441723</th>\n",
       "      <td>2021-12-15 10:20:00+00:00</td>\n",
       "      <td>252</td>\n",
       "      <td>1.12760</td>\n",
       "      <td>1.12762</td>\n",
       "      <td>1.12712</td>\n",
       "      <td>1.12712</td>\n",
       "      <td>1.12753</td>\n",
       "      <td>1.12756</td>\n",
       "      <td>1.12705</td>\n",
       "      <td>1.12705</td>\n",
       "      <td>1.12767</td>\n",
       "      <td>1.12769</td>\n",
       "      <td>1.12719</td>\n",
       "      <td>1.12719</td>\n",
       "    </tr>\n",
       "    <tr>\n",
       "      <th>441724</th>\n",
       "      <td>2021-12-15 10:25:00+00:00</td>\n",
       "      <td>198</td>\n",
       "      <td>1.12711</td>\n",
       "      <td>1.12726</td>\n",
       "      <td>1.12695</td>\n",
       "      <td>1.12695</td>\n",
       "      <td>1.12704</td>\n",
       "      <td>1.12719</td>\n",
       "      <td>1.12688</td>\n",
       "      <td>1.12688</td>\n",
       "      <td>1.12718</td>\n",
       "      <td>1.12733</td>\n",
       "      <td>1.12702</td>\n",
       "      <td>1.12702</td>\n",
       "    </tr>\n",
       "    <tr>\n",
       "      <th>441725</th>\n",
       "      <td>2021-12-15 10:30:00+00:00</td>\n",
       "      <td>142</td>\n",
       "      <td>1.12696</td>\n",
       "      <td>1.12698</td>\n",
       "      <td>1.12680</td>\n",
       "      <td>1.12696</td>\n",
       "      <td>1.12689</td>\n",
       "      <td>1.12691</td>\n",
       "      <td>1.12674</td>\n",
       "      <td>1.12690</td>\n",
       "      <td>1.12703</td>\n",
       "      <td>1.12706</td>\n",
       "      <td>1.12686</td>\n",
       "      <td>1.12703</td>\n",
       "    </tr>\n",
       "    <tr>\n",
       "      <th>441726</th>\n",
       "      <td>2021-12-15 10:35:00+00:00</td>\n",
       "      <td>121</td>\n",
       "      <td>1.12698</td>\n",
       "      <td>1.12712</td>\n",
       "      <td>1.12698</td>\n",
       "      <td>1.12700</td>\n",
       "      <td>1.12691</td>\n",
       "      <td>1.12705</td>\n",
       "      <td>1.12691</td>\n",
       "      <td>1.12693</td>\n",
       "      <td>1.12704</td>\n",
       "      <td>1.12718</td>\n",
       "      <td>1.12704</td>\n",
       "      <td>1.12706</td>\n",
       "    </tr>\n",
       "    <tr>\n",
       "      <th>441727</th>\n",
       "      <td>2021-12-15 10:40:00+00:00</td>\n",
       "      <td>206</td>\n",
       "      <td>1.12698</td>\n",
       "      <td>1.12707</td>\n",
       "      <td>1.12651</td>\n",
       "      <td>1.12656</td>\n",
       "      <td>1.12692</td>\n",
       "      <td>1.12700</td>\n",
       "      <td>1.12644</td>\n",
       "      <td>1.12649</td>\n",
       "      <td>1.12705</td>\n",
       "      <td>1.12714</td>\n",
       "      <td>1.12658</td>\n",
       "      <td>1.12663</td>\n",
       "    </tr>\n",
       "    <tr>\n",
       "      <th>441728</th>\n",
       "      <td>2021-12-15 10:45:00+00:00</td>\n",
       "      <td>165</td>\n",
       "      <td>1.12655</td>\n",
       "      <td>1.12668</td>\n",
       "      <td>1.12645</td>\n",
       "      <td>1.12654</td>\n",
       "      <td>1.12648</td>\n",
       "      <td>1.12661</td>\n",
       "      <td>1.12638</td>\n",
       "      <td>1.12648</td>\n",
       "      <td>1.12662</td>\n",
       "      <td>1.12675</td>\n",
       "      <td>1.12652</td>\n",
       "      <td>1.12661</td>\n",
       "    </tr>\n",
       "    <tr>\n",
       "      <th>441729</th>\n",
       "      <td>2021-12-15 10:50:00+00:00</td>\n",
       "      <td>125</td>\n",
       "      <td>1.12653</td>\n",
       "      <td>1.12653</td>\n",
       "      <td>1.12634</td>\n",
       "      <td>1.12640</td>\n",
       "      <td>1.12646</td>\n",
       "      <td>1.12646</td>\n",
       "      <td>1.12627</td>\n",
       "      <td>1.12633</td>\n",
       "      <td>1.12660</td>\n",
       "      <td>1.12660</td>\n",
       "      <td>1.12640</td>\n",
       "      <td>1.12648</td>\n",
       "    </tr>\n",
       "    <tr>\n",
       "      <th>441730</th>\n",
       "      <td>2021-12-15 10:55:00+00:00</td>\n",
       "      <td>185</td>\n",
       "      <td>1.12642</td>\n",
       "      <td>1.12678</td>\n",
       "      <td>1.12634</td>\n",
       "      <td>1.12673</td>\n",
       "      <td>1.12635</td>\n",
       "      <td>1.12672</td>\n",
       "      <td>1.12627</td>\n",
       "      <td>1.12666</td>\n",
       "      <td>1.12650</td>\n",
       "      <td>1.12685</td>\n",
       "      <td>1.12640</td>\n",
       "      <td>1.12680</td>\n",
       "    </tr>\n",
       "    <tr>\n",
       "      <th>441731</th>\n",
       "      <td>2021-12-15 11:00:00+00:00</td>\n",
       "      <td>202</td>\n",
       "      <td>1.12674</td>\n",
       "      <td>1.12674</td>\n",
       "      <td>1.12643</td>\n",
       "      <td>1.12644</td>\n",
       "      <td>1.12667</td>\n",
       "      <td>1.12667</td>\n",
       "      <td>1.12636</td>\n",
       "      <td>1.12638</td>\n",
       "      <td>1.12681</td>\n",
       "      <td>1.12681</td>\n",
       "      <td>1.12650</td>\n",
       "      <td>1.12651</td>\n",
       "    </tr>\n",
       "  </tbody>\n",
       "</table>\n",
       "</div>"
      ],
      "text/plain": [
       "                            time  volume    mid_o    mid_h    mid_l    mid_c  \\\n",
       "441719 2021-12-15 10:00:00+00:00     208  1.12716  1.12745  1.12709  1.12734   \n",
       "441720 2021-12-15 10:05:00+00:00     132  1.12733  1.12754  1.12726  1.12746   \n",
       "441721 2021-12-15 10:10:00+00:00     166  1.12744  1.12752  1.12732  1.12746   \n",
       "441722 2021-12-15 10:15:00+00:00     138  1.12744  1.12770  1.12740  1.12761   \n",
       "441723 2021-12-15 10:20:00+00:00     252  1.12760  1.12762  1.12712  1.12712   \n",
       "441724 2021-12-15 10:25:00+00:00     198  1.12711  1.12726  1.12695  1.12695   \n",
       "441725 2021-12-15 10:30:00+00:00     142  1.12696  1.12698  1.12680  1.12696   \n",
       "441726 2021-12-15 10:35:00+00:00     121  1.12698  1.12712  1.12698  1.12700   \n",
       "441727 2021-12-15 10:40:00+00:00     206  1.12698  1.12707  1.12651  1.12656   \n",
       "441728 2021-12-15 10:45:00+00:00     165  1.12655  1.12668  1.12645  1.12654   \n",
       "441729 2021-12-15 10:50:00+00:00     125  1.12653  1.12653  1.12634  1.12640   \n",
       "441730 2021-12-15 10:55:00+00:00     185  1.12642  1.12678  1.12634  1.12673   \n",
       "441731 2021-12-15 11:00:00+00:00     202  1.12674  1.12674  1.12643  1.12644   \n",
       "\n",
       "          bid_o    bid_h    bid_l    bid_c    ask_o    ask_h    ask_l    ask_c  \n",
       "441719  1.12708  1.12738  1.12702  1.12727  1.12723  1.12752  1.12715  1.12742  \n",
       "441720  1.12726  1.12747  1.12719  1.12739  1.12740  1.12760  1.12733  1.12752  \n",
       "441721  1.12737  1.12745  1.12725  1.12739  1.12750  1.12760  1.12739  1.12753  \n",
       "441722  1.12737  1.12763  1.12733  1.12754  1.12752  1.12776  1.12747  1.12768  \n",
       "441723  1.12753  1.12756  1.12705  1.12705  1.12767  1.12769  1.12719  1.12719  \n",
       "441724  1.12704  1.12719  1.12688  1.12688  1.12718  1.12733  1.12702  1.12702  \n",
       "441725  1.12689  1.12691  1.12674  1.12690  1.12703  1.12706  1.12686  1.12703  \n",
       "441726  1.12691  1.12705  1.12691  1.12693  1.12704  1.12718  1.12704  1.12706  \n",
       "441727  1.12692  1.12700  1.12644  1.12649  1.12705  1.12714  1.12658  1.12663  \n",
       "441728  1.12648  1.12661  1.12638  1.12648  1.12662  1.12675  1.12652  1.12661  \n",
       "441729  1.12646  1.12646  1.12627  1.12633  1.12660  1.12660  1.12640  1.12648  \n",
       "441730  1.12635  1.12672  1.12627  1.12666  1.12650  1.12685  1.12640  1.12680  \n",
       "441731  1.12667  1.12667  1.12636  1.12638  1.12681  1.12681  1.12650  1.12651  "
      ]
     },
     "execution_count": 80,
     "metadata": {},
     "output_type": "execute_result"
    }
   ],
   "source": [
    "df_m5_s"
   ]
  },
  {
   "cell_type": "code",
   "execution_count": 81,
   "id": "640d935c-4474-4fde-a54b-c01c6fbd4789",
   "metadata": {},
   "outputs": [
    {
     "data": {
      "text/html": [
       "<div>\n",
       "<style scoped>\n",
       "    .dataframe tbody tr th:only-of-type {\n",
       "        vertical-align: middle;\n",
       "    }\n",
       "\n",
       "    .dataframe tbody tr th {\n",
       "        vertical-align: top;\n",
       "    }\n",
       "\n",
       "    .dataframe thead th {\n",
       "        text-align: right;\n",
       "    }\n",
       "</style>\n",
       "<table border=\"1\" class=\"dataframe\">\n",
       "  <thead>\n",
       "    <tr style=\"text-align: right;\">\n",
       "      <th></th>\n",
       "      <th>time</th>\n",
       "      <th>volume</th>\n",
       "      <th>mid_o</th>\n",
       "      <th>mid_h</th>\n",
       "      <th>mid_l</th>\n",
       "      <th>mid_c</th>\n",
       "      <th>bid_o</th>\n",
       "      <th>bid_h</th>\n",
       "      <th>bid_l</th>\n",
       "      <th>bid_c</th>\n",
       "      <th>ask_o</th>\n",
       "      <th>ask_h</th>\n",
       "      <th>ask_l</th>\n",
       "      <th>ask_c</th>\n",
       "    </tr>\n",
       "  </thead>\n",
       "  <tbody>\n",
       "    <tr>\n",
       "      <th>36941</th>\n",
       "      <td>2021-12-15 10:00:00+00:00</td>\n",
       "      <td>2038</td>\n",
       "      <td>1.12716</td>\n",
       "      <td>1.1277</td>\n",
       "      <td>1.12634</td>\n",
       "      <td>1.12673</td>\n",
       "      <td>1.12708</td>\n",
       "      <td>1.12763</td>\n",
       "      <td>1.12627</td>\n",
       "      <td>1.12666</td>\n",
       "      <td>1.12723</td>\n",
       "      <td>1.12776</td>\n",
       "      <td>1.12640</td>\n",
       "      <td>1.12680</td>\n",
       "    </tr>\n",
       "    <tr>\n",
       "      <th>36942</th>\n",
       "      <td>2021-12-15 11:00:00+00:00</td>\n",
       "      <td>2138</td>\n",
       "      <td>1.12674</td>\n",
       "      <td>1.1270</td>\n",
       "      <td>1.12626</td>\n",
       "      <td>1.12698</td>\n",
       "      <td>1.12667</td>\n",
       "      <td>1.12693</td>\n",
       "      <td>1.12619</td>\n",
       "      <td>1.12691</td>\n",
       "      <td>1.12681</td>\n",
       "      <td>1.12706</td>\n",
       "      <td>1.12631</td>\n",
       "      <td>1.12705</td>\n",
       "    </tr>\n",
       "  </tbody>\n",
       "</table>\n",
       "</div>"
      ],
      "text/plain": [
       "                           time  volume    mid_o   mid_h    mid_l    mid_c  \\\n",
       "36941 2021-12-15 10:00:00+00:00    2038  1.12716  1.1277  1.12634  1.12673   \n",
       "36942 2021-12-15 11:00:00+00:00    2138  1.12674  1.1270  1.12626  1.12698   \n",
       "\n",
       "         bid_o    bid_h    bid_l    bid_c    ask_o    ask_h    ask_l    ask_c  \n",
       "36941  1.12708  1.12763  1.12627  1.12666  1.12723  1.12776  1.12640  1.12680  \n",
       "36942  1.12667  1.12693  1.12619  1.12691  1.12681  1.12706  1.12631  1.12705  "
      ]
     },
     "execution_count": 81,
     "metadata": {},
     "output_type": "execute_result"
    }
   ],
   "source": [
    "df_raw_s"
   ]
  },
  {
   "cell_type": "code",
   "execution_count": 82,
   "id": "860245ac-c4e5-4f6c-a4f7-0734f9e45326",
   "metadata": {},
   "outputs": [],
   "source": [
    "df_m5_slim = df_m5[['time','mid_h','mid_l']].copy()"
   ]
  },
  {
   "cell_type": "code",
   "execution_count": 83,
   "id": "612c5d4e-7770-4b46-9881-420399213249",
   "metadata": {},
   "outputs": [
    {
     "data": {
      "text/html": [
       "<div>\n",
       "<style scoped>\n",
       "    .dataframe tbody tr th:only-of-type {\n",
       "        vertical-align: middle;\n",
       "    }\n",
       "\n",
       "    .dataframe tbody tr th {\n",
       "        vertical-align: top;\n",
       "    }\n",
       "\n",
       "    .dataframe thead th {\n",
       "        text-align: right;\n",
       "    }\n",
       "</style>\n",
       "<table border=\"1\" class=\"dataframe\">\n",
       "  <thead>\n",
       "    <tr style=\"text-align: right;\">\n",
       "      <th></th>\n",
       "      <th>time</th>\n",
       "      <th>mid_h</th>\n",
       "      <th>mid_l</th>\n",
       "    </tr>\n",
       "  </thead>\n",
       "  <tbody>\n",
       "    <tr>\n",
       "      <th>0</th>\n",
       "      <td>2016-01-07 00:00:00+00:00</td>\n",
       "      <td>1.07811</td>\n",
       "      <td>1.07759</td>\n",
       "    </tr>\n",
       "    <tr>\n",
       "      <th>1</th>\n",
       "      <td>2016-01-07 00:05:00+00:00</td>\n",
       "      <td>1.07818</td>\n",
       "      <td>1.07764</td>\n",
       "    </tr>\n",
       "    <tr>\n",
       "      <th>2</th>\n",
       "      <td>2016-01-07 00:10:00+00:00</td>\n",
       "      <td>1.07832</td>\n",
       "      <td>1.07812</td>\n",
       "    </tr>\n",
       "    <tr>\n",
       "      <th>3</th>\n",
       "      <td>2016-01-07 00:15:00+00:00</td>\n",
       "      <td>1.07830</td>\n",
       "      <td>1.07798</td>\n",
       "    </tr>\n",
       "    <tr>\n",
       "      <th>4</th>\n",
       "      <td>2016-01-07 00:20:00+00:00</td>\n",
       "      <td>1.07799</td>\n",
       "      <td>1.07776</td>\n",
       "    </tr>\n",
       "  </tbody>\n",
       "</table>\n",
       "</div>"
      ],
      "text/plain": [
       "                       time    mid_h    mid_l\n",
       "0 2016-01-07 00:00:00+00:00  1.07811  1.07759\n",
       "1 2016-01-07 00:05:00+00:00  1.07818  1.07764\n",
       "2 2016-01-07 00:10:00+00:00  1.07832  1.07812\n",
       "3 2016-01-07 00:15:00+00:00  1.07830  1.07798\n",
       "4 2016-01-07 00:20:00+00:00  1.07799  1.07776"
      ]
     },
     "execution_count": 83,
     "metadata": {},
     "output_type": "execute_result"
    }
   ],
   "source": [
    "df_m5_slim.head()"
   ]
  },
  {
   "cell_type": "code",
   "execution_count": 94,
   "id": "98ebc837-dddd-4b5c-b3d1-bad51ba4522f",
   "metadata": {},
   "outputs": [],
   "source": [
    "df_signals = df_slim[df_slim.SIGNAL!=NONE].copy()"
   ]
  },
  {
   "cell_type": "code",
   "execution_count": 95,
   "id": "dfcda86b-23b9-401d-b491-76e3a78f423d",
   "metadata": {},
   "outputs": [],
   "source": [
    "df_signals['m5_start'] = [x+dt.timedelta(hours=1) for x in df_signals.time]"
   ]
  },
  {
   "cell_type": "code",
   "execution_count": 103,
   "id": "ccfed9e0-58ad-4c06-be1f-3628d3b9970a",
   "metadata": {},
   "outputs": [],
   "source": [
    "df_signals['start_index_h1'] = df_signals.index"
   ]
  },
  {
   "cell_type": "code",
   "execution_count": 104,
   "id": "5848aeef-9de3-4661-9890-382683206b8c",
   "metadata": {},
   "outputs": [
    {
     "data": {
      "text/html": [
       "<div>\n",
       "<style scoped>\n",
       "    .dataframe tbody tr th:only-of-type {\n",
       "        vertical-align: middle;\n",
       "    }\n",
       "\n",
       "    .dataframe tbody tr th {\n",
       "        vertical-align: top;\n",
       "    }\n",
       "\n",
       "    .dataframe thead th {\n",
       "        text-align: right;\n",
       "    }\n",
       "</style>\n",
       "<table border=\"1\" class=\"dataframe\">\n",
       "  <thead>\n",
       "    <tr style=\"text-align: right;\">\n",
       "      <th></th>\n",
       "      <th>start_price</th>\n",
       "      <th>SIGNAL</th>\n",
       "      <th>TP</th>\n",
       "      <th>SL</th>\n",
       "      <th>time</th>\n",
       "      <th>start_index</th>\n",
       "      <th>start_index_h1</th>\n",
       "    </tr>\n",
       "  </thead>\n",
       "  <tbody>\n",
       "    <tr>\n",
       "      <th>4</th>\n",
       "      <td>1.08630</td>\n",
       "      <td>-1</td>\n",
       "      <td>1.084830</td>\n",
       "      <td>1.08728</td>\n",
       "      <td>2016-01-19 12:00:00+00:00</td>\n",
       "      <td>4</td>\n",
       "      <td>4</td>\n",
       "    </tr>\n",
       "    <tr>\n",
       "      <th>15</th>\n",
       "      <td>1.09140</td>\n",
       "      <td>1</td>\n",
       "      <td>1.092600</td>\n",
       "      <td>1.09060</td>\n",
       "      <td>2016-01-19 23:00:00+00:00</td>\n",
       "      <td>15</td>\n",
       "      <td>15</td>\n",
       "    </tr>\n",
       "    <tr>\n",
       "      <th>17</th>\n",
       "      <td>1.09214</td>\n",
       "      <td>1</td>\n",
       "      <td>1.093670</td>\n",
       "      <td>1.09112</td>\n",
       "      <td>2016-01-20 01:00:00+00:00</td>\n",
       "      <td>17</td>\n",
       "      <td>17</td>\n",
       "    </tr>\n",
       "    <tr>\n",
       "      <th>23</th>\n",
       "      <td>1.09546</td>\n",
       "      <td>1</td>\n",
       "      <td>1.096285</td>\n",
       "      <td>1.09491</td>\n",
       "      <td>2016-01-20 07:00:00+00:00</td>\n",
       "      <td>23</td>\n",
       "      <td>23</td>\n",
       "    </tr>\n",
       "    <tr>\n",
       "      <th>25</th>\n",
       "      <td>1.09625</td>\n",
       "      <td>1</td>\n",
       "      <td>1.099655</td>\n",
       "      <td>1.09398</td>\n",
       "      <td>2016-01-20 09:00:00+00:00</td>\n",
       "      <td>25</td>\n",
       "      <td>25</td>\n",
       "    </tr>\n",
       "  </tbody>\n",
       "</table>\n",
       "</div>"
      ],
      "text/plain": [
       "    start_price  SIGNAL        TP       SL                      time  \\\n",
       "4       1.08630      -1  1.084830  1.08728 2016-01-19 12:00:00+00:00   \n",
       "15      1.09140       1  1.092600  1.09060 2016-01-19 23:00:00+00:00   \n",
       "17      1.09214       1  1.093670  1.09112 2016-01-20 01:00:00+00:00   \n",
       "23      1.09546       1  1.096285  1.09491 2016-01-20 07:00:00+00:00   \n",
       "25      1.09625       1  1.099655  1.09398 2016-01-20 09:00:00+00:00   \n",
       "\n",
       "    start_index  start_index_h1  \n",
       "4             4               4  \n",
       "15           15              15  \n",
       "17           17              17  \n",
       "23           23              23  \n",
       "25           25              25  "
      ]
     },
     "execution_count": 104,
     "metadata": {},
     "output_type": "execute_result"
    }
   ],
   "source": [
    "df_signals.head()"
   ]
  },
  {
   "cell_type": "code",
   "execution_count": 98,
   "id": "00083d65-a967-4546-a71b-10a26606770c",
   "metadata": {},
   "outputs": [
    {
     "data": {
      "text/plain": [
       "Index(['time', 'mid_o', 'mid_h', 'mid_l', 'mid_c', 'ask_c', 'bid_c',\n",
       "       'ENGULFING', 'direction', 'EMA_200', 'RSI_14', 'SIGNAL', 'TP', 'SL',\n",
       "       'm5_start', 'start_index'],\n",
       "      dtype='object')"
      ]
     },
     "execution_count": 98,
     "metadata": {},
     "output_type": "execute_result"
    }
   ],
   "source": [
    "df_signals.columns"
   ]
  },
  {
   "cell_type": "code",
   "execution_count": 99,
   "id": "7a7d3949-f8fc-4090-a34c-2c13aca005b3",
   "metadata": {},
   "outputs": [],
   "source": [
    "df_signals.drop(['time', 'mid_o', 'mid_h', 'mid_l', 'ask_c', 'bid_c',\n",
    "       'ENGULFING', 'EMA_200', 'RSI_14', 'direction'],axis=1,inplace=True)"
   ]
  },
  {
   "cell_type": "code",
   "execution_count": 107,
   "id": "33692a1e-118b-41ae-8268-ef04e080e7b5",
   "metadata": {},
   "outputs": [
    {
     "data": {
      "text/html": [
       "<div>\n",
       "<style scoped>\n",
       "    .dataframe tbody tr th:only-of-type {\n",
       "        vertical-align: middle;\n",
       "    }\n",
       "\n",
       "    .dataframe tbody tr th {\n",
       "        vertical-align: top;\n",
       "    }\n",
       "\n",
       "    .dataframe thead th {\n",
       "        text-align: right;\n",
       "    }\n",
       "</style>\n",
       "<table border=\"1\" class=\"dataframe\">\n",
       "  <thead>\n",
       "    <tr style=\"text-align: right;\">\n",
       "      <th></th>\n",
       "      <th>start_price</th>\n",
       "      <th>SIGNAL</th>\n",
       "      <th>TP</th>\n",
       "      <th>SL</th>\n",
       "      <th>time</th>\n",
       "      <th>start_index_h1</th>\n",
       "    </tr>\n",
       "  </thead>\n",
       "  <tbody>\n",
       "    <tr>\n",
       "      <th>4</th>\n",
       "      <td>1.08630</td>\n",
       "      <td>-1</td>\n",
       "      <td>1.084830</td>\n",
       "      <td>1.08728</td>\n",
       "      <td>2016-01-19 12:00:00+00:00</td>\n",
       "      <td>4</td>\n",
       "    </tr>\n",
       "    <tr>\n",
       "      <th>15</th>\n",
       "      <td>1.09140</td>\n",
       "      <td>1</td>\n",
       "      <td>1.092600</td>\n",
       "      <td>1.09060</td>\n",
       "      <td>2016-01-19 23:00:00+00:00</td>\n",
       "      <td>15</td>\n",
       "    </tr>\n",
       "    <tr>\n",
       "      <th>17</th>\n",
       "      <td>1.09214</td>\n",
       "      <td>1</td>\n",
       "      <td>1.093670</td>\n",
       "      <td>1.09112</td>\n",
       "      <td>2016-01-20 01:00:00+00:00</td>\n",
       "      <td>17</td>\n",
       "    </tr>\n",
       "    <tr>\n",
       "      <th>23</th>\n",
       "      <td>1.09546</td>\n",
       "      <td>1</td>\n",
       "      <td>1.096285</td>\n",
       "      <td>1.09491</td>\n",
       "      <td>2016-01-20 07:00:00+00:00</td>\n",
       "      <td>23</td>\n",
       "    </tr>\n",
       "    <tr>\n",
       "      <th>25</th>\n",
       "      <td>1.09625</td>\n",
       "      <td>1</td>\n",
       "      <td>1.099655</td>\n",
       "      <td>1.09398</td>\n",
       "      <td>2016-01-20 09:00:00+00:00</td>\n",
       "      <td>25</td>\n",
       "    </tr>\n",
       "  </tbody>\n",
       "</table>\n",
       "</div>"
      ],
      "text/plain": [
       "    start_price  SIGNAL        TP       SL                      time  \\\n",
       "4       1.08630      -1  1.084830  1.08728 2016-01-19 12:00:00+00:00   \n",
       "15      1.09140       1  1.092600  1.09060 2016-01-19 23:00:00+00:00   \n",
       "17      1.09214       1  1.093670  1.09112 2016-01-20 01:00:00+00:00   \n",
       "23      1.09546       1  1.096285  1.09491 2016-01-20 07:00:00+00:00   \n",
       "25      1.09625       1  1.099655  1.09398 2016-01-20 09:00:00+00:00   \n",
       "\n",
       "    start_index_h1  \n",
       "4                4  \n",
       "15              15  \n",
       "17              17  \n",
       "23              23  \n",
       "25              25  "
      ]
     },
     "execution_count": 107,
     "metadata": {},
     "output_type": "execute_result"
    }
   ],
   "source": [
    "df_signals.head()"
   ]
  },
  {
   "cell_type": "code",
   "execution_count": 106,
   "id": "c3388552-80be-40f3-a148-c7613ed031e8",
   "metadata": {},
   "outputs": [],
   "source": [
    "df_signals.drop(['start_index'],axis=1,inplace=True)"
   ]
  },
  {
   "cell_type": "code",
   "execution_count": 101,
   "id": "91254cab-9a9f-4ab2-a961-9b4cd2bacf6a",
   "metadata": {},
   "outputs": [],
   "source": [
    "df_signals.rename(columns={\n",
    "    'mid_c':'start_price',\n",
    "    'm5_start':'time'\n",
    "},inplace=True)"
   ]
  },
  {
   "cell_type": "code",
   "execution_count": 108,
   "id": "05e31396-aba0-4334-86b8-ea90b0ed2272",
   "metadata": {},
   "outputs": [],
   "source": [
    "merged = pd.merge(left=df_m5_slim,right=df_signals,on='time',how='left')"
   ]
  },
  {
   "cell_type": "code",
   "execution_count": 110,
   "id": "4e6feed5-016b-4082-a693-dd05e248f7b1",
   "metadata": {},
   "outputs": [],
   "source": [
    "merged.fillna(0,inplace=True)"
   ]
  },
  {
   "cell_type": "code",
   "execution_count": 111,
   "id": "492af52e-99ec-4d04-83ce-d8956a92df38",
   "metadata": {},
   "outputs": [],
   "source": [
    "merged.SIGNAL = merged.SIGNAL.astype(int)\n",
    "merged.start_index_h1 = merged.start_index_h1.astype(int)"
   ]
  },
  {
   "cell_type": "code",
   "execution_count": 112,
   "id": "163336de-a4ef-447c-a1a7-451ba9f6cc68",
   "metadata": {},
   "outputs": [
    {
     "data": {
      "text/html": [
       "<div>\n",
       "<style scoped>\n",
       "    .dataframe tbody tr th:only-of-type {\n",
       "        vertical-align: middle;\n",
       "    }\n",
       "\n",
       "    .dataframe tbody tr th {\n",
       "        vertical-align: top;\n",
       "    }\n",
       "\n",
       "    .dataframe thead th {\n",
       "        text-align: right;\n",
       "    }\n",
       "</style>\n",
       "<table border=\"1\" class=\"dataframe\">\n",
       "  <thead>\n",
       "    <tr style=\"text-align: right;\">\n",
       "      <th></th>\n",
       "      <th>time</th>\n",
       "      <th>mid_h</th>\n",
       "      <th>mid_l</th>\n",
       "      <th>start_price</th>\n",
       "      <th>SIGNAL</th>\n",
       "      <th>TP</th>\n",
       "      <th>SL</th>\n",
       "      <th>start_index_h1</th>\n",
       "    </tr>\n",
       "  </thead>\n",
       "  <tbody>\n",
       "    <tr>\n",
       "      <th>0</th>\n",
       "      <td>2016-01-07 00:00:00+00:00</td>\n",
       "      <td>1.07811</td>\n",
       "      <td>1.07759</td>\n",
       "      <td>0.0</td>\n",
       "      <td>0</td>\n",
       "      <td>0.0</td>\n",
       "      <td>0.0</td>\n",
       "      <td>0</td>\n",
       "    </tr>\n",
       "    <tr>\n",
       "      <th>1</th>\n",
       "      <td>2016-01-07 00:05:00+00:00</td>\n",
       "      <td>1.07818</td>\n",
       "      <td>1.07764</td>\n",
       "      <td>0.0</td>\n",
       "      <td>0</td>\n",
       "      <td>0.0</td>\n",
       "      <td>0.0</td>\n",
       "      <td>0</td>\n",
       "    </tr>\n",
       "    <tr>\n",
       "      <th>2</th>\n",
       "      <td>2016-01-07 00:10:00+00:00</td>\n",
       "      <td>1.07832</td>\n",
       "      <td>1.07812</td>\n",
       "      <td>0.0</td>\n",
       "      <td>0</td>\n",
       "      <td>0.0</td>\n",
       "      <td>0.0</td>\n",
       "      <td>0</td>\n",
       "    </tr>\n",
       "    <tr>\n",
       "      <th>3</th>\n",
       "      <td>2016-01-07 00:15:00+00:00</td>\n",
       "      <td>1.07830</td>\n",
       "      <td>1.07798</td>\n",
       "      <td>0.0</td>\n",
       "      <td>0</td>\n",
       "      <td>0.0</td>\n",
       "      <td>0.0</td>\n",
       "      <td>0</td>\n",
       "    </tr>\n",
       "    <tr>\n",
       "      <th>4</th>\n",
       "      <td>2016-01-07 00:20:00+00:00</td>\n",
       "      <td>1.07799</td>\n",
       "      <td>1.07776</td>\n",
       "      <td>0.0</td>\n",
       "      <td>0</td>\n",
       "      <td>0.0</td>\n",
       "      <td>0.0</td>\n",
       "      <td>0</td>\n",
       "    </tr>\n",
       "  </tbody>\n",
       "</table>\n",
       "</div>"
      ],
      "text/plain": [
       "                       time    mid_h    mid_l  start_price  SIGNAL   TP   SL  \\\n",
       "0 2016-01-07 00:00:00+00:00  1.07811  1.07759          0.0       0  0.0  0.0   \n",
       "1 2016-01-07 00:05:00+00:00  1.07818  1.07764          0.0       0  0.0  0.0   \n",
       "2 2016-01-07 00:10:00+00:00  1.07832  1.07812          0.0       0  0.0  0.0   \n",
       "3 2016-01-07 00:15:00+00:00  1.07830  1.07798          0.0       0  0.0  0.0   \n",
       "4 2016-01-07 00:20:00+00:00  1.07799  1.07776          0.0       0  0.0  0.0   \n",
       "\n",
       "   start_index_h1  \n",
       "0               0  \n",
       "1               0  \n",
       "2               0  \n",
       "3               0  \n",
       "4               0  "
      ]
     },
     "execution_count": 112,
     "metadata": {},
     "output_type": "execute_result"
    }
   ],
   "source": [
    "merged.head()"
   ]
  },
  {
   "cell_type": "code",
   "execution_count": 118,
   "id": "7a5d7608-1aa2-4a58-b3a8-272d804ee387",
   "metadata": {},
   "outputs": [],
   "source": [
    "class TradeM5:\n",
    "    def __init__(self,row):\n",
    "        self.running = True\n",
    "        self.start_index_m5 = row.name\n",
    "        self.start_index_h1 = row.start_index_h1\n",
    "        self.start_price = row.start_price\n",
    "        self.trigger_price = row.start_price\n",
    "        self.SIGNAL = row.SIGNAL\n",
    "        self.TP = row.TP\n",
    "        self.SL = row.SL\n",
    "        self.result = 0.0\n",
    "        self.end_time = row.time\n",
    "        self.start_time = row.time\n",
    "        self.duration = 1\n",
    "\n",
    "    def close_trade(self,row,result,trigger_price):\n",
    "        self.running = False\n",
    "        self.result = result\n",
    "        self.end_time = row.time\n",
    "        self.trigger_price = trigger_price\n",
    "\n",
    "    def update(self,row):\n",
    "        self.duration += 1\n",
    "        if self.SIGNAL == BUY:\n",
    "            if row.mid_h >= self.TP:\n",
    "                self.close_trade(row,PROFIT_FACTOR,row.mid_h)\n",
    "            elif row.mid_l <= self.SL:\n",
    "                self.close_trade(row,LOSS_FACTOR,row.mid_l)\n",
    "\n",
    "        if self.SIGNAL == SELL:\n",
    "            if row.mid_l <= self.TP:\n",
    "                self.close_trade(row,PROFIT_FACTOR,row.mid_l)\n",
    "            elif row.mid_h >= self.SL:\n",
    "                self.close_trade(row,LOSS_FACTOR,row.mid_h)"
   ]
  },
  {
   "cell_type": "code",
   "execution_count": 119,
   "id": "4eb123b2-51c4-4a84-a4df-f05704f1b329",
   "metadata": {},
   "outputs": [],
   "source": [
    "open_trades_m5 = []\n",
    "closed_trades_m5 = []\n",
    "\n",
    "for index,row in merged.iterrows():\n",
    "    if row.SIGNAL != NONE:\n",
    "        open_trades_m5.append(TradeM5(row))\n",
    "        \n",
    "    for ot in open_trades_m5:\n",
    "        ot.update(row)\n",
    "        if ot.running == False:\n",
    "            closed_trades_m5.append(ot)\n",
    "\n",
    "    open_trades_m5 = [x for x in open_trades_m5 if x.running == True]\n",
    "\n",
    "    "
   ]
  },
  {
   "cell_type": "code",
   "execution_count": 120,
   "id": "0d73cd88-9a93-46f9-b61e-826e982b1449",
   "metadata": {},
   "outputs": [],
   "source": [
    "df_res_m5 = pd.DataFrame.from_dict([vars(x) for x in closed_trades_m5])"
   ]
  },
  {
   "cell_type": "code",
   "execution_count": 121,
   "id": "eb026944-2340-45c5-9fab-e1966c49f946",
   "metadata": {},
   "outputs": [
    {
     "data": {
      "text/html": [
       "<div>\n",
       "<style scoped>\n",
       "    .dataframe tbody tr th:only-of-type {\n",
       "        vertical-align: middle;\n",
       "    }\n",
       "\n",
       "    .dataframe tbody tr th {\n",
       "        vertical-align: top;\n",
       "    }\n",
       "\n",
       "    .dataframe thead th {\n",
       "        text-align: right;\n",
       "    }\n",
       "</style>\n",
       "<table border=\"1\" class=\"dataframe\">\n",
       "  <thead>\n",
       "    <tr style=\"text-align: right;\">\n",
       "      <th></th>\n",
       "      <th>running</th>\n",
       "      <th>start_index_m5</th>\n",
       "      <th>start_index_h1</th>\n",
       "      <th>start_price</th>\n",
       "      <th>trigger_price</th>\n",
       "      <th>SIGNAL</th>\n",
       "      <th>TP</th>\n",
       "      <th>SL</th>\n",
       "      <th>result</th>\n",
       "      <th>end_time</th>\n",
       "      <th>start_time</th>\n",
       "      <th>duration</th>\n",
       "    </tr>\n",
       "  </thead>\n",
       "  <tbody>\n",
       "    <tr>\n",
       "      <th>0</th>\n",
       "      <td>False</td>\n",
       "      <td>2445</td>\n",
       "      <td>4</td>\n",
       "      <td>1.08630</td>\n",
       "      <td>1.08740</td>\n",
       "      <td>-1</td>\n",
       "      <td>1.084830</td>\n",
       "      <td>1.08728</td>\n",
       "      <td>-1.0</td>\n",
       "      <td>2016-01-19 12:05:00+00:00</td>\n",
       "      <td>2016-01-19 12:00:00+00:00</td>\n",
       "      <td>3</td>\n",
       "    </tr>\n",
       "    <tr>\n",
       "      <th>1</th>\n",
       "      <td>False</td>\n",
       "      <td>2577</td>\n",
       "      <td>15</td>\n",
       "      <td>1.09140</td>\n",
       "      <td>1.09056</td>\n",
       "      <td>1</td>\n",
       "      <td>1.092600</td>\n",
       "      <td>1.09060</td>\n",
       "      <td>-1.0</td>\n",
       "      <td>2016-01-19 23:20:00+00:00</td>\n",
       "      <td>2016-01-19 23:00:00+00:00</td>\n",
       "      <td>6</td>\n",
       "    </tr>\n",
       "    <tr>\n",
       "      <th>2</th>\n",
       "      <td>False</td>\n",
       "      <td>2601</td>\n",
       "      <td>17</td>\n",
       "      <td>1.09214</td>\n",
       "      <td>1.09412</td>\n",
       "      <td>1</td>\n",
       "      <td>1.093670</td>\n",
       "      <td>1.09112</td>\n",
       "      <td>1.5</td>\n",
       "      <td>2016-01-20 03:00:00+00:00</td>\n",
       "      <td>2016-01-20 01:00:00+00:00</td>\n",
       "      <td>26</td>\n",
       "    </tr>\n",
       "    <tr>\n",
       "      <th>3</th>\n",
       "      <td>False</td>\n",
       "      <td>2673</td>\n",
       "      <td>23</td>\n",
       "      <td>1.09546</td>\n",
       "      <td>1.09469</td>\n",
       "      <td>1</td>\n",
       "      <td>1.096285</td>\n",
       "      <td>1.09491</td>\n",
       "      <td>-1.0</td>\n",
       "      <td>2016-01-20 07:30:00+00:00</td>\n",
       "      <td>2016-01-20 07:00:00+00:00</td>\n",
       "      <td>8</td>\n",
       "    </tr>\n",
       "    <tr>\n",
       "      <th>4</th>\n",
       "      <td>False</td>\n",
       "      <td>2697</td>\n",
       "      <td>25</td>\n",
       "      <td>1.09625</td>\n",
       "      <td>1.09370</td>\n",
       "      <td>1</td>\n",
       "      <td>1.099655</td>\n",
       "      <td>1.09398</td>\n",
       "      <td>-1.0</td>\n",
       "      <td>2016-01-20 09:20:00+00:00</td>\n",
       "      <td>2016-01-20 09:00:00+00:00</td>\n",
       "      <td>6</td>\n",
       "    </tr>\n",
       "  </tbody>\n",
       "</table>\n",
       "</div>"
      ],
      "text/plain": [
       "   running  start_index_m5  start_index_h1  start_price  trigger_price  \\\n",
       "0    False            2445               4      1.08630        1.08740   \n",
       "1    False            2577              15      1.09140        1.09056   \n",
       "2    False            2601              17      1.09214        1.09412   \n",
       "3    False            2673              23      1.09546        1.09469   \n",
       "4    False            2697              25      1.09625        1.09370   \n",
       "\n",
       "   SIGNAL        TP       SL  result                  end_time  \\\n",
       "0      -1  1.084830  1.08728    -1.0 2016-01-19 12:05:00+00:00   \n",
       "1       1  1.092600  1.09060    -1.0 2016-01-19 23:20:00+00:00   \n",
       "2       1  1.093670  1.09112     1.5 2016-01-20 03:00:00+00:00   \n",
       "3       1  1.096285  1.09491    -1.0 2016-01-20 07:30:00+00:00   \n",
       "4       1  1.099655  1.09398    -1.0 2016-01-20 09:20:00+00:00   \n",
       "\n",
       "                 start_time  duration  \n",
       "0 2016-01-19 12:00:00+00:00         3  \n",
       "1 2016-01-19 23:00:00+00:00         6  \n",
       "2 2016-01-20 01:00:00+00:00        26  \n",
       "3 2016-01-20 07:00:00+00:00         8  \n",
       "4 2016-01-20 09:00:00+00:00         6  "
      ]
     },
     "execution_count": 121,
     "metadata": {},
     "output_type": "execute_result"
    }
   ],
   "source": [
    "df_res_m5.head()"
   ]
  },
  {
   "cell_type": "code",
   "execution_count": 122,
   "id": "6585c424-bcca-4e26-a386-5f20003b9e6a",
   "metadata": {},
   "outputs": [
    {
     "data": {
      "text/plain": [
       "-27.5"
      ]
     },
     "execution_count": 122,
     "metadata": {},
     "output_type": "execute_result"
    }
   ],
   "source": [
    "df_res_m5.result.sum()"
   ]
  },
  {
   "cell_type": "code",
   "execution_count": null,
   "id": "803a399b-11aa-4c61-a9b3-0bc95f9b1893",
   "metadata": {},
   "outputs": [],
   "source": []
  }
 ],
 "metadata": {
  "kernelspec": {
   "display_name": "Python 3 (ipykernel)",
   "language": "python",
   "name": "python3"
  },
  "language_info": {
   "codemirror_mode": {
    "name": "ipython",
    "version": 3
   },
   "file_extension": ".py",
   "mimetype": "text/x-python",
   "name": "python",
   "nbconvert_exporter": "python",
   "pygments_lexer": "ipython3",
   "version": "3.10.11"
  }
 },
 "nbformat": 4,
 "nbformat_minor": 5
}
