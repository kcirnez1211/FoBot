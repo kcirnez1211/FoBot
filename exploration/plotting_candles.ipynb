{
 "cells": [
  {
   "cell_type": "code",
   "execution_count": 2,
   "id": "17d88982-b05d-4e5b-96b4-e38083c708ca",
   "metadata": {},
   "outputs": [],
   "source": [
    "import pandas as pd\n",
    "import plotly.graph_objects as go\n",
    "import datetime as dt"
   ]
  },
  {
   "cell_type": "code",
   "execution_count": 3,
   "id": "42bfa431-d163-4a51-89c0-df0b0a255ae6",
   "metadata": {},
   "outputs": [],
   "source": [
    "pair = \"EUR_USD\"\n",
    "granularity = \"H4\"\n",
    "df = pd.read_pickle(f\"../data/{pair}_{granularity}.pkl\")"
   ]
  },
  {
   "cell_type": "code",
   "execution_count": 5,
   "id": "17365071-84ff-4e9e-89e4-2c56eb1d97f2",
   "metadata": {},
   "outputs": [
    {
     "data": {
      "text/plain": [
       "(4000, 14)"
      ]
     },
     "execution_count": 5,
     "metadata": {},
     "output_type": "execute_result"
    }
   ],
   "source": [
    "df.shape"
   ]
  },
  {
   "cell_type": "code",
   "execution_count": 41,
   "id": "97e21327-e5a1-42f1-9bc3-bec82cb0d6c5",
   "metadata": {},
   "outputs": [
    {
     "data": {
      "text/html": [
       "<div>\n",
       "<style scoped>\n",
       "    .dataframe tbody tr th:only-of-type {\n",
       "        vertical-align: middle;\n",
       "    }\n",
       "\n",
       "    .dataframe tbody tr th {\n",
       "        vertical-align: top;\n",
       "    }\n",
       "\n",
       "    .dataframe thead th {\n",
       "        text-align: right;\n",
       "    }\n",
       "</style>\n",
       "<table border=\"1\" class=\"dataframe\">\n",
       "  <thead>\n",
       "    <tr style=\"text-align: right;\">\n",
       "      <th></th>\n",
       "      <th>time</th>\n",
       "      <th>volume</th>\n",
       "      <th>mid_o</th>\n",
       "      <th>mid_h</th>\n",
       "      <th>mid_l</th>\n",
       "      <th>mid_c</th>\n",
       "      <th>bid_o</th>\n",
       "      <th>bid_h</th>\n",
       "      <th>bid_l</th>\n",
       "      <th>bid_c</th>\n",
       "      <th>ask_o</th>\n",
       "      <th>ask_h</th>\n",
       "      <th>ask_l</th>\n",
       "      <th>ask_c</th>\n",
       "      <th>sTime</th>\n",
       "    </tr>\n",
       "  </thead>\n",
       "  <tbody>\n",
       "    <tr>\n",
       "      <th>3995</th>\n",
       "      <td>2024-01-31 10:00:00+00:00</td>\n",
       "      <td>19694</td>\n",
       "      <td>1.08226</td>\n",
       "      <td>1.08630</td>\n",
       "      <td>1.08214</td>\n",
       "      <td>1.08576</td>\n",
       "      <td>1.08219</td>\n",
       "      <td>1.08623</td>\n",
       "      <td>1.08206</td>\n",
       "      <td>1.08569</td>\n",
       "      <td>1.08234</td>\n",
       "      <td>1.08637</td>\n",
       "      <td>1.08221</td>\n",
       "      <td>1.08584</td>\n",
       "      <td>s24-01-31 10:00</td>\n",
       "    </tr>\n",
       "    <tr>\n",
       "      <th>3996</th>\n",
       "      <td>2024-01-31 14:00:00+00:00</td>\n",
       "      <td>32671</td>\n",
       "      <td>1.08576</td>\n",
       "      <td>1.08876</td>\n",
       "      <td>1.08420</td>\n",
       "      <td>1.08498</td>\n",
       "      <td>1.08568</td>\n",
       "      <td>1.08868</td>\n",
       "      <td>1.08412</td>\n",
       "      <td>1.08491</td>\n",
       "      <td>1.08585</td>\n",
       "      <td>1.08883</td>\n",
       "      <td>1.08427</td>\n",
       "      <td>1.08505</td>\n",
       "      <td>s24-01-31 14:00</td>\n",
       "    </tr>\n",
       "    <tr>\n",
       "      <th>3997</th>\n",
       "      <td>2024-01-31 18:00:00+00:00</td>\n",
       "      <td>45447</td>\n",
       "      <td>1.08497</td>\n",
       "      <td>1.08644</td>\n",
       "      <td>1.07950</td>\n",
       "      <td>1.08176</td>\n",
       "      <td>1.08490</td>\n",
       "      <td>1.08636</td>\n",
       "      <td>1.07942</td>\n",
       "      <td>1.08168</td>\n",
       "      <td>1.08504</td>\n",
       "      <td>1.08652</td>\n",
       "      <td>1.07957</td>\n",
       "      <td>1.08183</td>\n",
       "      <td>s24-01-31 18:00</td>\n",
       "    </tr>\n",
       "    <tr>\n",
       "      <th>3998</th>\n",
       "      <td>2024-01-31 22:00:00+00:00</td>\n",
       "      <td>8564</td>\n",
       "      <td>1.08172</td>\n",
       "      <td>1.08204</td>\n",
       "      <td>1.08020</td>\n",
       "      <td>1.08090</td>\n",
       "      <td>1.08159</td>\n",
       "      <td>1.08194</td>\n",
       "      <td>1.08012</td>\n",
       "      <td>1.08082</td>\n",
       "      <td>1.08185</td>\n",
       "      <td>1.08214</td>\n",
       "      <td>1.08027</td>\n",
       "      <td>1.08098</td>\n",
       "      <td>s24-01-31 22:00</td>\n",
       "    </tr>\n",
       "    <tr>\n",
       "      <th>3999</th>\n",
       "      <td>2024-02-01 02:00:00+00:00</td>\n",
       "      <td>9291</td>\n",
       "      <td>1.08087</td>\n",
       "      <td>1.08220</td>\n",
       "      <td>1.08027</td>\n",
       "      <td>1.08028</td>\n",
       "      <td>1.08079</td>\n",
       "      <td>1.08212</td>\n",
       "      <td>1.08019</td>\n",
       "      <td>1.08020</td>\n",
       "      <td>1.08095</td>\n",
       "      <td>1.08227</td>\n",
       "      <td>1.08034</td>\n",
       "      <td>1.08035</td>\n",
       "      <td>s24-02-01 02:00</td>\n",
       "    </tr>\n",
       "  </tbody>\n",
       "</table>\n",
       "</div>"
      ],
      "text/plain": [
       "                          time  volume    mid_o    mid_h    mid_l    mid_c  \\\n",
       "3995 2024-01-31 10:00:00+00:00   19694  1.08226  1.08630  1.08214  1.08576   \n",
       "3996 2024-01-31 14:00:00+00:00   32671  1.08576  1.08876  1.08420  1.08498   \n",
       "3997 2024-01-31 18:00:00+00:00   45447  1.08497  1.08644  1.07950  1.08176   \n",
       "3998 2024-01-31 22:00:00+00:00    8564  1.08172  1.08204  1.08020  1.08090   \n",
       "3999 2024-02-01 02:00:00+00:00    9291  1.08087  1.08220  1.08027  1.08028   \n",
       "\n",
       "        bid_o    bid_h    bid_l    bid_c    ask_o    ask_h    ask_l    ask_c  \\\n",
       "3995  1.08219  1.08623  1.08206  1.08569  1.08234  1.08637  1.08221  1.08584   \n",
       "3996  1.08568  1.08868  1.08412  1.08491  1.08585  1.08883  1.08427  1.08505   \n",
       "3997  1.08490  1.08636  1.07942  1.08168  1.08504  1.08652  1.07957  1.08183   \n",
       "3998  1.08159  1.08194  1.08012  1.08082  1.08185  1.08214  1.08027  1.08098   \n",
       "3999  1.08079  1.08212  1.08019  1.08020  1.08095  1.08227  1.08034  1.08035   \n",
       "\n",
       "                sTime  \n",
       "3995  s24-01-31 10:00  \n",
       "3996  s24-01-31 14:00  \n",
       "3997  s24-01-31 18:00  \n",
       "3998  s24-01-31 22:00  \n",
       "3999  s24-02-01 02:00  "
      ]
     },
     "execution_count": 41,
     "metadata": {},
     "output_type": "execute_result"
    }
   ],
   "source": [
    "df.tail()"
   ]
  },
  {
   "cell_type": "code",
   "execution_count": 40,
   "id": "68b6bc40-f682-44b3-abb2-48126511c6ab",
   "metadata": {},
   "outputs": [],
   "source": [
    "df['sTime'] = [dt.datetime.strftime(x,\"s%y-%m-%d %H:%M\") for x in df.time] # we are doing this to remove weekend gaps from the graph"
   ]
  },
  {
   "cell_type": "code",
   "execution_count": 43,
   "id": "71aaef36-9075-45ef-857e-1e1b365ef98e",
   "metadata": {},
   "outputs": [],
   "source": [
    "df_plot = df.iloc[:100]"
   ]
  },
  {
   "cell_type": "code",
   "execution_count": 45,
   "id": "98954a40-f184-47ac-ae2c-af9f28586aaf",
   "metadata": {},
   "outputs": [
    {
     "data": {
      "application/vnd.plotly.v1+json": {
       "config": {
        "plotlyServerURL": "https://plot.ly"
       },
       "data": [
        {
         "close": [
          1.18446,
          1.18461,
          1.18408,
          1.18318,
          1.18324,
          1.18687,
          1.18682,
          1.1877,
          1.18754,
          1.18684,
          1.18708,
          1.18532,
          1.18574,
          1.18604,
          1.18666,
          1.18638,
          1.185,
          1.17994,
          1.18044,
          1.17763,
          1.17764,
          1.17838,
          1.17838,
          1.1822,
          1.18325,
          1.18364,
          1.18336,
          1.18309,
          1.1849,
          1.18066,
          1.1803,
          1.18106,
          1.18116,
          1.18096,
          1.18181,
          1.18019,
          1.18112,
          1.18052,
          1.18021,
          1.18062,
          1.17733,
          1.17869,
          1.1799,
          1.17986,
          1.17949,
          1.17888,
          1.1788,
          1.17726,
          1.17778,
          1.17808,
          1.17798,
          1.17724,
          1.17796,
          1.17661,
          1.17934,
          1.17948,
          1.17884,
          1.17971,
          1.17967,
          1.18,
          1.17628,
          1.17713,
          1.1778,
          1.17679,
          1.17746,
          1.17797,
          1.17684,
          1.17717,
          1.17663,
          1.17786,
          1.1784,
          1.17832,
          1.18124,
          1.1803,
          1.18085,
          1.18024,
          1.17776,
          1.18186,
          1.18363,
          1.18161,
          1.18141,
          1.18198,
          1.1829,
          1.17988,
          1.18144,
          1.18425,
          1.18436,
          1.18564,
          1.18766,
          1.18843,
          1.18848,
          1.1887,
          1.18816,
          1.18785,
          1.19067,
          1.18792,
          1.1859,
          1.18671,
          1.18691,
          1.18706
         ],
         "decreasing": {
          "fillcolor": "#cc2e3c",
          "line": {
           "color": "#ff3a4c"
          }
         },
         "high": [
          1.1868,
          1.18486,
          1.18501,
          1.18437,
          1.18468,
          1.18688,
          1.1875,
          1.18814,
          1.1878,
          1.18802,
          1.188,
          1.18735,
          1.18744,
          1.18622,
          1.18686,
          1.18752,
          1.18655,
          1.18509,
          1.1833,
          1.18044,
          1.17822,
          1.17854,
          1.17994,
          1.1828,
          1.18354,
          1.18388,
          1.18387,
          1.18348,
          1.18508,
          1.18499,
          1.18236,
          1.18131,
          1.1817,
          1.18126,
          1.18196,
          1.18225,
          1.18144,
          1.1819,
          1.18139,
          1.18086,
          1.18086,
          1.17887,
          1.18246,
          1.18026,
          1.18025,
          1.18022,
          1.1795,
          1.18026,
          1.17807,
          1.17861,
          1.17832,
          1.17805,
          1.17824,
          1.17804,
          1.18038,
          1.18048,
          1.18004,
          1.18002,
          1.1802,
          1.18136,
          1.18306,
          1.17762,
          1.178,
          1.17805,
          1.17866,
          1.17811,
          1.17803,
          1.17761,
          1.17749,
          1.17803,
          1.18005,
          1.17995,
          1.18174,
          1.18134,
          1.18123,
          1.1809,
          1.18026,
          1.18196,
          1.18371,
          1.18412,
          1.1824,
          1.18276,
          1.18304,
          1.18292,
          1.18159,
          1.18498,
          1.1847,
          1.1859,
          1.18797,
          1.18854,
          1.18911,
          1.18928,
          1.18944,
          1.18846,
          1.1908,
          1.19088,
          1.18866,
          1.18767,
          1.18712,
          1.18736
         ],
         "increasing": {
          "fillcolor": "#24a06b",
          "line": {
           "color": "#2ec886"
          }
         },
         "line": {
          "width": 1
         },
         "low": [
          1.18368,
          1.18352,
          1.18384,
          1.18316,
          1.1825,
          1.18288,
          1.18555,
          1.18674,
          1.1866,
          1.18654,
          1.1856,
          1.1836,
          1.18508,
          1.18552,
          1.18587,
          1.18622,
          1.18412,
          1.1794,
          1.17918,
          1.17721,
          1.17719,
          1.17758,
          1.17801,
          1.1776,
          1.1813,
          1.18255,
          1.18288,
          1.18212,
          1.18258,
          1.18036,
          1.18006,
          1.17962,
          1.1809,
          1.18021,
          1.17971,
          1.17922,
          1.17958,
          1.1803,
          1.18012,
          1.1798,
          1.17654,
          1.17638,
          1.17838,
          1.17911,
          1.17902,
          1.17882,
          1.17722,
          1.1765,
          1.17556,
          1.1774,
          1.17781,
          1.17702,
          1.17518,
          1.17598,
          1.17623,
          1.17917,
          1.17881,
          1.17867,
          1.17792,
          1.17708,
          1.17574,
          1.17576,
          1.1764,
          1.17674,
          1.1763,
          1.17544,
          1.17549,
          1.17684,
          1.17635,
          1.17654,
          1.17672,
          1.17792,
          1.178,
          1.17992,
          1.17993,
          1.1801,
          1.17701,
          1.17744,
          1.18006,
          1.18152,
          1.18125,
          1.18142,
          1.18022,
          1.17918,
          1.17833,
          1.17722,
          1.18406,
          1.18418,
          1.18502,
          1.18694,
          1.18758,
          1.188,
          1.18813,
          1.18776,
          1.1875,
          1.18774,
          1.18516,
          1.18538,
          1.18623,
          1.1859
         ],
         "opacity": 1,
         "open": [
          1.18514,
          1.18448,
          1.18444,
          1.18406,
          1.1832,
          1.18323,
          1.18686,
          1.18681,
          1.1876,
          1.18756,
          1.18682,
          1.1871,
          1.18533,
          1.18575,
          1.18602,
          1.1867,
          1.18639,
          1.18498,
          1.17996,
          1.18043,
          1.17765,
          1.17766,
          1.17836,
          1.17836,
          1.18222,
          1.18324,
          1.18378,
          1.18338,
          1.1831,
          1.18488,
          1.18066,
          1.18028,
          1.18106,
          1.18117,
          1.18098,
          1.1818,
          1.18018,
          1.18114,
          1.181,
          1.18022,
          1.18061,
          1.17732,
          1.1787,
          1.17991,
          1.17997,
          1.1795,
          1.17886,
          1.17878,
          1.17726,
          1.1778,
          1.17808,
          1.178,
          1.17724,
          1.17797,
          1.17656,
          1.17934,
          1.17932,
          1.17885,
          1.1797,
          1.17966,
          1.17996,
          1.17629,
          1.17702,
          1.17782,
          1.1768,
          1.17744,
          1.17798,
          1.17685,
          1.17735,
          1.17664,
          1.17788,
          1.1784,
          1.1783,
          1.18122,
          1.18034,
          1.18084,
          1.18022,
          1.17777,
          1.18188,
          1.18362,
          1.18173,
          1.18143,
          1.18198,
          1.18292,
          1.17987,
          1.18144,
          1.18442,
          1.18437,
          1.18565,
          1.18765,
          1.18841,
          1.18846,
          1.18885,
          1.18817,
          1.18784,
          1.19068,
          1.18793,
          1.18592,
          1.18623,
          1.18692
         ],
         "type": "candlestick",
         "x": [
          "s21-07-08 13:00",
          "s21-07-08 17:00",
          "s21-07-08 21:00",
          "s21-07-09 01:00",
          "s21-07-09 05:00",
          "s21-07-09 09:00",
          "s21-07-09 13:00",
          "s21-07-09 17:00",
          "s21-07-11 21:00",
          "s21-07-12 01:00",
          "s21-07-12 05:00",
          "s21-07-12 09:00",
          "s21-07-12 13:00",
          "s21-07-12 17:00",
          "s21-07-12 21:00",
          "s21-07-13 01:00",
          "s21-07-13 05:00",
          "s21-07-13 09:00",
          "s21-07-13 13:00",
          "s21-07-13 17:00",
          "s21-07-13 21:00",
          "s21-07-14 01:00",
          "s21-07-14 05:00",
          "s21-07-14 09:00",
          "s21-07-14 13:00",
          "s21-07-14 17:00",
          "s21-07-14 21:00",
          "s21-07-15 01:00",
          "s21-07-15 05:00",
          "s21-07-15 09:00",
          "s21-07-15 13:00",
          "s21-07-15 17:00",
          "s21-07-15 21:00",
          "s21-07-16 01:00",
          "s21-07-16 05:00",
          "s21-07-16 09:00",
          "s21-07-16 13:00",
          "s21-07-16 17:00",
          "s21-07-18 21:00",
          "s21-07-19 01:00",
          "s21-07-19 05:00",
          "s21-07-19 09:00",
          "s21-07-19 13:00",
          "s21-07-19 17:00",
          "s21-07-19 21:00",
          "s21-07-20 01:00",
          "s21-07-20 05:00",
          "s21-07-20 09:00",
          "s21-07-20 13:00",
          "s21-07-20 17:00",
          "s21-07-20 21:00",
          "s21-07-21 01:00",
          "s21-07-21 05:00",
          "s21-07-21 09:00",
          "s21-07-21 13:00",
          "s21-07-21 17:00",
          "s21-07-21 21:00",
          "s21-07-22 01:00",
          "s21-07-22 05:00",
          "s21-07-22 09:00",
          "s21-07-22 13:00",
          "s21-07-22 17:00",
          "s21-07-22 21:00",
          "s21-07-23 01:00",
          "s21-07-23 05:00",
          "s21-07-23 09:00",
          "s21-07-23 13:00",
          "s21-07-23 17:00",
          "s21-07-25 21:00",
          "s21-07-26 01:00",
          "s21-07-26 05:00",
          "s21-07-26 09:00",
          "s21-07-26 13:00",
          "s21-07-26 17:00",
          "s21-07-26 21:00",
          "s21-07-27 01:00",
          "s21-07-27 05:00",
          "s21-07-27 09:00",
          "s21-07-27 13:00",
          "s21-07-27 17:00",
          "s21-07-27 21:00",
          "s21-07-28 01:00",
          "s21-07-28 05:00",
          "s21-07-28 09:00",
          "s21-07-28 13:00",
          "s21-07-28 17:00",
          "s21-07-28 21:00",
          "s21-07-29 01:00",
          "s21-07-29 05:00",
          "s21-07-29 09:00",
          "s21-07-29 13:00",
          "s21-07-29 17:00",
          "s21-07-29 21:00",
          "s21-07-30 01:00",
          "s21-07-30 05:00",
          "s21-07-30 09:00",
          "s21-07-30 13:00",
          "s21-07-30 17:00",
          "s21-08-01 21:00",
          "s21-08-02 01:00"
         ]
        }
       ],
       "layout": {
        "autosize": true,
        "font": {
         "color": "#e1e1e1"
        },
        "margin": {
         "b": 10,
         "l": 10,
         "r": 10,
         "t": 10
        },
        "paper_bgcolor": "#2c303c",
        "plot_bgcolor": "#2c303c",
        "template": {
         "data": {
          "bar": [
           {
            "error_x": {
             "color": "#2a3f5f"
            },
            "error_y": {
             "color": "#2a3f5f"
            },
            "marker": {
             "line": {
              "color": "#E5ECF6",
              "width": 0.5
             },
             "pattern": {
              "fillmode": "overlay",
              "size": 10,
              "solidity": 0.2
             }
            },
            "type": "bar"
           }
          ],
          "barpolar": [
           {
            "marker": {
             "line": {
              "color": "#E5ECF6",
              "width": 0.5
             },
             "pattern": {
              "fillmode": "overlay",
              "size": 10,
              "solidity": 0.2
             }
            },
            "type": "barpolar"
           }
          ],
          "carpet": [
           {
            "aaxis": {
             "endlinecolor": "#2a3f5f",
             "gridcolor": "white",
             "linecolor": "white",
             "minorgridcolor": "white",
             "startlinecolor": "#2a3f5f"
            },
            "baxis": {
             "endlinecolor": "#2a3f5f",
             "gridcolor": "white",
             "linecolor": "white",
             "minorgridcolor": "white",
             "startlinecolor": "#2a3f5f"
            },
            "type": "carpet"
           }
          ],
          "choropleth": [
           {
            "colorbar": {
             "outlinewidth": 0,
             "ticks": ""
            },
            "type": "choropleth"
           }
          ],
          "contour": [
           {
            "colorbar": {
             "outlinewidth": 0,
             "ticks": ""
            },
            "colorscale": [
             [
              0,
              "#0d0887"
             ],
             [
              0.1111111111111111,
              "#46039f"
             ],
             [
              0.2222222222222222,
              "#7201a8"
             ],
             [
              0.3333333333333333,
              "#9c179e"
             ],
             [
              0.4444444444444444,
              "#bd3786"
             ],
             [
              0.5555555555555556,
              "#d8576b"
             ],
             [
              0.6666666666666666,
              "#ed7953"
             ],
             [
              0.7777777777777778,
              "#fb9f3a"
             ],
             [
              0.8888888888888888,
              "#fdca26"
             ],
             [
              1,
              "#f0f921"
             ]
            ],
            "type": "contour"
           }
          ],
          "contourcarpet": [
           {
            "colorbar": {
             "outlinewidth": 0,
             "ticks": ""
            },
            "type": "contourcarpet"
           }
          ],
          "heatmap": [
           {
            "colorbar": {
             "outlinewidth": 0,
             "ticks": ""
            },
            "colorscale": [
             [
              0,
              "#0d0887"
             ],
             [
              0.1111111111111111,
              "#46039f"
             ],
             [
              0.2222222222222222,
              "#7201a8"
             ],
             [
              0.3333333333333333,
              "#9c179e"
             ],
             [
              0.4444444444444444,
              "#bd3786"
             ],
             [
              0.5555555555555556,
              "#d8576b"
             ],
             [
              0.6666666666666666,
              "#ed7953"
             ],
             [
              0.7777777777777778,
              "#fb9f3a"
             ],
             [
              0.8888888888888888,
              "#fdca26"
             ],
             [
              1,
              "#f0f921"
             ]
            ],
            "type": "heatmap"
           }
          ],
          "heatmapgl": [
           {
            "colorbar": {
             "outlinewidth": 0,
             "ticks": ""
            },
            "colorscale": [
             [
              0,
              "#0d0887"
             ],
             [
              0.1111111111111111,
              "#46039f"
             ],
             [
              0.2222222222222222,
              "#7201a8"
             ],
             [
              0.3333333333333333,
              "#9c179e"
             ],
             [
              0.4444444444444444,
              "#bd3786"
             ],
             [
              0.5555555555555556,
              "#d8576b"
             ],
             [
              0.6666666666666666,
              "#ed7953"
             ],
             [
              0.7777777777777778,
              "#fb9f3a"
             ],
             [
              0.8888888888888888,
              "#fdca26"
             ],
             [
              1,
              "#f0f921"
             ]
            ],
            "type": "heatmapgl"
           }
          ],
          "histogram": [
           {
            "marker": {
             "pattern": {
              "fillmode": "overlay",
              "size": 10,
              "solidity": 0.2
             }
            },
            "type": "histogram"
           }
          ],
          "histogram2d": [
           {
            "colorbar": {
             "outlinewidth": 0,
             "ticks": ""
            },
            "colorscale": [
             [
              0,
              "#0d0887"
             ],
             [
              0.1111111111111111,
              "#46039f"
             ],
             [
              0.2222222222222222,
              "#7201a8"
             ],
             [
              0.3333333333333333,
              "#9c179e"
             ],
             [
              0.4444444444444444,
              "#bd3786"
             ],
             [
              0.5555555555555556,
              "#d8576b"
             ],
             [
              0.6666666666666666,
              "#ed7953"
             ],
             [
              0.7777777777777778,
              "#fb9f3a"
             ],
             [
              0.8888888888888888,
              "#fdca26"
             ],
             [
              1,
              "#f0f921"
             ]
            ],
            "type": "histogram2d"
           }
          ],
          "histogram2dcontour": [
           {
            "colorbar": {
             "outlinewidth": 0,
             "ticks": ""
            },
            "colorscale": [
             [
              0,
              "#0d0887"
             ],
             [
              0.1111111111111111,
              "#46039f"
             ],
             [
              0.2222222222222222,
              "#7201a8"
             ],
             [
              0.3333333333333333,
              "#9c179e"
             ],
             [
              0.4444444444444444,
              "#bd3786"
             ],
             [
              0.5555555555555556,
              "#d8576b"
             ],
             [
              0.6666666666666666,
              "#ed7953"
             ],
             [
              0.7777777777777778,
              "#fb9f3a"
             ],
             [
              0.8888888888888888,
              "#fdca26"
             ],
             [
              1,
              "#f0f921"
             ]
            ],
            "type": "histogram2dcontour"
           }
          ],
          "mesh3d": [
           {
            "colorbar": {
             "outlinewidth": 0,
             "ticks": ""
            },
            "type": "mesh3d"
           }
          ],
          "parcoords": [
           {
            "line": {
             "colorbar": {
              "outlinewidth": 0,
              "ticks": ""
             }
            },
            "type": "parcoords"
           }
          ],
          "pie": [
           {
            "automargin": true,
            "type": "pie"
           }
          ],
          "scatter": [
           {
            "fillpattern": {
             "fillmode": "overlay",
             "size": 10,
             "solidity": 0.2
            },
            "type": "scatter"
           }
          ],
          "scatter3d": [
           {
            "line": {
             "colorbar": {
              "outlinewidth": 0,
              "ticks": ""
             }
            },
            "marker": {
             "colorbar": {
              "outlinewidth": 0,
              "ticks": ""
             }
            },
            "type": "scatter3d"
           }
          ],
          "scattercarpet": [
           {
            "marker": {
             "colorbar": {
              "outlinewidth": 0,
              "ticks": ""
             }
            },
            "type": "scattercarpet"
           }
          ],
          "scattergeo": [
           {
            "marker": {
             "colorbar": {
              "outlinewidth": 0,
              "ticks": ""
             }
            },
            "type": "scattergeo"
           }
          ],
          "scattergl": [
           {
            "marker": {
             "colorbar": {
              "outlinewidth": 0,
              "ticks": ""
             }
            },
            "type": "scattergl"
           }
          ],
          "scattermapbox": [
           {
            "marker": {
             "colorbar": {
              "outlinewidth": 0,
              "ticks": ""
             }
            },
            "type": "scattermapbox"
           }
          ],
          "scatterpolar": [
           {
            "marker": {
             "colorbar": {
              "outlinewidth": 0,
              "ticks": ""
             }
            },
            "type": "scatterpolar"
           }
          ],
          "scatterpolargl": [
           {
            "marker": {
             "colorbar": {
              "outlinewidth": 0,
              "ticks": ""
             }
            },
            "type": "scatterpolargl"
           }
          ],
          "scatterternary": [
           {
            "marker": {
             "colorbar": {
              "outlinewidth": 0,
              "ticks": ""
             }
            },
            "type": "scatterternary"
           }
          ],
          "surface": [
           {
            "colorbar": {
             "outlinewidth": 0,
             "ticks": ""
            },
            "colorscale": [
             [
              0,
              "#0d0887"
             ],
             [
              0.1111111111111111,
              "#46039f"
             ],
             [
              0.2222222222222222,
              "#7201a8"
             ],
             [
              0.3333333333333333,
              "#9c179e"
             ],
             [
              0.4444444444444444,
              "#bd3786"
             ],
             [
              0.5555555555555556,
              "#d8576b"
             ],
             [
              0.6666666666666666,
              "#ed7953"
             ],
             [
              0.7777777777777778,
              "#fb9f3a"
             ],
             [
              0.8888888888888888,
              "#fdca26"
             ],
             [
              1,
              "#f0f921"
             ]
            ],
            "type": "surface"
           }
          ],
          "table": [
           {
            "cells": {
             "fill": {
              "color": "#EBF0F8"
             },
             "line": {
              "color": "white"
             }
            },
            "header": {
             "fill": {
              "color": "#C8D4E3"
             },
             "line": {
              "color": "white"
             }
            },
            "type": "table"
           }
          ]
         },
         "layout": {
          "annotationdefaults": {
           "arrowcolor": "#2a3f5f",
           "arrowhead": 0,
           "arrowwidth": 1
          },
          "autotypenumbers": "strict",
          "coloraxis": {
           "colorbar": {
            "outlinewidth": 0,
            "ticks": ""
           }
          },
          "colorscale": {
           "diverging": [
            [
             0,
             "#8e0152"
            ],
            [
             0.1,
             "#c51b7d"
            ],
            [
             0.2,
             "#de77ae"
            ],
            [
             0.3,
             "#f1b6da"
            ],
            [
             0.4,
             "#fde0ef"
            ],
            [
             0.5,
             "#f7f7f7"
            ],
            [
             0.6,
             "#e6f5d0"
            ],
            [
             0.7,
             "#b8e186"
            ],
            [
             0.8,
             "#7fbc41"
            ],
            [
             0.9,
             "#4d9221"
            ],
            [
             1,
             "#276419"
            ]
           ],
           "sequential": [
            [
             0,
             "#0d0887"
            ],
            [
             0.1111111111111111,
             "#46039f"
            ],
            [
             0.2222222222222222,
             "#7201a8"
            ],
            [
             0.3333333333333333,
             "#9c179e"
            ],
            [
             0.4444444444444444,
             "#bd3786"
            ],
            [
             0.5555555555555556,
             "#d8576b"
            ],
            [
             0.6666666666666666,
             "#ed7953"
            ],
            [
             0.7777777777777778,
             "#fb9f3a"
            ],
            [
             0.8888888888888888,
             "#fdca26"
            ],
            [
             1,
             "#f0f921"
            ]
           ],
           "sequentialminus": [
            [
             0,
             "#0d0887"
            ],
            [
             0.1111111111111111,
             "#46039f"
            ],
            [
             0.2222222222222222,
             "#7201a8"
            ],
            [
             0.3333333333333333,
             "#9c179e"
            ],
            [
             0.4444444444444444,
             "#bd3786"
            ],
            [
             0.5555555555555556,
             "#d8576b"
            ],
            [
             0.6666666666666666,
             "#ed7953"
            ],
            [
             0.7777777777777778,
             "#fb9f3a"
            ],
            [
             0.8888888888888888,
             "#fdca26"
            ],
            [
             1,
             "#f0f921"
            ]
           ]
          },
          "colorway": [
           "#636efa",
           "#EF553B",
           "#00cc96",
           "#ab63fa",
           "#FFA15A",
           "#19d3f3",
           "#FF6692",
           "#B6E880",
           "#FF97FF",
           "#FECB52"
          ],
          "font": {
           "color": "#2a3f5f"
          },
          "geo": {
           "bgcolor": "white",
           "lakecolor": "white",
           "landcolor": "#E5ECF6",
           "showlakes": true,
           "showland": true,
           "subunitcolor": "white"
          },
          "hoverlabel": {
           "align": "left"
          },
          "hovermode": "closest",
          "mapbox": {
           "style": "light"
          },
          "paper_bgcolor": "white",
          "plot_bgcolor": "#E5ECF6",
          "polar": {
           "angularaxis": {
            "gridcolor": "white",
            "linecolor": "white",
            "ticks": ""
           },
           "bgcolor": "#E5ECF6",
           "radialaxis": {
            "gridcolor": "white",
            "linecolor": "white",
            "ticks": ""
           }
          },
          "scene": {
           "xaxis": {
            "backgroundcolor": "#E5ECF6",
            "gridcolor": "white",
            "gridwidth": 2,
            "linecolor": "white",
            "showbackground": true,
            "ticks": "",
            "zerolinecolor": "white"
           },
           "yaxis": {
            "backgroundcolor": "#E5ECF6",
            "gridcolor": "white",
            "gridwidth": 2,
            "linecolor": "white",
            "showbackground": true,
            "ticks": "",
            "zerolinecolor": "white"
           },
           "zaxis": {
            "backgroundcolor": "#E5ECF6",
            "gridcolor": "white",
            "gridwidth": 2,
            "linecolor": "white",
            "showbackground": true,
            "ticks": "",
            "zerolinecolor": "white"
           }
          },
          "shapedefaults": {
           "line": {
            "color": "#2a3f5f"
           }
          },
          "ternary": {
           "aaxis": {
            "gridcolor": "white",
            "linecolor": "white",
            "ticks": ""
           },
           "baxis": {
            "gridcolor": "white",
            "linecolor": "white",
            "ticks": ""
           },
           "bgcolor": "#E5ECF6",
           "caxis": {
            "gridcolor": "white",
            "linecolor": "white",
            "ticks": ""
           }
          },
          "title": {
           "x": 0.05
          },
          "xaxis": {
           "automargin": true,
           "gridcolor": "white",
           "linecolor": "white",
           "ticks": "",
           "title": {
            "standoff": 15
           },
           "zerolinecolor": "white",
           "zerolinewidth": 2
          },
          "yaxis": {
           "automargin": true,
           "gridcolor": "white",
           "linecolor": "white",
           "ticks": "",
           "title": {
            "standoff": 15
           },
           "zerolinecolor": "white",
           "zerolinewidth": 2
          }
         }
        },
        "xaxis": {
         "autorange": true,
         "gridcolor": "#1f292f",
         "nticks": 5,
         "range": [
          -0.5,
          99.5
         ],
         "rangeslider": {
          "visible": false,
          "yaxis": {}
         },
         "type": "category"
        },
        "yaxis": {
         "autorange": true,
         "gridcolor": "#1f292f",
         "range": [
          1.1743077777777777,
          1.191752222222222
         ]
        }
       }
      },
      "image/png": "[encoded data removed]",
      "text/html": [
       "<div>                            <div id=\"a1d05f7d-c777-4fc2-a956-ca0f54422e82\" class=\"plotly-graph-div\" style=\"height:400px; width:100%;\"></div>            <script type=\"text/javascript\">                require([\"plotly\"], function(Plotly) {                    window.PLOTLYENV=window.PLOTLYENV || {};                                    if (document.getElementById(\"a1d05f7d-c777-4fc2-a956-ca0f54422e82\")) {                    Plotly.newPlot(                        \"a1d05f7d-c777-4fc2-a956-ca0f54422e82\",                        [{\"close\":[1.18446,1.18461,1.18408,1.18318,1.18324,1.18687,1.18682,1.1877,1.18754,1.18684,1.18708,1.18532,1.18574,1.18604,1.18666,1.18638,1.185,1.17994,1.18044,1.17763,1.17764,1.17838,1.17838,1.1822,1.18325,1.18364,1.18336,1.18309,1.1849,1.18066,1.1803,1.18106,1.18116,1.18096,1.18181,1.18019,1.18112,1.18052,1.18021,1.18062,1.17733,1.17869,1.1799,1.17986,1.17949,1.17888,1.1788,1.17726,1.17778,1.17808,1.17798,1.17724,1.17796,1.17661,1.17934,1.17948,1.17884,1.17971,1.17967,1.18,1.17628,1.17713,1.1778,1.17679,1.17746,1.17797,1.17684,1.17717,1.17663,1.17786,1.1784,1.17832,1.18124,1.1803,1.18085,1.18024,1.17776,1.18186,1.18363,1.18161,1.18141,1.18198,1.1829,1.17988,1.18144,1.18425,1.18436,1.18564,1.18766,1.18843,1.18848,1.1887,1.18816,1.18785,1.19067,1.18792,1.1859,1.18671,1.18691,1.18706],\"decreasing\":{\"fillcolor\":\"#cc2e3c\",\"line\":{\"color\":\"#ff3a4c\"}},\"high\":[1.1868,1.18486,1.18501,1.18437,1.18468,1.18688,1.1875,1.18814,1.1878,1.18802,1.188,1.18735,1.18744,1.18622,1.18686,1.18752,1.18655,1.18509,1.1833,1.18044,1.17822,1.17854,1.17994,1.1828,1.18354,1.18388,1.18387,1.18348,1.18508,1.18499,1.18236,1.18131,1.1817,1.18126,1.18196,1.18225,1.18144,1.1819,1.18139,1.18086,1.18086,1.17887,1.18246,1.18026,1.18025,1.18022,1.1795,1.18026,1.17807,1.17861,1.17832,1.17805,1.17824,1.17804,1.18038,1.18048,1.18004,1.18002,1.1802,1.18136,1.18306,1.17762,1.178,1.17805,1.17866,1.17811,1.17803,1.17761,1.17749,1.17803,1.18005,1.17995,1.18174,1.18134,1.18123,1.1809,1.18026,1.18196,1.18371,1.18412,1.1824,1.18276,1.18304,1.18292,1.18159,1.18498,1.1847,1.1859,1.18797,1.18854,1.18911,1.18928,1.18944,1.18846,1.1908,1.19088,1.18866,1.18767,1.18712,1.18736],\"increasing\":{\"fillcolor\":\"#24a06b\",\"line\":{\"color\":\"#2ec886\"}},\"line\":{\"width\":1},\"low\":[1.18368,1.18352,1.18384,1.18316,1.1825,1.18288,1.18555,1.18674,1.1866,1.18654,1.1856,1.1836,1.18508,1.18552,1.18587,1.18622,1.18412,1.1794,1.17918,1.17721,1.17719,1.17758,1.17801,1.1776,1.1813,1.18255,1.18288,1.18212,1.18258,1.18036,1.18006,1.17962,1.1809,1.18021,1.17971,1.17922,1.17958,1.1803,1.18012,1.1798,1.17654,1.17638,1.17838,1.17911,1.17902,1.17882,1.17722,1.1765,1.17556,1.1774,1.17781,1.17702,1.17518,1.17598,1.17623,1.17917,1.17881,1.17867,1.17792,1.17708,1.17574,1.17576,1.1764,1.17674,1.1763,1.17544,1.17549,1.17684,1.17635,1.17654,1.17672,1.17792,1.178,1.17992,1.17993,1.1801,1.17701,1.17744,1.18006,1.18152,1.18125,1.18142,1.18022,1.17918,1.17833,1.17722,1.18406,1.18418,1.18502,1.18694,1.18758,1.188,1.18813,1.18776,1.1875,1.18774,1.18516,1.18538,1.18623,1.1859],\"opacity\":1,\"open\":[1.18514,1.18448,1.18444,1.18406,1.1832,1.18323,1.18686,1.18681,1.1876,1.18756,1.18682,1.1871,1.18533,1.18575,1.18602,1.1867,1.18639,1.18498,1.17996,1.18043,1.17765,1.17766,1.17836,1.17836,1.18222,1.18324,1.18378,1.18338,1.1831,1.18488,1.18066,1.18028,1.18106,1.18117,1.18098,1.1818,1.18018,1.18114,1.181,1.18022,1.18061,1.17732,1.1787,1.17991,1.17997,1.1795,1.17886,1.17878,1.17726,1.1778,1.17808,1.178,1.17724,1.17797,1.17656,1.17934,1.17932,1.17885,1.1797,1.17966,1.17996,1.17629,1.17702,1.17782,1.1768,1.17744,1.17798,1.17685,1.17735,1.17664,1.17788,1.1784,1.1783,1.18122,1.18034,1.18084,1.18022,1.17777,1.18188,1.18362,1.18173,1.18143,1.18198,1.18292,1.17987,1.18144,1.18442,1.18437,1.18565,1.18765,1.18841,1.18846,1.18885,1.18817,1.18784,1.19068,1.18793,1.18592,1.18623,1.18692],\"x\":[\"s21-07-08 13:00\",\"s21-07-08 17:00\",\"s21-07-08 21:00\",\"s21-07-09 01:00\",\"s21-07-09 05:00\",\"s21-07-09 09:00\",\"s21-07-09 13:00\",\"s21-07-09 17:00\",\"s21-07-11 21:00\",\"s21-07-12 01:00\",\"s21-07-12 05:00\",\"s21-07-12 09:00\",\"s21-07-12 13:00\",\"s21-07-12 17:00\",\"s21-07-12 21:00\",\"s21-07-13 01:00\",\"s21-07-13 05:00\",\"s21-07-13 09:00\",\"s21-07-13 13:00\",\"s21-07-13 17:00\",\"s21-07-13 21:00\",\"s21-07-14 01:00\",\"s21-07-14 05:00\",\"s21-07-14 09:00\",\"s21-07-14 13:00\",\"s21-07-14 17:00\",\"s21-07-14 21:00\",\"s21-07-15 01:00\",\"s21-07-15 05:00\",\"s21-07-15 09:00\",\"s21-07-15 13:00\",\"s21-07-15 17:00\",\"s21-07-15 21:00\",\"s21-07-16 01:00\",\"s21-07-16 05:00\",\"s21-07-16 09:00\",\"s21-07-16 13:00\",\"s21-07-16 17:00\",\"s21-07-18 21:00\",\"s21-07-19 01:00\",\"s21-07-19 05:00\",\"s21-07-19 09:00\",\"s21-07-19 13:00\",\"s21-07-19 17:00\",\"s21-07-19 21:00\",\"s21-07-20 01:00\",\"s21-07-20 05:00\",\"s21-07-20 09:00\",\"s21-07-20 13:00\",\"s21-07-20 17:00\",\"s21-07-20 21:00\",\"s21-07-21 01:00\",\"s21-07-21 05:00\",\"s21-07-21 09:00\",\"s21-07-21 13:00\",\"s21-07-21 17:00\",\"s21-07-21 21:00\",\"s21-07-22 01:00\",\"s21-07-22 05:00\",\"s21-07-22 09:00\",\"s21-07-22 13:00\",\"s21-07-22 17:00\",\"s21-07-22 21:00\",\"s21-07-23 01:00\",\"s21-07-23 05:00\",\"s21-07-23 09:00\",\"s21-07-23 13:00\",\"s21-07-23 17:00\",\"s21-07-25 21:00\",\"s21-07-26 01:00\",\"s21-07-26 05:00\",\"s21-07-26 09:00\",\"s21-07-26 13:00\",\"s21-07-26 17:00\",\"s21-07-26 21:00\",\"s21-07-27 01:00\",\"s21-07-27 05:00\",\"s21-07-27 09:00\",\"s21-07-27 13:00\",\"s21-07-27 17:00\",\"s21-07-27 21:00\",\"s21-07-28 01:00\",\"s21-07-28 05:00\",\"s21-07-28 09:00\",\"s21-07-28 13:00\",\"s21-07-28 17:00\",\"s21-07-28 21:00\",\"s21-07-29 01:00\",\"s21-07-29 05:00\",\"s21-07-29 09:00\",\"s21-07-29 13:00\",\"s21-07-29 17:00\",\"s21-07-29 21:00\",\"s21-07-30 01:00\",\"s21-07-30 05:00\",\"s21-07-30 09:00\",\"s21-07-30 13:00\",\"s21-07-30 17:00\",\"s21-08-01 21:00\",\"s21-08-02 01:00\"],\"type\":\"candlestick\"}],                        {\"template\":{\"data\":{\"histogram2dcontour\":[{\"type\":\"histogram2dcontour\",\"colorbar\":{\"outlinewidth\":0,\"ticks\":\"\"},\"colorscale\":[[0.0,\"#0d0887\"],[0.1111111111111111,\"#46039f\"],[0.2222222222222222,\"#7201a8\"],[0.3333333333333333,\"#9c179e\"],[0.4444444444444444,\"#bd3786\"],[0.5555555555555556,\"#d8576b\"],[0.6666666666666666,\"#ed7953\"],[0.7777777777777778,\"#fb9f3a\"],[0.8888888888888888,\"#fdca26\"],[1.0,\"#f0f921\"]]}],\"choropleth\":[{\"type\":\"choropleth\",\"colorbar\":{\"outlinewidth\":0,\"ticks\":\"\"}}],\"histogram2d\":[{\"type\":\"histogram2d\",\"colorbar\":{\"outlinewidth\":0,\"ticks\":\"\"},\"colorscale\":[[0.0,\"#0d0887\"],[0.1111111111111111,\"#46039f\"],[0.2222222222222222,\"#7201a8\"],[0.3333333333333333,\"#9c179e\"],[0.4444444444444444,\"#bd3786\"],[0.5555555555555556,\"#d8576b\"],[0.6666666666666666,\"#ed7953\"],[0.7777777777777778,\"#fb9f3a\"],[0.8888888888888888,\"#fdca26\"],[1.0,\"#f0f921\"]]}],\"heatmap\":[{\"type\":\"heatmap\",\"colorbar\":{\"outlinewidth\":0,\"ticks\":\"\"},\"colorscale\":[[0.0,\"#0d0887\"],[0.1111111111111111,\"#46039f\"],[0.2222222222222222,\"#7201a8\"],[0.3333333333333333,\"#9c179e\"],[0.4444444444444444,\"#bd3786\"],[0.5555555555555556,\"#d8576b\"],[0.6666666666666666,\"#ed7953\"],[0.7777777777777778,\"#fb9f3a\"],[0.8888888888888888,\"#fdca26\"],[1.0,\"#f0f921\"]]}],\"heatmapgl\":[{\"type\":\"heatmapgl\",\"colorbar\":{\"outlinewidth\":0,\"ticks\":\"\"},\"colorscale\":[[0.0,\"#0d0887\"],[0.1111111111111111,\"#46039f\"],[0.2222222222222222,\"#7201a8\"],[0.3333333333333333,\"#9c179e\"],[0.4444444444444444,\"#bd3786\"],[0.5555555555555556,\"#d8576b\"],[0.6666666666666666,\"#ed7953\"],[0.7777777777777778,\"#fb9f3a\"],[0.8888888888888888,\"#fdca26\"],[1.0,\"#f0f921\"]]}],\"contourcarpet\":[{\"type\":\"contourcarpet\",\"colorbar\":{\"outlinewidth\":0,\"ticks\":\"\"}}],\"contour\":[{\"type\":\"contour\",\"colorbar\":{\"outlinewidth\":0,\"ticks\":\"\"},\"colorscale\":[[0.0,\"#0d0887\"],[0.1111111111111111,\"#46039f\"],[0.2222222222222222,\"#7201a8\"],[0.3333333333333333,\"#9c179e\"],[0.4444444444444444,\"#bd3786\"],[0.5555555555555556,\"#d8576b\"],[0.6666666666666666,\"#ed7953\"],[0.7777777777777778,\"#fb9f3a\"],[0.8888888888888888,\"#fdca26\"],[1.0,\"#f0f921\"]]}],\"surface\":[{\"type\":\"surface\",\"colorbar\":{\"outlinewidth\":0,\"ticks\":\"\"},\"colorscale\":[[0.0,\"#0d0887\"],[0.1111111111111111,\"#46039f\"],[0.2222222222222222,\"#7201a8\"],[0.3333333333333333,\"#9c179e\"],[0.4444444444444444,\"#bd3786\"],[0.5555555555555556,\"#d8576b\"],[0.6666666666666666,\"#ed7953\"],[0.7777777777777778,\"#fb9f3a\"],[0.8888888888888888,\"#fdca26\"],[1.0,\"#f0f921\"]]}],\"mesh3d\":[{\"type\":\"mesh3d\",\"colorbar\":{\"outlinewidth\":0,\"ticks\":\"\"}}],\"scatter\":[{\"fillpattern\":{\"fillmode\":\"overlay\",\"size\":10,\"solidity\":0.2},\"type\":\"scatter\"}],\"parcoords\":[{\"type\":\"parcoords\",\"line\":{\"colorbar\":{\"outlinewidth\":0,\"ticks\":\"\"}}}],\"scatterpolargl\":[{\"type\":\"scatterpolargl\",\"marker\":{\"colorbar\":{\"outlinewidth\":0,\"ticks\":\"\"}}}],\"bar\":[{\"error_x\":{\"color\":\"#2a3f5f\"},\"error_y\":{\"color\":\"#2a3f5f\"},\"marker\":{\"line\":{\"color\":\"#E5ECF6\",\"width\":0.5},\"pattern\":{\"fillmode\":\"overlay\",\"size\":10,\"solidity\":0.2}},\"type\":\"bar\"}],\"scattergeo\":[{\"type\":\"scattergeo\",\"marker\":{\"colorbar\":{\"outlinewidth\":0,\"ticks\":\"\"}}}],\"scatterpolar\":[{\"type\":\"scatterpolar\",\"marker\":{\"colorbar\":{\"outlinewidth\":0,\"ticks\":\"\"}}}],\"histogram\":[{\"marker\":{\"pattern\":{\"fillmode\":\"overlay\",\"size\":10,\"solidity\":0.2}},\"type\":\"histogram\"}],\"scattergl\":[{\"type\":\"scattergl\",\"marker\":{\"colorbar\":{\"outlinewidth\":0,\"ticks\":\"\"}}}],\"scatter3d\":[{\"type\":\"scatter3d\",\"line\":{\"colorbar\":{\"outlinewidth\":0,\"ticks\":\"\"}},\"marker\":{\"colorbar\":{\"outlinewidth\":0,\"ticks\":\"\"}}}],\"scattermapbox\":[{\"type\":\"scattermapbox\",\"marker\":{\"colorbar\":{\"outlinewidth\":0,\"ticks\":\"\"}}}],\"scatterternary\":[{\"type\":\"scatterternary\",\"marker\":{\"colorbar\":{\"outlinewidth\":0,\"ticks\":\"\"}}}],\"scattercarpet\":[{\"type\":\"scattercarpet\",\"marker\":{\"colorbar\":{\"outlinewidth\":0,\"ticks\":\"\"}}}],\"carpet\":[{\"aaxis\":{\"endlinecolor\":\"#2a3f5f\",\"gridcolor\":\"white\",\"linecolor\":\"white\",\"minorgridcolor\":\"white\",\"startlinecolor\":\"#2a3f5f\"},\"baxis\":{\"endlinecolor\":\"#2a3f5f\",\"gridcolor\":\"white\",\"linecolor\":\"white\",\"minorgridcolor\":\"white\",\"startlinecolor\":\"#2a3f5f\"},\"type\":\"carpet\"}],\"table\":[{\"cells\":{\"fill\":{\"color\":\"#EBF0F8\"},\"line\":{\"color\":\"white\"}},\"header\":{\"fill\":{\"color\":\"#C8D4E3\"},\"line\":{\"color\":\"white\"}},\"type\":\"table\"}],\"barpolar\":[{\"marker\":{\"line\":{\"color\":\"#E5ECF6\",\"width\":0.5},\"pattern\":{\"fillmode\":\"overlay\",\"size\":10,\"solidity\":0.2}},\"type\":\"barpolar\"}],\"pie\":[{\"automargin\":true,\"type\":\"pie\"}]},\"layout\":{\"autotypenumbers\":\"strict\",\"colorway\":[\"#636efa\",\"#EF553B\",\"#00cc96\",\"#ab63fa\",\"#FFA15A\",\"#19d3f3\",\"#FF6692\",\"#B6E880\",\"#FF97FF\",\"#FECB52\"],\"font\":{\"color\":\"#2a3f5f\"},\"hovermode\":\"closest\",\"hoverlabel\":{\"align\":\"left\"},\"paper_bgcolor\":\"white\",\"plot_bgcolor\":\"#E5ECF6\",\"polar\":{\"bgcolor\":\"#E5ECF6\",\"angularaxis\":{\"gridcolor\":\"white\",\"linecolor\":\"white\",\"ticks\":\"\"},\"radialaxis\":{\"gridcolor\":\"white\",\"linecolor\":\"white\",\"ticks\":\"\"}},\"ternary\":{\"bgcolor\":\"#E5ECF6\",\"aaxis\":{\"gridcolor\":\"white\",\"linecolor\":\"white\",\"ticks\":\"\"},\"baxis\":{\"gridcolor\":\"white\",\"linecolor\":\"white\",\"ticks\":\"\"},\"caxis\":{\"gridcolor\":\"white\",\"linecolor\":\"white\",\"ticks\":\"\"}},\"coloraxis\":{\"colorbar\":{\"outlinewidth\":0,\"ticks\":\"\"}},\"colorscale\":{\"sequential\":[[0.0,\"#0d0887\"],[0.1111111111111111,\"#46039f\"],[0.2222222222222222,\"#7201a8\"],[0.3333333333333333,\"#9c179e\"],[0.4444444444444444,\"#bd3786\"],[0.5555555555555556,\"#d8576b\"],[0.6666666666666666,\"#ed7953\"],[0.7777777777777778,\"#fb9f3a\"],[0.8888888888888888,\"#fdca26\"],[1.0,\"#f0f921\"]],\"sequentialminus\":[[0.0,\"#0d0887\"],[0.1111111111111111,\"#46039f\"],[0.2222222222222222,\"#7201a8\"],[0.3333333333333333,\"#9c179e\"],[0.4444444444444444,\"#bd3786\"],[0.5555555555555556,\"#d8576b\"],[0.6666666666666666,\"#ed7953\"],[0.7777777777777778,\"#fb9f3a\"],[0.8888888888888888,\"#fdca26\"],[1.0,\"#f0f921\"]],\"diverging\":[[0,\"#8e0152\"],[0.1,\"#c51b7d\"],[0.2,\"#de77ae\"],[0.3,\"#f1b6da\"],[0.4,\"#fde0ef\"],[0.5,\"#f7f7f7\"],[0.6,\"#e6f5d0\"],[0.7,\"#b8e186\"],[0.8,\"#7fbc41\"],[0.9,\"#4d9221\"],[1,\"#276419\"]]},\"xaxis\":{\"gridcolor\":\"white\",\"linecolor\":\"white\",\"ticks\":\"\",\"title\":{\"standoff\":15},\"zerolinecolor\":\"white\",\"automargin\":true,\"zerolinewidth\":2},\"yaxis\":{\"gridcolor\":\"white\",\"linecolor\":\"white\",\"ticks\":\"\",\"title\":{\"standoff\":15},\"zerolinecolor\":\"white\",\"automargin\":true,\"zerolinewidth\":2},\"scene\":{\"xaxis\":{\"backgroundcolor\":\"#E5ECF6\",\"gridcolor\":\"white\",\"linecolor\":\"white\",\"showbackground\":true,\"ticks\":\"\",\"zerolinecolor\":\"white\",\"gridwidth\":2},\"yaxis\":{\"backgroundcolor\":\"#E5ECF6\",\"gridcolor\":\"white\",\"linecolor\":\"white\",\"showbackground\":true,\"ticks\":\"\",\"zerolinecolor\":\"white\",\"gridwidth\":2},\"zaxis\":{\"backgroundcolor\":\"#E5ECF6\",\"gridcolor\":\"white\",\"linecolor\":\"white\",\"showbackground\":true,\"ticks\":\"\",\"zerolinecolor\":\"white\",\"gridwidth\":2}},\"shapedefaults\":{\"line\":{\"color\":\"#2a3f5f\"}},\"annotationdefaults\":{\"arrowcolor\":\"#2a3f5f\",\"arrowhead\":0,\"arrowwidth\":1},\"geo\":{\"bgcolor\":\"white\",\"landcolor\":\"#E5ECF6\",\"subunitcolor\":\"white\",\"showland\":true,\"showlakes\":true,\"lakecolor\":\"white\"},\"title\":{\"x\":0.05},\"mapbox\":{\"style\":\"light\"}}},\"yaxis\":{\"gridcolor\":\"#1f292f\"},\"xaxis\":{\"rangeslider\":{\"visible\":false},\"gridcolor\":\"#1f292f\",\"nticks\":5},\"margin\":{\"l\":10,\"r\":10,\"t\":10,\"b\":10},\"font\":{\"color\":\"#e1e1e1\"},\"height\":400,\"paper_bgcolor\":\"#2c303c\",\"plot_bgcolor\":\"#2c303c\"},                        {\"responsive\": true}                    ).then(function(){\n",
       "                            \n",
       "var gd = document.getElementById('a1d05f7d-c777-4fc2-a956-ca0f54422e82');\n",
       "var x = new MutationObserver(function (mutations, observer) {{\n",
       "        var display = window.getComputedStyle(gd).display;\n",
       "        if (!display || display === 'none') {{\n",
       "            console.log([gd, 'removed!']);\n",
       "            Plotly.purge(gd);\n",
       "            observer.disconnect();\n",
       "        }}\n",
       "}});\n",
       "\n",
       "// Listen for the removal of the full notebook cells\n",
       "var notebookContainer = gd.closest('#notebook-container');\n",
       "if (notebookContainer) {{\n",
       "    x.observe(notebookContainer, {childList: true});\n",
       "}}\n",
       "\n",
       "// Listen for the clearing of the current output cell\n",
       "var outputEl = gd.closest('.output');\n",
       "if (outputEl) {{\n",
       "    x.observe(outputEl, {childList: true});\n",
       "}}\n",
       "\n",
       "                        })                };                });            </script>        </div>"
      ]
     },
     "metadata": {},
     "output_type": "display_data"
    }
   ],
   "source": [
    "fig = go.Figure()\n",
    "fig.add_trace(go.Candlestick(\n",
    "    x = df_plot.sTime,\n",
    "    open = df_plot.mid_o,\n",
    "    high = df_plot.mid_h,\n",
    "    low = df_plot.mid_l,\n",
    "    close = df_plot.mid_c,\n",
    "    line = dict(width=1),\n",
    "    opacity = 1,\n",
    "    increasing_fillcolor = \"#24a06b\",\n",
    "    decreasing_fillcolor = \"#cc2e3c\",\n",
    "    increasing_line_color = \"#2ec886\",\n",
    "    decreasing_line_color = \"#ff3a4c\",\n",
    "))\n",
    "\n",
    "fig.update_yaxes(\n",
    "    gridcolor = \"#1f292f\"\n",
    ")\n",
    "\n",
    "fig.update_xaxes(\n",
    "    gridcolor = \"#1f292f\",\n",
    "    rangeslider = dict(visible=False),\n",
    "    nticks=5,\n",
    ")\n",
    "\n",
    "fig.update_layout(\n",
    "    height = 400,\n",
    "    margin = dict(l=10,r=10,t=10,b=10),\n",
    "    paper_bgcolor = \"#2c303c\",\n",
    "    plot_bgcolor = \"#2c303c\",\n",
    "    font = dict(color=\"#e1e1e1\")\n",
    ")\n",
    "\n",
    "fig.show()"
   ]
  },
  {
   "cell_type": "code",
   "execution_count": null,
   "id": "7f5c9b79-4a1a-46d0-8f33-f774520ed2ad",
   "metadata": {},
   "outputs": [],
   "source": []
  },
  {
   "cell_type": "code",
   "execution_count": null,
   "id": "38bcb6e0-3881-4176-9e9a-813fa2cc63c7",
   "metadata": {},
   "outputs": [],
   "source": []
  }
 ],
 "metadata": {
  "kernelspec": {
   "display_name": "Python 3 (ipykernel)",
   "language": "python",
   "name": "python3"
  },
  "language_info": {
   "codemirror_mode": {
    "name": "ipython",
    "version": 3
   },
   "file_extension": ".py",
   "mimetype": "text/x-python",
   "name": "python",
   "nbconvert_exporter": "python",
   "pygments_lexer": "ipython3",
   "version": "3.10.11"
  }
 },
 "nbformat": 4,
 "nbformat_minor": 5
}
