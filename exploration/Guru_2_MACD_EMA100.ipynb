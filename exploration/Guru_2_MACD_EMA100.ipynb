{
 "cells": [
  {
   "cell_type": "code",
   "execution_count": 1,
   "id": "d45bb3a8",
   "metadata": {},
   "outputs": [],
   "source": [
    "import sys\n",
    "sys.path.append(\"../\")"
   ]
  },
  {
   "cell_type": "code",
   "execution_count": 8,
   "id": "2276616b",
   "metadata": {},
   "outputs": [],
   "source": [
    "import pandas as pd\n",
    "import datetime as dt\n",
    "from technicals.indicators import MACD\n",
    "from simulation.guru_tester import GuruTester"
   ]
  },
  {
   "cell_type": "code",
   "execution_count": 3,
   "id": "a0d4271d",
   "metadata": {},
   "outputs": [],
   "source": [
    "BUY = 1\n",
    "SELL = -1\n",
    "NONE = 0\n",
    "def apply_signal(row):\n",
    "    if row.direction == BUY and row.mid_l > row.EMA_100:\n",
    "        return BUY\n",
    "    if row.direction == SELL and row.mid_h < row.EMA_100:\n",
    "        return SELL\n",
    "    return NONE        "
   ]
  },
  {
   "cell_type": "code",
   "execution_count": 6,
   "id": "9fdc9088-4f5b-43a3-819a-fad67cc9b99b",
   "metadata": {},
   "outputs": [],
   "source": [
    "    pair = \"EUR_USD\"\n",
    "    df_an = pd.read_pickle(f\"../data/{pair}_H1.pkl\")\n",
    "    df_m5 = pd.read_pickle(f\"../data/{pair}_M5.pkl\")\n",
    "    df_an.reset_index(drop=True, inplace=True)\n",
    "    df_m5.reset_index(drop=True, inplace=True)"
   ]
  },
  {
   "cell_type": "code",
   "execution_count": 9,
   "id": "58631e84-dc5a-4e61-85fb-6ab2068cc088",
   "metadata": {},
   "outputs": [],
   "source": [
    "df_an = MACD(df_an)\n",
    "df_an['EMA_100'] = df_an.mid_c.ewm(span=100, min_periods=100).mean()\n",
    "df_an.dropna(inplace=True)\n",
    "df_an.reset_index(drop=True, inplace=True)"
   ]
  },
  {
   "cell_type": "code",
   "execution_count": 10,
   "id": "41c8d817-522b-42bd-a9df-81a103166724",
   "metadata": {},
   "outputs": [
    {
     "data": {
      "text/html": [
       "<div>\n",
       "<style scoped>\n",
       "    .dataframe tbody tr th:only-of-type {\n",
       "        vertical-align: middle;\n",
       "    }\n",
       "\n",
       "    .dataframe tbody tr th {\n",
       "        vertical-align: top;\n",
       "    }\n",
       "\n",
       "    .dataframe thead th {\n",
       "        text-align: right;\n",
       "    }\n",
       "</style>\n",
       "<table border=\"1\" class=\"dataframe\">\n",
       "  <thead>\n",
       "    <tr style=\"text-align: right;\">\n",
       "      <th></th>\n",
       "      <th>time</th>\n",
       "      <th>volume</th>\n",
       "      <th>mid_o</th>\n",
       "      <th>mid_h</th>\n",
       "      <th>mid_l</th>\n",
       "      <th>mid_c</th>\n",
       "      <th>bid_o</th>\n",
       "      <th>bid_h</th>\n",
       "      <th>bid_l</th>\n",
       "      <th>bid_c</th>\n",
       "      <th>ask_o</th>\n",
       "      <th>ask_h</th>\n",
       "      <th>ask_l</th>\n",
       "      <th>ask_c</th>\n",
       "      <th>MACD</th>\n",
       "      <th>SIGNAL</th>\n",
       "      <th>HIST</th>\n",
       "      <th>EMA_100</th>\n",
       "    </tr>\n",
       "  </thead>\n",
       "  <tbody>\n",
       "    <tr>\n",
       "      <th>0</th>\n",
       "      <td>2016-01-13 03:00:00+00:00</td>\n",
       "      <td>450</td>\n",
       "      <td>1.0829</td>\n",
       "      <td>1.08324</td>\n",
       "      <td>1.08247</td>\n",
       "      <td>1.0825</td>\n",
       "      <td>1.08282</td>\n",
       "      <td>1.08316</td>\n",
       "      <td>1.0824</td>\n",
       "      <td>1.08243</td>\n",
       "      <td>1.08297</td>\n",
       "      <td>1.08331</td>\n",
       "      <td>1.08254</td>\n",
       "      <td>1.08258</td>\n",
       "      <td>-0.001062</td>\n",
       "      <td>-0.000931</td>\n",
       "      <td>-0.000131</td>\n",
       "      <td>1.086813</td>\n",
       "    </tr>\n",
       "  </tbody>\n",
       "</table>\n",
       "</div>"
      ],
      "text/plain": [
       "                       time  volume   mid_o    mid_h    mid_l   mid_c  \\\n",
       "0 2016-01-13 03:00:00+00:00     450  1.0829  1.08324  1.08247  1.0825   \n",
       "\n",
       "     bid_o    bid_h   bid_l    bid_c    ask_o    ask_h    ask_l    ask_c  \\\n",
       "0  1.08282  1.08316  1.0824  1.08243  1.08297  1.08331  1.08254  1.08258   \n",
       "\n",
       "       MACD    SIGNAL      HIST   EMA_100  \n",
       "0 -0.001062 -0.000931 -0.000131  1.086813  "
      ]
     },
     "execution_count": 10,
     "metadata": {},
     "output_type": "execute_result"
    }
   ],
   "source": [
    "df_an.head(1)"
   ]
  },
  {
   "cell_type": "code",
   "execution_count": 11,
   "id": "ae9f99d0-e354-4f7b-8454-cf304f3eb054",
   "metadata": {},
   "outputs": [],
   "source": [
    "def apply_cross(row):\n",
    "    if row.macd_delta > 0 and row.macd_delta_prev < 0:\n",
    "        return BUY\n",
    "    if row.macd_delta < 0 and row.macd_delta_prev > 0:\n",
    "        return SELL\n",
    "    return NONE"
   ]
  },
  {
   "cell_type": "code",
   "execution_count": 12,
   "id": "00a38020-b573-4649-ad82-57d31b4dca90",
   "metadata": {},
   "outputs": [],
   "source": [
    "df_an['macd_delta'] = df_an.MACD - df_an.SIGNAL\n",
    "df_an['macd_delta_prev'] = df_an.macd_delta.shift(1)\n",
    "df_an['direction'] = df_an.apply(apply_cross,axis=1)"
   ]
  },
  {
   "cell_type": "code",
   "execution_count": 13,
   "id": "ad9686aa-c739-458f-a93e-83e5457d789d",
   "metadata": {},
   "outputs": [
    {
     "data": {
      "text/plain": [
       "direction\n",
       " 0    34175\n",
       " 1     1473\n",
       "-1     1472\n",
       "Name: count, dtype: int64"
      ]
     },
     "execution_count": 13,
     "metadata": {},
     "output_type": "execute_result"
    }
   ],
   "source": [
    "df_an.direction.value_counts()"
   ]
  },
  {
   "cell_type": "code",
   "execution_count": null,
   "id": "8fdd8c91-cf98-4bc6-9984-35523b7025de",
   "metadata": {},
   "outputs": [],
   "source": []
  },
  {
   "cell_type": "code",
   "execution_count": null,
   "id": "7b1bdfc1-aba8-495e-832f-c0bf1673351a",
   "metadata": {},
   "outputs": [],
   "source": []
  },
  {
   "cell_type": "code",
   "execution_count": null,
   "id": "49d0a2e4-de35-4403-a31b-20f3e8156733",
   "metadata": {},
   "outputs": [],
   "source": []
  },
  {
   "cell_type": "code",
   "execution_count": null,
   "id": "257780e8-74d8-47f7-9364-e13a3c4954ae",
   "metadata": {},
   "outputs": [],
   "source": []
  },
  {
   "cell_type": "code",
   "execution_count": null,
   "id": "486fdb9d-cfbd-4733-930e-f14b9886f18a",
   "metadata": {},
   "outputs": [],
   "source": []
  },
  {
   "cell_type": "code",
   "execution_count": 14,
   "id": "314355c3",
   "metadata": {},
   "outputs": [],
   "source": [
    "def run_pair(pair,time_d=1):\n",
    "    df_an = pd.read_pickle(f\"../data/{pair}_H{time_d}.pkl\")\n",
    "    df_m5 = pd.read_pickle(f\"../data/{pair}_M5.pkl\")\n",
    "    df_an.reset_index(drop=True, inplace=True)\n",
    "    df_m5.reset_index(drop=True, inplace=True)\n",
    "    df_an = MACD(df_an)\n",
    "    \n",
    "    df_an['EMA_100'] = df_an.mid_c.ewm(span=100, min_periods=100).mean()\n",
    "\n",
    "    df_an['macd_delta'] = df_an.MACD - df_an.SIGNAL\n",
    "    df_an['macd_delta_prev'] = df_an.macd_delta.shift(1)\n",
    "    df_an['direction'] = df_an.apply(apply_cross,axis=1)\n",
    "        \n",
    "    our_cols = ['time', 'mid_o', 'mid_h', 'mid_l', 'mid_c',\n",
    "            'bid_o', 'bid_h', 'bid_l', 'bid_c', \n",
    "            'ask_o', 'ask_h', 'ask_l', 'ask_c',\n",
    "           'direction', 'EMA_100' ]\n",
    "    df_slim = df_an[our_cols].copy()\n",
    "    df_slim.dropna(inplace=True)\n",
    "    \n",
    "    df_slim.reset_index(drop=True, inplace=True)\n",
    "    gt = GuruTester(\n",
    "        df_slim,\n",
    "        apply_signal,\n",
    "        df_m5,\n",
    "        use_spread=True,\n",
    "        time_d=time_d\n",
    "    )\n",
    "    \n",
    "    gt.run_test()\n",
    "    return gt.df_results\n",
    "    "
   ]
  },
  {
   "cell_type": "code",
   "execution_count": 15,
   "id": "36fab442",
   "metadata": {},
   "outputs": [
    {
     "name": "stdout",
     "output_type": "stream",
     "text": [
      "prepare_data...\n",
      "run_test...\n",
      "Result: -554.5\n",
      "prepare_data...\n",
      "run_test...\n",
      "Result: -53.0\n",
      "prepare_data...\n",
      "run_test...\n",
      "Result: 22.0\n",
      "prepare_data...\n",
      "run_test...\n",
      "Result: -124.5\n"
     ]
    }
   ],
   "source": [
    "res = []\n",
    "for p in [\"AUD_NZD\", \"EUR_USD\", \"GBP_JPY\", \"USD_CAD\" ]:\n",
    "    res.append(dict(pair=p,res=run_pair(p,time_d=1)))"
   ]
  },
  {
   "cell_type": "code",
   "execution_count": 16,
   "id": "d9b1f5f0",
   "metadata": {},
   "outputs": [
    {
     "name": "stdout",
     "output_type": "stream",
     "text": [
      "AUD_NZD -554.5\n",
      "EUR_USD -53.0\n",
      "GBP_JPY 22.0\n",
      "USD_CAD -124.5\n"
     ]
    }
   ],
   "source": [
    "for r in res:\n",
    "    print(r['pair'], r['res'].result.sum())"
   ]
  },
  {
   "cell_type": "code",
   "execution_count": 17,
   "id": "b3aae0b2",
   "metadata": {},
   "outputs": [
    {
     "name": "stdout",
     "output_type": "stream",
     "text": [
      "prepare_data...\n",
      "run_test...\n",
      "Result: -56.0\n",
      "prepare_data...\n",
      "run_test...\n",
      "Result: 12.0\n",
      "prepare_data...\n",
      "run_test...\n",
      "Result: 26.5\n",
      "prepare_data...\n",
      "run_test...\n",
      "Result: -39.0\n",
      "AUD_NZD -56.0\n",
      "EUR_USD 12.0\n",
      "GBP_JPY 26.5\n",
      "USD_CAD -39.0\n"
     ]
    }
   ],
   "source": [
    "res = []\n",
    "for p in [\"AUD_NZD\", \"EUR_USD\", \"GBP_JPY\", \"USD_CAD\" ]:\n",
    "    res.append(dict(pair=p,res=run_pair(p,time_d=4)))\n",
    "for r in res:\n",
    "    print(r['pair'], r['res'].result.sum())"
   ]
  },
  {
   "cell_type": "code",
   "execution_count": null,
   "id": "990d4bde",
   "metadata": {},
   "outputs": [],
   "source": []
  },
  {
   "cell_type": "code",
   "execution_count": null,
   "id": "3f968cf3",
   "metadata": {},
   "outputs": [],
   "source": []
  }
 ],
 "metadata": {
  "kernelspec": {
   "display_name": "Python 3 (ipykernel)",
   "language": "python",
   "name": "python3"
  },
  "language_info": {
   "codemirror_mode": {
    "name": "ipython",
    "version": 3
   },
   "file_extension": ".py",
   "mimetype": "text/x-python",
   "name": "python",
   "nbconvert_exporter": "python",
   "pygments_lexer": "ipython3",
   "version": "3.10.11"
  }
 },
 "nbformat": 4,
 "nbformat_minor": 5
}
